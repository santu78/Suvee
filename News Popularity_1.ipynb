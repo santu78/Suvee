{
 "cells": [
  {
   "cell_type": "code",
   "execution_count": 1,
   "metadata": {},
   "outputs": [],
   "source": [
    "import os\n",
    "os.chdir(\"E:/machine hack/News_Popularity\")"
   ]
  },
  {
   "cell_type": "code",
   "execution_count": 2,
   "metadata": {},
   "outputs": [],
   "source": [
    "import pandas as pd\n",
    "import numpy as np\n",
    "import matplotlib.pyplot as plt\n",
    "import seaborn as sns"
   ]
  },
  {
   "cell_type": "code",
   "execution_count": 3,
   "metadata": {},
   "outputs": [],
   "source": [
    "from sklearn.feature_selection import RFE\n",
    "from sklearn.model_selection import train_test_split\n",
    "from sklearn.model_selection import cross_val_score\n",
    "from sklearn.model_selection import KFold\n",
    "from sklearn.pipeline import Pipeline"
   ]
  },
  {
   "cell_type": "code",
   "execution_count": 4,
   "metadata": {},
   "outputs": [],
   "source": [
    "train = pd.read_csv(\"Train.csv\")"
   ]
  },
  {
   "cell_type": "code",
   "execution_count": 52,
   "metadata": {},
   "outputs": [],
   "source": [
    "test = pd.read_csv(\"Test.csv\")"
   ]
  },
  {
   "cell_type": "code",
   "execution_count": 5,
   "metadata": {},
   "outputs": [
    {
     "name": "stdout",
     "output_type": "stream",
     "text": [
      "<class 'pandas.core.frame.DataFrame'>\n",
      "RangeIndex: 7928 entries, 0 to 7927\n",
      "Data columns (total 59 columns):\n",
      " #   Column                         Non-Null Count  Dtype  \n",
      "---  ------                         --------------  -----  \n",
      " 0   n_tokens_title                 7928 non-null   float64\n",
      " 1   n_tokens_content               7928 non-null   float64\n",
      " 2   n_unique_tokens                7928 non-null   float64\n",
      " 3   n_non_stop_words               7928 non-null   float64\n",
      " 4   n_non_stop_unique_tokens       7928 non-null   float64\n",
      " 5   num_hrefs                      7928 non-null   float64\n",
      " 6   num_self_hrefs                 7928 non-null   float64\n",
      " 7   num_imgs                       7928 non-null   float64\n",
      " 8   num_videos                     7928 non-null   float64\n",
      " 9   average_token_length           7928 non-null   float64\n",
      " 10  num_keywords                   7928 non-null   float64\n",
      " 11  data_channel_is_lifestyle      7928 non-null   float64\n",
      " 12  data_channel_is_entertainment  7928 non-null   float64\n",
      " 13  data_channel_is_bus            7928 non-null   float64\n",
      " 14  data_channel_is_socmed         7928 non-null   float64\n",
      " 15  data_channel_is_tech           7928 non-null   float64\n",
      " 16  data_channel_is_world          7928 non-null   float64\n",
      " 17  kw_min_min                     7928 non-null   float64\n",
      " 18  kw_max_min                     7928 non-null   float64\n",
      " 19  kw_avg_min                     7928 non-null   float64\n",
      " 20  kw_min_max                     7928 non-null   float64\n",
      " 21  kw_max_max                     7928 non-null   float64\n",
      " 22  kw_avg_max                     7928 non-null   float64\n",
      " 23  kw_min_avg                     7928 non-null   float64\n",
      " 24  kw_max_avg                     7928 non-null   float64\n",
      " 25  kw_avg_avg                     7928 non-null   float64\n",
      " 26  self_reference_min_shares      7928 non-null   float64\n",
      " 27  self_reference_max_shares      7928 non-null   float64\n",
      " 28  self_reference_avg_sharess     7928 non-null   float64\n",
      " 29  weekday_is_monday              7928 non-null   float64\n",
      " 30  weekday_is_tuesday             7928 non-null   float64\n",
      " 31  weekday_is_wednesday           7928 non-null   float64\n",
      " 32  weekday_is_thursday            7928 non-null   float64\n",
      " 33  weekday_is_friday              7928 non-null   float64\n",
      " 34  weekday_is_saturday            7928 non-null   float64\n",
      " 35  weekday_is_sunday              7928 non-null   float64\n",
      " 36  is_weekend                     7928 non-null   float64\n",
      " 37  LDA_00                         7928 non-null   float64\n",
      " 38  LDA_01                         7928 non-null   float64\n",
      " 39  LDA_02                         7928 non-null   float64\n",
      " 40  LDA_03                         7928 non-null   float64\n",
      " 41  LDA_04                         7928 non-null   float64\n",
      " 42  global_subjectivity            7928 non-null   float64\n",
      " 43  global_sentiment_polarity      7928 non-null   float64\n",
      " 44  global_rate_positive_words     7928 non-null   float64\n",
      " 45  global_rate_negative_words     7928 non-null   float64\n",
      " 46  rate_positive_words            7928 non-null   float64\n",
      " 47  rate_negative_words            7928 non-null   float64\n",
      " 48  avg_positive_polarity          7928 non-null   float64\n",
      " 49  min_positive_polarity          7928 non-null   float64\n",
      " 50  max_positive_polarity          7928 non-null   float64\n",
      " 51  avg_negative_polarity          7928 non-null   float64\n",
      " 52  min_negative_polarity          7928 non-null   float64\n",
      " 53  max_negative_polarity          7928 non-null   float64\n",
      " 54  title_subjectivity             7928 non-null   float64\n",
      " 55  title_sentiment_polarity       7928 non-null   float64\n",
      " 56  abs_title_subjectivity         7928 non-null   float64\n",
      " 57  abs_title_sentiment_polarity   7928 non-null   float64\n",
      " 58  shares                         7928 non-null   float64\n",
      "dtypes: float64(59)\n",
      "memory usage: 3.6 MB\n"
     ]
    }
   ],
   "source": [
    "train.info()"
   ]
  },
  {
   "cell_type": "code",
   "execution_count": 6,
   "metadata": {},
   "outputs": [
    {
     "data": {
      "text/html": [
       "<div>\n",
       "<style scoped>\n",
       "    .dataframe tbody tr th:only-of-type {\n",
       "        vertical-align: middle;\n",
       "    }\n",
       "\n",
       "    .dataframe tbody tr th {\n",
       "        vertical-align: top;\n",
       "    }\n",
       "\n",
       "    .dataframe thead th {\n",
       "        text-align: right;\n",
       "    }\n",
       "</style>\n",
       "<table border=\"1\" class=\"dataframe\">\n",
       "  <thead>\n",
       "    <tr style=\"text-align: right;\">\n",
       "      <th></th>\n",
       "      <th>n_tokens_title</th>\n",
       "      <th>n_tokens_content</th>\n",
       "      <th>n_unique_tokens</th>\n",
       "      <th>n_non_stop_words</th>\n",
       "      <th>n_non_stop_unique_tokens</th>\n",
       "      <th>num_hrefs</th>\n",
       "      <th>num_self_hrefs</th>\n",
       "      <th>num_imgs</th>\n",
       "      <th>num_videos</th>\n",
       "      <th>average_token_length</th>\n",
       "      <th>...</th>\n",
       "      <th>min_positive_polarity</th>\n",
       "      <th>max_positive_polarity</th>\n",
       "      <th>avg_negative_polarity</th>\n",
       "      <th>min_negative_polarity</th>\n",
       "      <th>max_negative_polarity</th>\n",
       "      <th>title_subjectivity</th>\n",
       "      <th>title_sentiment_polarity</th>\n",
       "      <th>abs_title_subjectivity</th>\n",
       "      <th>abs_title_sentiment_polarity</th>\n",
       "      <th>shares</th>\n",
       "    </tr>\n",
       "  </thead>\n",
       "  <tbody>\n",
       "    <tr>\n",
       "      <th>0</th>\n",
       "      <td>9.0</td>\n",
       "      <td>286.0</td>\n",
       "      <td>0.552727</td>\n",
       "      <td>1.0</td>\n",
       "      <td>0.612903</td>\n",
       "      <td>6.0</td>\n",
       "      <td>4.0</td>\n",
       "      <td>2.0</td>\n",
       "      <td>1.0</td>\n",
       "      <td>4.702797</td>\n",
       "      <td>...</td>\n",
       "      <td>0.136364</td>\n",
       "      <td>1.0</td>\n",
       "      <td>0.000000</td>\n",
       "      <td>0.0</td>\n",
       "      <td>0.00</td>\n",
       "      <td>0.000000</td>\n",
       "      <td>0.000000</td>\n",
       "      <td>0.500000</td>\n",
       "      <td>0.000000</td>\n",
       "      <td>4751.0</td>\n",
       "    </tr>\n",
       "    <tr>\n",
       "      <th>1</th>\n",
       "      <td>10.0</td>\n",
       "      <td>96.0</td>\n",
       "      <td>0.702128</td>\n",
       "      <td>1.0</td>\n",
       "      <td>0.796875</td>\n",
       "      <td>4.0</td>\n",
       "      <td>3.0</td>\n",
       "      <td>10.0</td>\n",
       "      <td>1.0</td>\n",
       "      <td>4.458333</td>\n",
       "      <td>...</td>\n",
       "      <td>0.200000</td>\n",
       "      <td>0.5</td>\n",
       "      <td>-0.650000</td>\n",
       "      <td>-0.7</td>\n",
       "      <td>-0.60</td>\n",
       "      <td>1.000000</td>\n",
       "      <td>0.500000</td>\n",
       "      <td>0.500000</td>\n",
       "      <td>0.500000</td>\n",
       "      <td>1821.0</td>\n",
       "    </tr>\n",
       "    <tr>\n",
       "      <th>2</th>\n",
       "      <td>9.0</td>\n",
       "      <td>399.0</td>\n",
       "      <td>0.675532</td>\n",
       "      <td>1.0</td>\n",
       "      <td>0.813433</td>\n",
       "      <td>21.0</td>\n",
       "      <td>1.0</td>\n",
       "      <td>20.0</td>\n",
       "      <td>0.0</td>\n",
       "      <td>4.859649</td>\n",
       "      <td>...</td>\n",
       "      <td>0.100000</td>\n",
       "      <td>0.6</td>\n",
       "      <td>-0.180208</td>\n",
       "      <td>-0.4</td>\n",
       "      <td>-0.10</td>\n",
       "      <td>0.535714</td>\n",
       "      <td>0.285714</td>\n",
       "      <td>0.035714</td>\n",
       "      <td>0.285714</td>\n",
       "      <td>1420.0</td>\n",
       "    </tr>\n",
       "    <tr>\n",
       "      <th>3</th>\n",
       "      <td>11.0</td>\n",
       "      <td>1388.0</td>\n",
       "      <td>0.482156</td>\n",
       "      <td>1.0</td>\n",
       "      <td>0.685446</td>\n",
       "      <td>40.0</td>\n",
       "      <td>4.0</td>\n",
       "      <td>2.0</td>\n",
       "      <td>5.0</td>\n",
       "      <td>4.562680</td>\n",
       "      <td>...</td>\n",
       "      <td>0.033333</td>\n",
       "      <td>1.0</td>\n",
       "      <td>-0.260965</td>\n",
       "      <td>-0.5</td>\n",
       "      <td>-0.05</td>\n",
       "      <td>1.000000</td>\n",
       "      <td>-0.500000</td>\n",
       "      <td>0.500000</td>\n",
       "      <td>0.500000</td>\n",
       "      <td>52.0</td>\n",
       "    </tr>\n",
       "    <tr>\n",
       "      <th>4</th>\n",
       "      <td>12.0</td>\n",
       "      <td>499.0</td>\n",
       "      <td>0.564682</td>\n",
       "      <td>1.0</td>\n",
       "      <td>0.752508</td>\n",
       "      <td>10.0</td>\n",
       "      <td>0.0</td>\n",
       "      <td>1.0</td>\n",
       "      <td>0.0</td>\n",
       "      <td>4.961924</td>\n",
       "      <td>...</td>\n",
       "      <td>0.100000</td>\n",
       "      <td>0.6</td>\n",
       "      <td>-0.195238</td>\n",
       "      <td>-0.4</td>\n",
       "      <td>-0.10</td>\n",
       "      <td>0.650000</td>\n",
       "      <td>0.350000</td>\n",
       "      <td>0.150000</td>\n",
       "      <td>0.350000</td>\n",
       "      <td>4182.0</td>\n",
       "    </tr>\n",
       "  </tbody>\n",
       "</table>\n",
       "<p>5 rows × 59 columns</p>\n",
       "</div>"
      ],
      "text/plain": [
       "   n_tokens_title  n_tokens_content  n_unique_tokens  n_non_stop_words  \\\n",
       "0             9.0             286.0         0.552727               1.0   \n",
       "1            10.0              96.0         0.702128               1.0   \n",
       "2             9.0             399.0         0.675532               1.0   \n",
       "3            11.0            1388.0         0.482156               1.0   \n",
       "4            12.0             499.0         0.564682               1.0   \n",
       "\n",
       "   n_non_stop_unique_tokens  num_hrefs  num_self_hrefs  num_imgs  num_videos  \\\n",
       "0                  0.612903        6.0             4.0       2.0         1.0   \n",
       "1                  0.796875        4.0             3.0      10.0         1.0   \n",
       "2                  0.813433       21.0             1.0      20.0         0.0   \n",
       "3                  0.685446       40.0             4.0       2.0         5.0   \n",
       "4                  0.752508       10.0             0.0       1.0         0.0   \n",
       "\n",
       "   average_token_length  ...  min_positive_polarity  max_positive_polarity  \\\n",
       "0              4.702797  ...               0.136364                    1.0   \n",
       "1              4.458333  ...               0.200000                    0.5   \n",
       "2              4.859649  ...               0.100000                    0.6   \n",
       "3              4.562680  ...               0.033333                    1.0   \n",
       "4              4.961924  ...               0.100000                    0.6   \n",
       "\n",
       "   avg_negative_polarity  min_negative_polarity  max_negative_polarity  \\\n",
       "0               0.000000                    0.0                   0.00   \n",
       "1              -0.650000                   -0.7                  -0.60   \n",
       "2              -0.180208                   -0.4                  -0.10   \n",
       "3              -0.260965                   -0.5                  -0.05   \n",
       "4              -0.195238                   -0.4                  -0.10   \n",
       "\n",
       "   title_subjectivity  title_sentiment_polarity  abs_title_subjectivity  \\\n",
       "0            0.000000                  0.000000                0.500000   \n",
       "1            1.000000                  0.500000                0.500000   \n",
       "2            0.535714                  0.285714                0.035714   \n",
       "3            1.000000                 -0.500000                0.500000   \n",
       "4            0.650000                  0.350000                0.150000   \n",
       "\n",
       "   abs_title_sentiment_polarity  shares  \n",
       "0                      0.000000  4751.0  \n",
       "1                      0.500000  1821.0  \n",
       "2                      0.285714  1420.0  \n",
       "3                      0.500000    52.0  \n",
       "4                      0.350000  4182.0  \n",
       "\n",
       "[5 rows x 59 columns]"
      ]
     },
     "execution_count": 6,
     "metadata": {},
     "output_type": "execute_result"
    }
   ],
   "source": [
    "train.head()"
   ]
  },
  {
   "cell_type": "code",
   "execution_count": 7,
   "metadata": {},
   "outputs": [
    {
     "data": {
      "text/plain": [
       "n_tokens_title                    0.156962\n",
       "n_tokens_content                  2.489382\n",
       "n_unique_tokens                  -1.468793\n",
       "n_non_stop_words                 -5.586982\n",
       "n_non_stop_unique_tokens         -2.425495\n",
       "num_hrefs                         3.965602\n",
       "num_self_hrefs                    5.303745\n",
       "num_imgs                          3.855535\n",
       "num_videos                        6.727811\n",
       "average_token_length             -4.650847\n",
       "num_keywords                     -0.137498\n",
       "data_channel_is_lifestyle         3.888903\n",
       "data_channel_is_entertainment     1.702287\n",
       "data_channel_is_bus               1.873871\n",
       "data_channel_is_socmed            3.781771\n",
       "data_channel_is_tech              1.546992\n",
       "data_channel_is_world             1.465823\n",
       "kw_min_min                        2.376084\n",
       "kw_max_min                       21.825102\n",
       "kw_avg_min                       30.073878\n",
       "kw_min_max                       10.709049\n",
       "kw_max_max                       -2.646475\n",
       "kw_avg_max                        0.624076\n",
       "kw_min_avg                        0.484008\n",
       "kw_max_avg                       12.307608\n",
       "kw_avg_avg                        5.657008\n",
       "self_reference_min_shares        25.331015\n",
       "self_reference_max_shares        14.030407\n",
       "self_reference_avg_sharess       19.188165\n",
       "weekday_is_monday                 1.733492\n",
       "weekday_is_tuesday                1.622429\n",
       "weekday_is_wednesday              1.631074\n",
       "weekday_is_thursday               1.625665\n",
       "weekday_is_friday                 2.007576\n",
       "weekday_is_saturday               3.662872\n",
       "weekday_is_sunday                 3.473158\n",
       "is_weekend                        2.228694\n",
       "LDA_00                            1.541000\n",
       "LDA_01                            2.116900\n",
       "LDA_02                            1.359714\n",
       "LDA_03                            1.245480\n",
       "LDA_04                            1.124127\n",
       "global_subjectivity              -1.419718\n",
       "global_sentiment_polarity         0.056361\n",
       "global_rate_positive_words        0.320732\n",
       "global_rate_negative_words        1.564321\n",
       "rate_positive_words              -1.471472\n",
       "rate_negative_words               0.462585\n",
       "avg_positive_polarity            -0.785272\n",
       "min_positive_polarity             3.113923\n",
       "max_positive_polarity            -0.925336\n",
       "avg_negative_polarity            -0.520505\n",
       "min_negative_polarity            -0.068427\n",
       "max_negative_polarity            -3.368417\n",
       "title_subjectivity                0.828746\n",
       "title_sentiment_polarity          0.413223\n",
       "abs_title_subjectivity           -0.648804\n",
       "abs_title_sentiment_polarity      1.715597\n",
       "shares                           20.349967\n",
       "dtype: float64"
      ]
     },
     "execution_count": 7,
     "metadata": {},
     "output_type": "execute_result"
    }
   ],
   "source": [
    "train.skew()"
   ]
  },
  {
   "cell_type": "code",
   "execution_count": 8,
   "metadata": {},
   "outputs": [],
   "source": [
    "unwanted_columns = ['n_non_stop_words','num_hrefs','kw_min_min','kw_max_min','kw_min_max','kw_max_max','kw_min_avg','kw_max_avg','self_reference_min_shares','self_reference_max_shares','rate_positive_words','rate_negative_words','avg_negative_polarity']"
   ]
  },
  {
   "cell_type": "code",
   "execution_count": 9,
   "metadata": {},
   "outputs": [
    {
     "data": {
      "text/plain": [
       "array([[<matplotlib.axes._subplots.AxesSubplot object at 0x000000862A6E7D88>]],\n",
       "      dtype=object)"
      ]
     },
     "execution_count": 9,
     "metadata": {},
     "output_type": "execute_result"
    },
    {
     "data": {
      "image/png": "[encoded data removed]",
      "text/plain": [
       "<Figure size 576x576 with 1 Axes>"
      ]
     },
     "metadata": {
      "needs_background": "light"
     },
     "output_type": "display_data"
    }
   ],
   "source": [
    "train.hist(column='shares',figsize=(8,8))"
   ]
  },
  {
   "cell_type": "code",
   "execution_count": 10,
   "metadata": {},
   "outputs": [],
   "source": [
    "train.drop(['n_non_stop_words','n_unique_tokens','kw_avg_min','kw_avg_avg','self_reference_avg_sharess'],axis=1,inplace=True)"
   ]
  },
  {
   "cell_type": "code",
   "execution_count": 11,
   "metadata": {},
   "outputs": [
    {
     "data": {
      "text/plain": [
       "(7928, 54)"
      ]
     },
     "execution_count": 11,
     "metadata": {},
     "output_type": "execute_result"
    }
   ],
   "source": [
    "train.shape"
   ]
  },
  {
   "cell_type": "code",
   "execution_count": 12,
   "metadata": {},
   "outputs": [
    {
     "data": {
      "text/html": [
       "<div>\n",
       "<style scoped>\n",
       "    .dataframe tbody tr th:only-of-type {\n",
       "        vertical-align: middle;\n",
       "    }\n",
       "\n",
       "    .dataframe tbody tr th {\n",
       "        vertical-align: top;\n",
       "    }\n",
       "\n",
       "    .dataframe thead th {\n",
       "        text-align: right;\n",
       "    }\n",
       "</style>\n",
       "<table border=\"1\" class=\"dataframe\">\n",
       "  <thead>\n",
       "    <tr style=\"text-align: right;\">\n",
       "      <th></th>\n",
       "      <th>n_tokens_title</th>\n",
       "      <th>n_tokens_content</th>\n",
       "      <th>n_non_stop_unique_tokens</th>\n",
       "      <th>num_hrefs</th>\n",
       "      <th>num_self_hrefs</th>\n",
       "      <th>num_imgs</th>\n",
       "      <th>num_videos</th>\n",
       "      <th>average_token_length</th>\n",
       "      <th>num_keywords</th>\n",
       "      <th>data_channel_is_lifestyle</th>\n",
       "      <th>...</th>\n",
       "      <th>min_positive_polarity</th>\n",
       "      <th>max_positive_polarity</th>\n",
       "      <th>avg_negative_polarity</th>\n",
       "      <th>min_negative_polarity</th>\n",
       "      <th>max_negative_polarity</th>\n",
       "      <th>title_subjectivity</th>\n",
       "      <th>title_sentiment_polarity</th>\n",
       "      <th>abs_title_subjectivity</th>\n",
       "      <th>abs_title_sentiment_polarity</th>\n",
       "      <th>shares</th>\n",
       "    </tr>\n",
       "  </thead>\n",
       "  <tbody>\n",
       "    <tr>\n",
       "      <th>0</th>\n",
       "      <td>9.0</td>\n",
       "      <td>286.0</td>\n",
       "      <td>0.612903</td>\n",
       "      <td>6.0</td>\n",
       "      <td>4.0</td>\n",
       "      <td>2.0</td>\n",
       "      <td>1.0</td>\n",
       "      <td>4.702797</td>\n",
       "      <td>9.0</td>\n",
       "      <td>0.0</td>\n",
       "      <td>...</td>\n",
       "      <td>0.136364</td>\n",
       "      <td>1.0</td>\n",
       "      <td>0.000000</td>\n",
       "      <td>0.0</td>\n",
       "      <td>0.00</td>\n",
       "      <td>0.000000</td>\n",
       "      <td>0.000000</td>\n",
       "      <td>0.500000</td>\n",
       "      <td>0.000000</td>\n",
       "      <td>4751.0</td>\n",
       "    </tr>\n",
       "    <tr>\n",
       "      <th>1</th>\n",
       "      <td>10.0</td>\n",
       "      <td>96.0</td>\n",
       "      <td>0.796875</td>\n",
       "      <td>4.0</td>\n",
       "      <td>3.0</td>\n",
       "      <td>10.0</td>\n",
       "      <td>1.0</td>\n",
       "      <td>4.458333</td>\n",
       "      <td>8.0</td>\n",
       "      <td>0.0</td>\n",
       "      <td>...</td>\n",
       "      <td>0.200000</td>\n",
       "      <td>0.5</td>\n",
       "      <td>-0.650000</td>\n",
       "      <td>-0.7</td>\n",
       "      <td>-0.60</td>\n",
       "      <td>1.000000</td>\n",
       "      <td>0.500000</td>\n",
       "      <td>0.500000</td>\n",
       "      <td>0.500000</td>\n",
       "      <td>1821.0</td>\n",
       "    </tr>\n",
       "    <tr>\n",
       "      <th>2</th>\n",
       "      <td>9.0</td>\n",
       "      <td>399.0</td>\n",
       "      <td>0.813433</td>\n",
       "      <td>21.0</td>\n",
       "      <td>1.0</td>\n",
       "      <td>20.0</td>\n",
       "      <td>0.0</td>\n",
       "      <td>4.859649</td>\n",
       "      <td>9.0</td>\n",
       "      <td>0.0</td>\n",
       "      <td>...</td>\n",
       "      <td>0.100000</td>\n",
       "      <td>0.6</td>\n",
       "      <td>-0.180208</td>\n",
       "      <td>-0.4</td>\n",
       "      <td>-0.10</td>\n",
       "      <td>0.535714</td>\n",
       "      <td>0.285714</td>\n",
       "      <td>0.035714</td>\n",
       "      <td>0.285714</td>\n",
       "      <td>1420.0</td>\n",
       "    </tr>\n",
       "    <tr>\n",
       "      <th>3</th>\n",
       "      <td>11.0</td>\n",
       "      <td>1388.0</td>\n",
       "      <td>0.685446</td>\n",
       "      <td>40.0</td>\n",
       "      <td>4.0</td>\n",
       "      <td>2.0</td>\n",
       "      <td>5.0</td>\n",
       "      <td>4.562680</td>\n",
       "      <td>10.0</td>\n",
       "      <td>1.0</td>\n",
       "      <td>...</td>\n",
       "      <td>0.033333</td>\n",
       "      <td>1.0</td>\n",
       "      <td>-0.260965</td>\n",
       "      <td>-0.5</td>\n",
       "      <td>-0.05</td>\n",
       "      <td>1.000000</td>\n",
       "      <td>-0.500000</td>\n",
       "      <td>0.500000</td>\n",
       "      <td>0.500000</td>\n",
       "      <td>52.0</td>\n",
       "    </tr>\n",
       "    <tr>\n",
       "      <th>4</th>\n",
       "      <td>12.0</td>\n",
       "      <td>499.0</td>\n",
       "      <td>0.752508</td>\n",
       "      <td>10.0</td>\n",
       "      <td>0.0</td>\n",
       "      <td>1.0</td>\n",
       "      <td>0.0</td>\n",
       "      <td>4.961924</td>\n",
       "      <td>7.0</td>\n",
       "      <td>0.0</td>\n",
       "      <td>...</td>\n",
       "      <td>0.100000</td>\n",
       "      <td>0.6</td>\n",
       "      <td>-0.195238</td>\n",
       "      <td>-0.4</td>\n",
       "      <td>-0.10</td>\n",
       "      <td>0.650000</td>\n",
       "      <td>0.350000</td>\n",
       "      <td>0.150000</td>\n",
       "      <td>0.350000</td>\n",
       "      <td>4182.0</td>\n",
       "    </tr>\n",
       "  </tbody>\n",
       "</table>\n",
       "<p>5 rows × 54 columns</p>\n",
       "</div>"
      ],
      "text/plain": [
       "   n_tokens_title  n_tokens_content  n_non_stop_unique_tokens  num_hrefs  \\\n",
       "0             9.0             286.0                  0.612903        6.0   \n",
       "1            10.0              96.0                  0.796875        4.0   \n",
       "2             9.0             399.0                  0.813433       21.0   \n",
       "3            11.0            1388.0                  0.685446       40.0   \n",
       "4            12.0             499.0                  0.752508       10.0   \n",
       "\n",
       "   num_self_hrefs  num_imgs  num_videos  average_token_length  num_keywords  \\\n",
       "0             4.0       2.0         1.0              4.702797           9.0   \n",
       "1             3.0      10.0         1.0              4.458333           8.0   \n",
       "2             1.0      20.0         0.0              4.859649           9.0   \n",
       "3             4.0       2.0         5.0              4.562680          10.0   \n",
       "4             0.0       1.0         0.0              4.961924           7.0   \n",
       "\n",
       "   data_channel_is_lifestyle  ...  min_positive_polarity  \\\n",
       "0                        0.0  ...               0.136364   \n",
       "1                        0.0  ...               0.200000   \n",
       "2                        0.0  ...               0.100000   \n",
       "3                        1.0  ...               0.033333   \n",
       "4                        0.0  ...               0.100000   \n",
       "\n",
       "   max_positive_polarity  avg_negative_polarity  min_negative_polarity  \\\n",
       "0                    1.0               0.000000                    0.0   \n",
       "1                    0.5              -0.650000                   -0.7   \n",
       "2                    0.6              -0.180208                   -0.4   \n",
       "3                    1.0              -0.260965                   -0.5   \n",
       "4                    0.6              -0.195238                   -0.4   \n",
       "\n",
       "   max_negative_polarity  title_subjectivity  title_sentiment_polarity  \\\n",
       "0                   0.00            0.000000                  0.000000   \n",
       "1                  -0.60            1.000000                  0.500000   \n",
       "2                  -0.10            0.535714                  0.285714   \n",
       "3                  -0.05            1.000000                 -0.500000   \n",
       "4                  -0.10            0.650000                  0.350000   \n",
       "\n",
       "   abs_title_subjectivity  abs_title_sentiment_polarity  shares  \n",
       "0                0.500000                      0.000000  4751.0  \n",
       "1                0.500000                      0.500000  1821.0  \n",
       "2                0.035714                      0.285714  1420.0  \n",
       "3                0.500000                      0.500000    52.0  \n",
       "4                0.150000                      0.350000  4182.0  \n",
       "\n",
       "[5 rows x 54 columns]"
      ]
     },
     "execution_count": 12,
     "metadata": {},
     "output_type": "execute_result"
    }
   ],
   "source": [
    "train.head()"
   ]
  },
  {
   "cell_type": "code",
   "execution_count": 13,
   "metadata": {},
   "outputs": [],
   "source": [
    "train_nor = train"
   ]
  },
  {
   "cell_type": "code",
   "execution_count": 14,
   "metadata": {},
   "outputs": [
    {
     "data": {
      "text/plain": [
       "Index(['n_tokens_title', 'n_tokens_content', 'n_non_stop_unique_tokens',\n",
       "       'num_hrefs', 'num_self_hrefs', 'num_imgs', 'num_videos',\n",
       "       'average_token_length', 'num_keywords', 'data_channel_is_lifestyle',\n",
       "       'data_channel_is_entertainment', 'data_channel_is_bus',\n",
       "       'data_channel_is_socmed', 'data_channel_is_tech',\n",
       "       'data_channel_is_world', 'kw_min_min', 'kw_max_min', 'kw_min_max',\n",
       "       'kw_max_max', 'kw_avg_max', 'kw_min_avg', 'kw_max_avg',\n",
       "       'self_reference_min_shares', 'self_reference_max_shares',\n",
       "       'weekday_is_monday', 'weekday_is_tuesday', 'weekday_is_wednesday',\n",
       "       'weekday_is_thursday', 'weekday_is_friday', 'weekday_is_saturday',\n",
       "       'weekday_is_sunday', 'is_weekend', 'LDA_00', 'LDA_01', 'LDA_02',\n",
       "       'LDA_03', 'LDA_04', 'global_subjectivity', 'global_sentiment_polarity',\n",
       "       'global_rate_positive_words', 'global_rate_negative_words',\n",
       "       'rate_positive_words', 'rate_negative_words', 'avg_positive_polarity',\n",
       "       'min_positive_polarity', 'max_positive_polarity',\n",
       "       'avg_negative_polarity', 'min_negative_polarity',\n",
       "       'max_negative_polarity', 'title_subjectivity',\n",
       "       'title_sentiment_polarity', 'abs_title_subjectivity',\n",
       "       'abs_title_sentiment_polarity', 'shares'],\n",
       "      dtype='object')"
      ]
     },
     "execution_count": 14,
     "metadata": {},
     "output_type": "execute_result"
    }
   ],
   "source": [
    "train_nor.columns"
   ]
  },
  {
   "cell_type": "code",
   "execution_count": 15,
   "metadata": {},
   "outputs": [],
   "source": [
    "y = train_nor['shares']"
   ]
  },
  {
   "cell_type": "code",
   "execution_count": 16,
   "metadata": {},
   "outputs": [
    {
     "data": {
      "text/plain": [
       "0        4751.0\n",
       "1        1821.0\n",
       "2        1420.0\n",
       "3          52.0\n",
       "4        4182.0\n",
       "         ...   \n",
       "7923      640.0\n",
       "7924      216.0\n",
       "7925    18735.0\n",
       "7926      739.0\n",
       "7927     2001.0\n",
       "Name: shares, Length: 7928, dtype: float64"
      ]
     },
     "execution_count": 16,
     "metadata": {},
     "output_type": "execute_result"
    }
   ],
   "source": [
    "y"
   ]
  },
  {
   "cell_type": "code",
   "execution_count": 17,
   "metadata": {},
   "outputs": [],
   "source": [
    "train_nor.drop(['shares'],axis=1,inplace=True)"
   ]
  },
  {
   "cell_type": "code",
   "execution_count": 18,
   "metadata": {},
   "outputs": [],
   "source": [
    "X = train_nor"
   ]
  },
  {
   "cell_type": "code",
   "execution_count": 19,
   "metadata": {},
   "outputs": [],
   "source": [
    "from sklearn.preprocessing import StandardScaler\n",
    "scaler= StandardScaler()\n",
    "scaled_news = scaler.fit_transform(X)"
   ]
  },
  {
   "cell_type": "code",
   "execution_count": 20,
   "metadata": {},
   "outputs": [],
   "source": [
    "scaled_bost= pd.DataFrame(scaled_news,columns=X.columns)\n",
    "X1 = scaled_bost"
   ]
  },
  {
   "cell_type": "code",
   "execution_count": 21,
   "metadata": {},
   "outputs": [
    {
     "data": {
      "text/html": [
       "<div>\n",
       "<style scoped>\n",
       "    .dataframe tbody tr th:only-of-type {\n",
       "        vertical-align: middle;\n",
       "    }\n",
       "\n",
       "    .dataframe tbody tr th {\n",
       "        vertical-align: top;\n",
       "    }\n",
       "\n",
       "    .dataframe thead th {\n",
       "        text-align: right;\n",
       "    }\n",
       "</style>\n",
       "<table border=\"1\" class=\"dataframe\">\n",
       "  <thead>\n",
       "    <tr style=\"text-align: right;\">\n",
       "      <th></th>\n",
       "      <th>n_tokens_title</th>\n",
       "      <th>n_tokens_content</th>\n",
       "      <th>n_non_stop_unique_tokens</th>\n",
       "      <th>num_hrefs</th>\n",
       "      <th>num_self_hrefs</th>\n",
       "      <th>num_imgs</th>\n",
       "      <th>num_videos</th>\n",
       "      <th>average_token_length</th>\n",
       "      <th>num_keywords</th>\n",
       "      <th>data_channel_is_lifestyle</th>\n",
       "      <th>...</th>\n",
       "      <th>avg_positive_polarity</th>\n",
       "      <th>min_positive_polarity</th>\n",
       "      <th>max_positive_polarity</th>\n",
       "      <th>avg_negative_polarity</th>\n",
       "      <th>min_negative_polarity</th>\n",
       "      <th>max_negative_polarity</th>\n",
       "      <th>title_subjectivity</th>\n",
       "      <th>title_sentiment_polarity</th>\n",
       "      <th>abs_title_subjectivity</th>\n",
       "      <th>abs_title_sentiment_polarity</th>\n",
       "    </tr>\n",
       "  </thead>\n",
       "  <tbody>\n",
       "    <tr>\n",
       "      <th>0</th>\n",
       "      <td>-0.649328</td>\n",
       "      <td>-0.561239</td>\n",
       "      <td>-0.397172</td>\n",
       "      <td>-0.425228</td>\n",
       "      <td>0.168300</td>\n",
       "      <td>-0.308508</td>\n",
       "      <td>-0.062274</td>\n",
       "      <td>0.184732</td>\n",
       "      <td>0.939949</td>\n",
       "      <td>-0.242114</td>\n",
       "      <td>...</td>\n",
       "      <td>-0.089195</td>\n",
       "      <td>0.581808</td>\n",
       "      <td>0.990331</td>\n",
       "      <td>2.046304</td>\n",
       "      <td>1.807609</td>\n",
       "      <td>1.141022</td>\n",
       "      <td>-0.865124</td>\n",
       "      <td>-0.277302</td>\n",
       "      <td>0.829618</td>\n",
       "      <td>-0.687206</td>\n",
       "    </tr>\n",
       "    <tr>\n",
       "      <th>1</th>\n",
       "      <td>-0.168892</td>\n",
       "      <td>-0.969368</td>\n",
       "      <td>0.805766</td>\n",
       "      <td>-0.596346</td>\n",
       "      <td>-0.081988</td>\n",
       "      <td>0.670862</td>\n",
       "      <td>-0.062274</td>\n",
       "      <td>-0.107851</td>\n",
       "      <td>0.412678</td>\n",
       "      <td>-0.242114</td>\n",
       "      <td>...</td>\n",
       "      <td>0.700984</td>\n",
       "      <td>1.469610</td>\n",
       "      <td>-1.034544</td>\n",
       "      <td>-3.052986</td>\n",
       "      <td>-0.600926</td>\n",
       "      <td>-5.216097</td>\n",
       "      <td>2.203740</td>\n",
       "      <td>1.602271</td>\n",
       "      <td>0.829618</td>\n",
       "      <td>1.510468</td>\n",
       "    </tr>\n",
       "    <tr>\n",
       "      <th>2</th>\n",
       "      <td>-0.649328</td>\n",
       "      <td>-0.318510</td>\n",
       "      <td>0.914033</td>\n",
       "      <td>0.858161</td>\n",
       "      <td>-0.582564</td>\n",
       "      <td>1.895075</td>\n",
       "      <td>-0.316896</td>\n",
       "      <td>0.372458</td>\n",
       "      <td>0.939949</td>\n",
       "      <td>-0.242114</td>\n",
       "      <td>...</td>\n",
       "      <td>-0.388744</td>\n",
       "      <td>0.074493</td>\n",
       "      <td>-0.629569</td>\n",
       "      <td>0.632559</td>\n",
       "      <td>0.431303</td>\n",
       "      <td>0.081502</td>\n",
       "      <td>0.778910</td>\n",
       "      <td>0.796740</td>\n",
       "      <td>-1.642994</td>\n",
       "      <td>0.568608</td>\n",
       "    </tr>\n",
       "    <tr>\n",
       "      <th>3</th>\n",
       "      <td>0.311544</td>\n",
       "      <td>1.805908</td>\n",
       "      <td>0.077164</td>\n",
       "      <td>2.483787</td>\n",
       "      <td>0.168300</td>\n",
       "      <td>-0.308508</td>\n",
       "      <td>0.956213</td>\n",
       "      <td>0.017035</td>\n",
       "      <td>1.467219</td>\n",
       "      <td>4.130282</td>\n",
       "      <td>...</td>\n",
       "      <td>0.101181</td>\n",
       "      <td>-0.855584</td>\n",
       "      <td>0.990331</td>\n",
       "      <td>-0.000982</td>\n",
       "      <td>0.087227</td>\n",
       "      <td>0.611262</td>\n",
       "      <td>2.203740</td>\n",
       "      <td>-2.156874</td>\n",
       "      <td>0.829618</td>\n",
       "      <td>1.510468</td>\n",
       "    </tr>\n",
       "    <tr>\n",
       "      <th>4</th>\n",
       "      <td>0.791980</td>\n",
       "      <td>-0.103705</td>\n",
       "      <td>0.515665</td>\n",
       "      <td>-0.082991</td>\n",
       "      <td>-0.832851</td>\n",
       "      <td>-0.430930</td>\n",
       "      <td>-0.316896</td>\n",
       "      <td>0.494864</td>\n",
       "      <td>-0.114592</td>\n",
       "      <td>-0.242114</td>\n",
       "      <td>...</td>\n",
       "      <td>-0.597234</td>\n",
       "      <td>0.074493</td>\n",
       "      <td>-0.629569</td>\n",
       "      <td>0.514649</td>\n",
       "      <td>0.431303</td>\n",
       "      <td>0.081502</td>\n",
       "      <td>1.129638</td>\n",
       "      <td>1.038399</td>\n",
       "      <td>-1.034351</td>\n",
       "      <td>0.851166</td>\n",
       "    </tr>\n",
       "  </tbody>\n",
       "</table>\n",
       "<p>5 rows × 53 columns</p>\n",
       "</div>"
      ],
      "text/plain": [
       "   n_tokens_title  n_tokens_content  n_non_stop_unique_tokens  num_hrefs  \\\n",
       "0       -0.649328         -0.561239                 -0.397172  -0.425228   \n",
       "1       -0.168892         -0.969368                  0.805766  -0.596346   \n",
       "2       -0.649328         -0.318510                  0.914033   0.858161   \n",
       "3        0.311544          1.805908                  0.077164   2.483787   \n",
       "4        0.791980         -0.103705                  0.515665  -0.082991   \n",
       "\n",
       "   num_self_hrefs  num_imgs  num_videos  average_token_length  num_keywords  \\\n",
       "0        0.168300 -0.308508   -0.062274              0.184732      0.939949   \n",
       "1       -0.081988  0.670862   -0.062274             -0.107851      0.412678   \n",
       "2       -0.582564  1.895075   -0.316896              0.372458      0.939949   \n",
       "3        0.168300 -0.308508    0.956213              0.017035      1.467219   \n",
       "4       -0.832851 -0.430930   -0.316896              0.494864     -0.114592   \n",
       "\n",
       "   data_channel_is_lifestyle  ...  avg_positive_polarity  \\\n",
       "0                  -0.242114  ...              -0.089195   \n",
       "1                  -0.242114  ...               0.700984   \n",
       "2                  -0.242114  ...              -0.388744   \n",
       "3                   4.130282  ...               0.101181   \n",
       "4                  -0.242114  ...              -0.597234   \n",
       "\n",
       "   min_positive_polarity  max_positive_polarity  avg_negative_polarity  \\\n",
       "0               0.581808               0.990331               2.046304   \n",
       "1               1.469610              -1.034544              -3.052986   \n",
       "2               0.074493              -0.629569               0.632559   \n",
       "3              -0.855584               0.990331              -0.000982   \n",
       "4               0.074493              -0.629569               0.514649   \n",
       "\n",
       "   min_negative_polarity  max_negative_polarity  title_subjectivity  \\\n",
       "0               1.807609               1.141022           -0.865124   \n",
       "1              -0.600926              -5.216097            2.203740   \n",
       "2               0.431303               0.081502            0.778910   \n",
       "3               0.087227               0.611262            2.203740   \n",
       "4               0.431303               0.081502            1.129638   \n",
       "\n",
       "   title_sentiment_polarity  abs_title_subjectivity  \\\n",
       "0                 -0.277302                0.829618   \n",
       "1                  1.602271                0.829618   \n",
       "2                  0.796740               -1.642994   \n",
       "3                 -2.156874                0.829618   \n",
       "4                  1.038399               -1.034351   \n",
       "\n",
       "   abs_title_sentiment_polarity  \n",
       "0                     -0.687206  \n",
       "1                      1.510468  \n",
       "2                      0.568608  \n",
       "3                      1.510468  \n",
       "4                      0.851166  \n",
       "\n",
       "[5 rows x 53 columns]"
      ]
     },
     "execution_count": 21,
     "metadata": {},
     "output_type": "execute_result"
    }
   ],
   "source": [
    "X1.head()"
   ]
  },
  {
   "cell_type": "code",
   "execution_count": 22,
   "metadata": {},
   "outputs": [
    {
     "name": "stdout",
     "output_type": "stream",
     "text": [
      "(7928, 53)\n",
      "(7928,)\n"
     ]
    }
   ],
   "source": [
    "print(X1.shape)\n",
    "print(y.shape)"
   ]
  },
  {
   "cell_type": "code",
   "execution_count": 23,
   "metadata": {},
   "outputs": [
    {
     "data": {
      "text/plain": [
       "array([[<matplotlib.axes._subplots.AxesSubplot object at 0x000000862B027088>,\n",
       "        <matplotlib.axes._subplots.AxesSubplot object at 0x000000862AEC3B88>,\n",
       "        <matplotlib.axes._subplots.AxesSubplot object at 0x000000862AEFB508>,\n",
       "        <matplotlib.axes._subplots.AxesSubplot object at 0x000000862AF32A08>,\n",
       "        <matplotlib.axes._subplots.AxesSubplot object at 0x000000862AF6B2C8>,\n",
       "        <matplotlib.axes._subplots.AxesSubplot object at 0x000000862AFA1E88>,\n",
       "        <matplotlib.axes._subplots.AxesSubplot object at 0x000000862AFD9908>],\n",
       "       [<matplotlib.axes._subplots.AxesSubplot object at 0x000000862B3BAF08>,\n",
       "        <matplotlib.axes._subplots.AxesSubplot object at 0x000000862B3BAFC8>,\n",
       "        <matplotlib.axes._subplots.AxesSubplot object at 0x000000862B3F4EC8>,\n",
       "        <matplotlib.axes._subplots.AxesSubplot object at 0x000000862B45D4C8>,\n",
       "        <matplotlib.axes._subplots.AxesSubplot object at 0x000000862B495588>,\n",
       "        <matplotlib.axes._subplots.AxesSubplot object at 0x000000862B4D3E48>,\n",
       "        <matplotlib.axes._subplots.AxesSubplot object at 0x000000862B505788>],\n",
       "       [<matplotlib.axes._subplots.AxesSubplot object at 0x000000862B53E8C8>,\n",
       "        <matplotlib.axes._subplots.AxesSubplot object at 0x000000862CBF89C8>,\n",
       "        <matplotlib.axes._subplots.AxesSubplot object at 0x000000862CC32A88>,\n",
       "        <matplotlib.axes._subplots.AxesSubplot object at 0x000000862CC69BC8>,\n",
       "        <matplotlib.axes._subplots.AxesSubplot object at 0x000000862CCA3CC8>,\n",
       "        <matplotlib.axes._subplots.AxesSubplot object at 0x000000862CCDCDC8>,\n",
       "        <matplotlib.axes._subplots.AxesSubplot object at 0x000000862CD13F08>],\n",
       "       [<matplotlib.axes._subplots.AxesSubplot object at 0x000000862CD4DF88>,\n",
       "        <matplotlib.axes._subplots.AxesSubplot object at 0x000000862CD86088>,\n",
       "        <matplotlib.axes._subplots.AxesSubplot object at 0x000000862CDBC1C8>,\n",
       "        <matplotlib.axes._subplots.AxesSubplot object at 0x000000862CDF42C8>,\n",
       "        <matplotlib.axes._subplots.AxesSubplot object at 0x000000862CE2E3C8>,\n",
       "        <matplotlib.axes._subplots.AxesSubplot object at 0x000000862CE67508>,\n",
       "        <matplotlib.axes._subplots.AxesSubplot object at 0x000000862CE9F588>],\n",
       "       [<matplotlib.axes._subplots.AxesSubplot object at 0x000000862CEDEE48>,\n",
       "        <matplotlib.axes._subplots.AxesSubplot object at 0x000000862CF117C8>,\n",
       "        <matplotlib.axes._subplots.AxesSubplot object at 0x000000862CF4B8C8>,\n",
       "        <matplotlib.axes._subplots.AxesSubplot object at 0x000000862CF839C8>,\n",
       "        <matplotlib.axes._subplots.AxesSubplot object at 0x000000862CFBCA88>,\n",
       "        <matplotlib.axes._subplots.AxesSubplot object at 0x000000862CFF5BC8>,\n",
       "        <matplotlib.axes._subplots.AxesSubplot object at 0x000000862D02DCC8>],\n",
       "       [<matplotlib.axes._subplots.AxesSubplot object at 0x000000862D065DC8>,\n",
       "        <matplotlib.axes._subplots.AxesSubplot object at 0x000000862D09EF08>,\n",
       "        <matplotlib.axes._subplots.AxesSubplot object at 0x000000862D0D7F88>,\n",
       "        <matplotlib.axes._subplots.AxesSubplot object at 0x000000862D1130C8>,\n",
       "        <matplotlib.axes._subplots.AxesSubplot object at 0x000000862D14D208>,\n",
       "        <matplotlib.axes._subplots.AxesSubplot object at 0x000000862D185308>,\n",
       "        <matplotlib.axes._subplots.AxesSubplot object at 0x000000862D1BD408>],\n",
       "       [<matplotlib.axes._subplots.AxesSubplot object at 0x000000862D1F74C8>,\n",
       "        <matplotlib.axes._subplots.AxesSubplot object at 0x000000862D2305C8>,\n",
       "        <matplotlib.axes._subplots.AxesSubplot object at 0x000000862D26FE88>,\n",
       "        <matplotlib.axes._subplots.AxesSubplot object at 0x000000862D2A2808>,\n",
       "        <matplotlib.axes._subplots.AxesSubplot object at 0x000000862D2DA908>,\n",
       "        <matplotlib.axes._subplots.AxesSubplot object at 0x000000862D3139C8>,\n",
       "        <matplotlib.axes._subplots.AxesSubplot object at 0x000000862D34CB08>],\n",
       "       [<matplotlib.axes._subplots.AxesSubplot object at 0x000000862D384C08>,\n",
       "        <matplotlib.axes._subplots.AxesSubplot object at 0x000000862D3BCD08>,\n",
       "        <matplotlib.axes._subplots.AxesSubplot object at 0x000000862D3F5E48>,\n",
       "        <matplotlib.axes._subplots.AxesSubplot object at 0x000000862D42EF48>,\n",
       "        <matplotlib.axes._subplots.AxesSubplot object at 0x000000862D466FC8>,\n",
       "        <matplotlib.axes._subplots.AxesSubplot object at 0x000000862D4A41C8>,\n",
       "        <matplotlib.axes._subplots.AxesSubplot object at 0x000000862D4DB3C8>]],\n",
       "      dtype=object)"
      ]
     },
     "execution_count": 23,
     "metadata": {},
     "output_type": "execute_result"
    },
    {
     "data": {
      "image/png": "[encoded data removed]",
      "text/plain": [
       "<Figure size 1080x1080 with 56 Axes>"
      ]
     },
     "metadata": {
      "needs_background": "light"
     },
     "output_type": "display_data"
    }
   ],
   "source": [
    "X1.hist(figsize=(15,15), bins=50, xlabelsize=8, ylabelsize=8)"
   ]
  },
  {
   "cell_type": "code",
   "execution_count": 24,
   "metadata": {},
   "outputs": [
    {
     "data": {
      "text/plain": [
       "ExtraTreesRegressor(bootstrap=False, ccp_alpha=0.0, criterion='mse',\n",
       "                    max_depth=None, max_features='auto', max_leaf_nodes=None,\n",
       "                    max_samples=None, min_impurity_decrease=0.0,\n",
       "                    min_impurity_split=None, min_samples_leaf=1,\n",
       "                    min_samples_split=2, min_weight_fraction_leaf=0.0,\n",
       "                    n_estimators=100, n_jobs=None, oob_score=False,\n",
       "                    random_state=None, verbose=0, warm_start=False)"
      ]
     },
     "execution_count": 24,
     "metadata": {},
     "output_type": "execute_result"
    }
   ],
   "source": [
    "# Important feature using ExtraTreesRegressor\n",
    "\n",
    "from sklearn.ensemble import ExtraTreesRegressor\n",
    "selection = ExtraTreesRegressor()\n",
    "selection.fit(X1,y)"
   ]
  },
  {
   "cell_type": "code",
   "execution_count": 25,
   "metadata": {},
   "outputs": [
    {
     "name": "stdout",
     "output_type": "stream",
     "text": [
      "[0.01351407 0.02075769 0.03373839 0.0297197  0.0289915  0.05039694\n",
      " 0.01353607 0.02080293 0.03924279 0.00230618 0.00421246 0.00213209\n",
      " 0.00193799 0.00744929 0.00337149 0.03027868 0.02924056 0.03401791\n",
      " 0.02776037 0.01460396 0.02752673 0.02580091 0.03218145 0.01149442\n",
      " 0.01970266 0.0031105  0.02411282 0.00349873 0.0045648  0.00224793\n",
      " 0.01700078 0.006039   0.01219234 0.03983875 0.01455385 0.01360767\n",
      " 0.01516573 0.02622839 0.05650243 0.01480978 0.02131739 0.02568841\n",
      " 0.02601915 0.02365501 0.00740262 0.03688447 0.01672906 0.01270691\n",
      " 0.01096323 0.00667918 0.01301797 0.0106598  0.01008609]\n"
     ]
    }
   ],
   "source": [
    "print(selection.feature_importances_)"
   ]
  },
  {
   "cell_type": "code",
   "execution_count": 26,
   "metadata": {},
   "outputs": [
    {
     "data": {
      "image/png": "[encoded data removed]",
      "text/plain": [
       "<Figure size 864x576 with 1 Axes>"
      ]
     },
     "metadata": {
      "needs_background": "light"
     },
     "output_type": "display_data"
    }
   ],
   "source": [
    "# plot graph of Feature importances for better visualization\n",
    "\n",
    "plt.figure(figsize = (12,8))\n",
    "feat_imp = pd.Series(selection.feature_importances_ , index= X1.columns)\n",
    "feat_imp.nlargest(53).plot(kind ='barh')\n",
    "plt.show()"
   ]
  },
  {
   "cell_type": "code",
   "execution_count": 27,
   "metadata": {
    "scrolled": false
   },
   "outputs": [
    {
     "data": {
      "text/plain": [
       "global_sentiment_polarity        5.650243\n",
       "num_imgs                         5.039694\n",
       "LDA_01                           3.983875\n",
       "num_keywords                     3.924279\n",
       "max_positive_polarity            3.688447\n",
       "kw_min_max                       3.401791\n",
       "n_non_stop_unique_tokens         3.373839\n",
       "self_reference_min_shares        3.218145\n",
       "kw_min_min                       3.027868\n",
       "num_hrefs                        2.971970\n",
       "kw_max_min                       2.924056\n",
       "num_self_hrefs                   2.899150\n",
       "kw_max_max                       2.776037\n",
       "kw_min_avg                       2.752673\n",
       "global_subjectivity              2.622839\n",
       "rate_negative_words              2.601915\n",
       "kw_max_avg                       2.580091\n",
       "rate_positive_words              2.568841\n",
       "weekday_is_wednesday             2.411282\n",
       "avg_positive_polarity            2.365501\n",
       "global_rate_negative_words       2.131739\n",
       "average_token_length             2.080293\n",
       "n_tokens_content                 2.075769\n",
       "weekday_is_monday                1.970266\n",
       "weekday_is_sunday                1.700078\n",
       "avg_negative_polarity            1.672906\n",
       "LDA_04                           1.516573\n",
       "global_rate_positive_words       1.480978\n",
       "kw_avg_max                       1.460396\n",
       "LDA_02                           1.455385\n",
       "LDA_03                           1.360767\n",
       "num_videos                       1.353607\n",
       "n_tokens_title                   1.351407\n",
       "title_sentiment_polarity         1.301797\n",
       "min_negative_polarity            1.270691\n",
       "LDA_00                           1.219234\n",
       "self_reference_max_shares        1.149442\n",
       "max_negative_polarity            1.096323\n",
       "abs_title_subjectivity           1.065980\n",
       "abs_title_sentiment_polarity     1.008609\n",
       "data_channel_is_tech             0.744929\n",
       "min_positive_polarity            0.740262\n",
       "title_subjectivity               0.667918\n",
       "is_weekend                       0.603900\n",
       "weekday_is_friday                0.456480\n",
       "data_channel_is_entertainment    0.421246\n",
       "weekday_is_thursday              0.349873\n",
       "data_channel_is_world            0.337149\n",
       "weekday_is_tuesday               0.311050\n",
       "data_channel_is_lifestyle        0.230618\n",
       "weekday_is_saturday              0.224793\n",
       "data_channel_is_bus              0.213209\n",
       "data_channel_is_socmed           0.193799\n",
       "dtype: float64"
      ]
     },
     "execution_count": 27,
     "metadata": {},
     "output_type": "execute_result"
    }
   ],
   "source": [
    "feat_imp.nlargest(53)*100"
   ]
  },
  {
   "cell_type": "code",
   "execution_count": null,
   "metadata": {},
   "outputs": [],
   "source": [
    "x5"
   ]
  },
  {
   "cell_type": "code",
   "execution_count": 28,
   "metadata": {},
   "outputs": [],
   "source": [
    "X1.drop(['abs_title_sentiment_polarity','min_negative_polarity','data_channel_is_entertainment','data_channel_is_tech','title_subjectivity','abs_title_subjectivity','weekday_is_friday','is_weekend','weekday_is_tuesday','weekday_is_thursday','data_channel_is_world','data_channel_is_bus','data_channel_is_lifestyle','data_channel_is_socmed','weekday_is_saturday'],axis=1,inplace=True)"
   ]
  },
  {
   "cell_type": "code",
   "execution_count": 29,
   "metadata": {},
   "outputs": [],
   "source": [
    "from sklearn.model_selection import train_test_split"
   ]
  },
  {
   "cell_type": "code",
   "execution_count": 30,
   "metadata": {},
   "outputs": [],
   "source": [
    "X_train,X_test,y_train,y_test = train_test_split(X1,y,test_size=0.25,random_state=1)"
   ]
  },
  {
   "cell_type": "code",
   "execution_count": 31,
   "metadata": {},
   "outputs": [
    {
     "name": "stdout",
     "output_type": "stream",
     "text": [
      "(5946, 38)\n",
      "(1982, 38)\n",
      "(5946,)\n",
      "(1982,)\n"
     ]
    }
   ],
   "source": [
    "print(X_train.shape)\n",
    "print(X_test.shape)\n",
    "print(y_train.shape)\n",
    "print(y_test.shape)"
   ]
  },
  {
   "cell_type": "code",
   "execution_count": 32,
   "metadata": {},
   "outputs": [
    {
     "data": {
      "text/html": [
       "<div>\n",
       "<style scoped>\n",
       "    .dataframe tbody tr th:only-of-type {\n",
       "        vertical-align: middle;\n",
       "    }\n",
       "\n",
       "    .dataframe tbody tr th {\n",
       "        vertical-align: top;\n",
       "    }\n",
       "\n",
       "    .dataframe thead th {\n",
       "        text-align: right;\n",
       "    }\n",
       "</style>\n",
       "<table border=\"1\" class=\"dataframe\">\n",
       "  <thead>\n",
       "    <tr style=\"text-align: right;\">\n",
       "      <th></th>\n",
       "      <th>n_tokens_title</th>\n",
       "      <th>n_tokens_content</th>\n",
       "      <th>n_non_stop_unique_tokens</th>\n",
       "      <th>num_hrefs</th>\n",
       "      <th>num_self_hrefs</th>\n",
       "      <th>num_imgs</th>\n",
       "      <th>num_videos</th>\n",
       "      <th>average_token_length</th>\n",
       "      <th>num_keywords</th>\n",
       "      <th>kw_min_min</th>\n",
       "      <th>...</th>\n",
       "      <th>global_rate_positive_words</th>\n",
       "      <th>global_rate_negative_words</th>\n",
       "      <th>rate_positive_words</th>\n",
       "      <th>rate_negative_words</th>\n",
       "      <th>avg_positive_polarity</th>\n",
       "      <th>min_positive_polarity</th>\n",
       "      <th>max_positive_polarity</th>\n",
       "      <th>avg_negative_polarity</th>\n",
       "      <th>max_negative_polarity</th>\n",
       "      <th>title_sentiment_polarity</th>\n",
       "    </tr>\n",
       "  </thead>\n",
       "  <tbody>\n",
       "    <tr>\n",
       "      <th>1915</th>\n",
       "      <td>2.233289</td>\n",
       "      <td>0.212058</td>\n",
       "      <td>0.136897</td>\n",
       "      <td>-0.339669</td>\n",
       "      <td>-0.582564</td>\n",
       "      <td>-0.308508</td>\n",
       "      <td>-0.316896</td>\n",
       "      <td>0.425568</td>\n",
       "      <td>0.412678</td>\n",
       "      <td>-0.389421</td>\n",
       "      <td>...</td>\n",
       "      <td>-0.513552</td>\n",
       "      <td>0.613332</td>\n",
       "      <td>-0.593809</td>\n",
       "      <td>0.914763</td>\n",
       "      <td>0.454507</td>\n",
       "      <td>0.074493</td>\n",
       "      <td>0.180381</td>\n",
       "      <td>-0.636997</td>\n",
       "      <td>0.611262</td>\n",
       "      <td>-0.277302</td>\n",
       "    </tr>\n",
       "    <tr>\n",
       "      <th>6180</th>\n",
       "      <td>-0.168892</td>\n",
       "      <td>0.096063</td>\n",
       "      <td>-0.100576</td>\n",
       "      <td>0.515924</td>\n",
       "      <td>0.668876</td>\n",
       "      <td>-0.430930</td>\n",
       "      <td>-0.316896</td>\n",
       "      <td>0.156315</td>\n",
       "      <td>1.467219</td>\n",
       "      <td>-0.389421</td>\n",
       "      <td>...</td>\n",
       "      <td>2.178479</td>\n",
       "      <td>-1.065332</td>\n",
       "      <td>1.349660</td>\n",
       "      <td>-1.455772</td>\n",
       "      <td>0.308563</td>\n",
       "      <td>-0.855584</td>\n",
       "      <td>0.990331</td>\n",
       "      <td>-0.405278</td>\n",
       "      <td>-0.183378</td>\n",
       "      <td>1.226356</td>\n",
       "    </tr>\n",
       "    <tr>\n",
       "      <th>7516</th>\n",
       "      <td>-0.649328</td>\n",
       "      <td>0.753365</td>\n",
       "      <td>-0.440449</td>\n",
       "      <td>-0.510787</td>\n",
       "      <td>0.418588</td>\n",
       "      <td>-0.308508</td>\n",
       "      <td>-0.062274</td>\n",
       "      <td>0.141934</td>\n",
       "      <td>-0.641863</td>\n",
       "      <td>-0.389421</td>\n",
       "      <td>...</td>\n",
       "      <td>-0.244309</td>\n",
       "      <td>-0.195212</td>\n",
       "      <td>0.145189</td>\n",
       "      <td>0.013374</td>\n",
       "      <td>0.417613</td>\n",
       "      <td>0.581808</td>\n",
       "      <td>0.990331</td>\n",
       "      <td>0.690181</td>\n",
       "      <td>0.081502</td>\n",
       "      <td>1.602271</td>\n",
       "    </tr>\n",
       "    <tr>\n",
       "      <th>3529</th>\n",
       "      <td>-0.649328</td>\n",
       "      <td>2.729568</td>\n",
       "      <td>-0.802334</td>\n",
       "      <td>0.601483</td>\n",
       "      <td>1.920316</td>\n",
       "      <td>1.160547</td>\n",
       "      <td>-0.062274</td>\n",
       "      <td>-0.119208</td>\n",
       "      <td>0.939949</td>\n",
       "      <td>-0.389421</td>\n",
       "      <td>...</td>\n",
       "      <td>-0.110750</td>\n",
       "      <td>-0.567484</td>\n",
       "      <td>0.531293</td>\n",
       "      <td>-0.457574</td>\n",
       "      <td>0.477224</td>\n",
       "      <td>-0.158026</td>\n",
       "      <td>0.180381</td>\n",
       "      <td>0.561920</td>\n",
       "      <td>0.611262</td>\n",
       "      <td>1.414314</td>\n",
       "    </tr>\n",
       "    <tr>\n",
       "      <th>278</th>\n",
       "      <td>-1.129764</td>\n",
       "      <td>-1.020921</td>\n",
       "      <td>1.577455</td>\n",
       "      <td>-0.681906</td>\n",
       "      <td>-0.332276</td>\n",
       "      <td>-0.553351</td>\n",
       "      <td>-0.062274</td>\n",
       "      <td>0.573680</td>\n",
       "      <td>1.467219</td>\n",
       "      <td>2.741903</td>\n",
       "      <td>...</td>\n",
       "      <td>-1.496702</td>\n",
       "      <td>-0.249563</td>\n",
       "      <td>-0.971705</td>\n",
       "      <td>1.375700</td>\n",
       "      <td>0.216173</td>\n",
       "      <td>3.911063</td>\n",
       "      <td>-1.540763</td>\n",
       "      <td>0.477292</td>\n",
       "      <td>-0.978017</td>\n",
       "      <td>-0.277302</td>\n",
       "    </tr>\n",
       "  </tbody>\n",
       "</table>\n",
       "<p>5 rows × 38 columns</p>\n",
       "</div>"
      ],
      "text/plain": [
       "      n_tokens_title  n_tokens_content  n_non_stop_unique_tokens  num_hrefs  \\\n",
       "1915        2.233289          0.212058                  0.136897  -0.339669   \n",
       "6180       -0.168892          0.096063                 -0.100576   0.515924   \n",
       "7516       -0.649328          0.753365                 -0.440449  -0.510787   \n",
       "3529       -0.649328          2.729568                 -0.802334   0.601483   \n",
       "278        -1.129764         -1.020921                  1.577455  -0.681906   \n",
       "\n",
       "      num_self_hrefs  num_imgs  num_videos  average_token_length  \\\n",
       "1915       -0.582564 -0.308508   -0.316896              0.425568   \n",
       "6180        0.668876 -0.430930   -0.316896              0.156315   \n",
       "7516        0.418588 -0.308508   -0.062274              0.141934   \n",
       "3529        1.920316  1.160547   -0.062274             -0.119208   \n",
       "278        -0.332276 -0.553351   -0.062274              0.573680   \n",
       "\n",
       "      num_keywords  kw_min_min  ...  global_rate_positive_words  \\\n",
       "1915      0.412678   -0.389421  ...                   -0.513552   \n",
       "6180      1.467219   -0.389421  ...                    2.178479   \n",
       "7516     -0.641863   -0.389421  ...                   -0.244309   \n",
       "3529      0.939949   -0.389421  ...                   -0.110750   \n",
       "278       1.467219    2.741903  ...                   -1.496702   \n",
       "\n",
       "      global_rate_negative_words  rate_positive_words  rate_negative_words  \\\n",
       "1915                    0.613332            -0.593809             0.914763   \n",
       "6180                   -1.065332             1.349660            -1.455772   \n",
       "7516                   -0.195212             0.145189             0.013374   \n",
       "3529                   -0.567484             0.531293            -0.457574   \n",
       "278                    -0.249563            -0.971705             1.375700   \n",
       "\n",
       "      avg_positive_polarity  min_positive_polarity  max_positive_polarity  \\\n",
       "1915               0.454507               0.074493               0.180381   \n",
       "6180               0.308563              -0.855584               0.990331   \n",
       "7516               0.417613               0.581808               0.990331   \n",
       "3529               0.477224              -0.158026               0.180381   \n",
       "278                0.216173               3.911063              -1.540763   \n",
       "\n",
       "      avg_negative_polarity  max_negative_polarity  title_sentiment_polarity  \n",
       "1915              -0.636997               0.611262                 -0.277302  \n",
       "6180              -0.405278              -0.183378                  1.226356  \n",
       "7516               0.690181               0.081502                  1.602271  \n",
       "3529               0.561920               0.611262                  1.414314  \n",
       "278                0.477292              -0.978017                 -0.277302  \n",
       "\n",
       "[5 rows x 38 columns]"
      ]
     },
     "execution_count": 32,
     "metadata": {},
     "output_type": "execute_result"
    }
   ],
   "source": [
    "X_train.head()"
   ]
  },
  {
   "cell_type": "code",
   "execution_count": 33,
   "metadata": {},
   "outputs": [],
   "source": [
    "from sklearn.tree import DecisionTreeRegressor\n",
    "from xgboost import XGBRegressor\n",
    "from sklearn.ensemble import RandomForestRegressor\n",
    "from sklearn.ensemble import GradientBoostingRegressor\n",
    "from sklearn.ensemble import AdaBoostRegressor\n",
    "from sklearn.model_selection import GridSearchCV, RandomizedSearchCV"
   ]
  },
  {
   "cell_type": "code",
   "execution_count": 34,
   "metadata": {},
   "outputs": [],
   "source": [
    "from sklearn import metrics as m"
   ]
  },
  {
   "cell_type": "code",
   "execution_count": 35,
   "metadata": {},
   "outputs": [],
   "source": [
    "model_params = {\n",
    "    'DecisionTree_regressor' : {\n",
    "        'model': DecisionTreeRegressor(),\n",
    "        'params': {'max_features': ['auto', 'sqrt', 'log2'],\n",
    "          'min_samples_split': [2,3,4,5,6,7,8,9,10,11,12,13,14,15], \n",
    "          'min_samples_leaf':[1,2,3,4,5,6,7,8,9,10,11],\n",
    "         'max_depth':[2,3,4,5,6,7,8]           \n",
    "        }\n",
    "    },\n",
    "    'XGBRegressor': {\n",
    "        'model': XGBRegressor(),\n",
    "        'params': {'max_depth':[3,4,5,6,7,8],'min_child_weight':[4,5,6,7,8],'n_estimators':[10,30,50,70,80,100]\n",
    "        }\n",
    "    },\n",
    "    'GradientBoostingRegressor' : {\n",
    "        'model': GradientBoostingRegressor(),\n",
    "        'params': {'max_depth':[3,5,6,7],'max_features':['auto','sqrt','log2'],\n",
    "              'min_samples_split':[2,3,10],'min_samples_leaf':[1,3,10],'n_estimators':[10,30,50,70,90]\n",
    "        }\n",
    "    },\n",
    "    'RandomForestRegressor' : {\n",
    "        'model': RandomForestRegressor(),\n",
    "        'params': {'max_depth':[3,5,6,7,8,9],'max_features':['auto','sqrt','log2'],\n",
    "            'min_samples_split':[2,3,5,7],'min_samples_leaf':[1,3,5,7]}\n",
    "    }\n",
    "}"
   ]
  },
  {
   "cell_type": "code",
   "execution_count": 36,
   "metadata": {},
   "outputs": [
    {
     "name": "stdout",
     "output_type": "stream",
     "text": [
      "Fitting 5 folds for each of 10 candidates, totalling 50 fits\n"
     ]
    },
    {
     "name": "stderr",
     "output_type": "stream",
     "text": [
      "[Parallel(n_jobs=-1)]: Using backend LokyBackend with 4 concurrent workers.\n",
      "[Parallel(n_jobs=-1)]: Done  50 out of  50 | elapsed:    3.8s finished\n",
      "[Parallel(n_jobs=-1)]: Using backend LokyBackend with 4 concurrent workers.\n"
     ]
    },
    {
     "name": "stdout",
     "output_type": "stream",
     "text": [
      "Fitting 5 folds for each of 10 candidates, totalling 50 fits\n"
     ]
    },
    {
     "name": "stderr",
     "output_type": "stream",
     "text": [
      "[Parallel(n_jobs=-1)]: Done  42 tasks      | elapsed:   57.9s\n",
      "[Parallel(n_jobs=-1)]: Done  50 out of  50 | elapsed:  1.1min finished\n"
     ]
    },
    {
     "name": "stdout",
     "output_type": "stream",
     "text": [
      "Fitting 5 folds for each of 10 candidates, totalling 50 fits\n"
     ]
    },
    {
     "name": "stderr",
     "output_type": "stream",
     "text": [
      "[Parallel(n_jobs=-1)]: Using backend LokyBackend with 4 concurrent workers.\n",
      "[Parallel(n_jobs=-1)]: Done  42 tasks      | elapsed:   31.0s\n",
      "[Parallel(n_jobs=-1)]: Done  50 out of  50 | elapsed:   37.6s finished\n"
     ]
    },
    {
     "name": "stdout",
     "output_type": "stream",
     "text": [
      "Fitting 5 folds for each of 10 candidates, totalling 50 fits\n"
     ]
    },
    {
     "name": "stderr",
     "output_type": "stream",
     "text": [
      "[Parallel(n_jobs=-1)]: Using backend LokyBackend with 4 concurrent workers.\n",
      "[Parallel(n_jobs=-1)]: Done  42 tasks      | elapsed:   51.7s\n",
      "[Parallel(n_jobs=-1)]: Done  50 out of  50 | elapsed:  1.0min finished\n"
     ]
    },
    {
     "data": {
      "text/html": [
       "<div>\n",
       "<style scoped>\n",
       "    .dataframe tbody tr th:only-of-type {\n",
       "        vertical-align: middle;\n",
       "    }\n",
       "\n",
       "    .dataframe tbody tr th {\n",
       "        vertical-align: top;\n",
       "    }\n",
       "\n",
       "    .dataframe thead th {\n",
       "        text-align: right;\n",
       "    }\n",
       "</style>\n",
       "<table border=\"1\" class=\"dataframe\">\n",
       "  <thead>\n",
       "    <tr style=\"text-align: right;\">\n",
       "      <th></th>\n",
       "      <th>model</th>\n",
       "      <th>best_score</th>\n",
       "      <th>mean_absolute_error</th>\n",
       "      <th>mean_squared_error</th>\n",
       "      <th>Root_mean_squared_Error</th>\n",
       "      <th>R_squared_Error</th>\n",
       "      <th>explained_variance</th>\n",
       "    </tr>\n",
       "  </thead>\n",
       "  <tbody>\n",
       "    <tr>\n",
       "      <th>0</th>\n",
       "      <td>DecisionTree_regressor</td>\n",
       "      <td>-7771.411938</td>\n",
       "      <td>8086.765618</td>\n",
       "      <td>1.351617e+09</td>\n",
       "      <td>36764.345308</td>\n",
       "      <td>0.029643</td>\n",
       "      <td>0.029739</td>\n",
       "    </tr>\n",
       "    <tr>\n",
       "      <th>1</th>\n",
       "      <td>XGBRegressor</td>\n",
       "      <td>-7767.972216</td>\n",
       "      <td>7784.808041</td>\n",
       "      <td>1.318849e+09</td>\n",
       "      <td>36315.962516</td>\n",
       "      <td>0.053167</td>\n",
       "      <td>0.053695</td>\n",
       "    </tr>\n",
       "    <tr>\n",
       "      <th>2</th>\n",
       "      <td>GradientBoostingRegressor</td>\n",
       "      <td>-7634.169226</td>\n",
       "      <td>8040.458454</td>\n",
       "      <td>1.282350e+09</td>\n",
       "      <td>35809.918806</td>\n",
       "      <td>0.079371</td>\n",
       "      <td>0.079541</td>\n",
       "    </tr>\n",
       "    <tr>\n",
       "      <th>3</th>\n",
       "      <td>RandomForestRegressor</td>\n",
       "      <td>-7589.928993</td>\n",
       "      <td>8061.844259</td>\n",
       "      <td>1.312380e+09</td>\n",
       "      <td>36226.782872</td>\n",
       "      <td>0.057812</td>\n",
       "      <td>0.057980</td>\n",
       "    </tr>\n",
       "  </tbody>\n",
       "</table>\n",
       "</div>"
      ],
      "text/plain": [
       "                       model   best_score  mean_absolute_error  \\\n",
       "0     DecisionTree_regressor -7771.411938          8086.765618   \n",
       "1               XGBRegressor -7767.972216          7784.808041   \n",
       "2  GradientBoostingRegressor -7634.169226          8040.458454   \n",
       "3      RandomForestRegressor -7589.928993          8061.844259   \n",
       "\n",
       "   mean_squared_error  Root_mean_squared_Error  R_squared_Error  \\\n",
       "0        1.351617e+09             36764.345308         0.029643   \n",
       "1        1.318849e+09             36315.962516         0.053167   \n",
       "2        1.282350e+09             35809.918806         0.079371   \n",
       "3        1.312380e+09             36226.782872         0.057812   \n",
       "\n",
       "   explained_variance  \n",
       "0            0.029739  \n",
       "1            0.053695  \n",
       "2            0.079541  \n",
       "3            0.057980  "
      ]
     },
     "execution_count": 36,
     "metadata": {},
     "output_type": "execute_result"
    }
   ],
   "source": [
    "##Normal train & test\n",
    "scores = []\n",
    "best_estimators = {}\n",
    "best_params = {}\n",
    "cv_res = {}\n",
    "for algo, mp in model_params.items():\n",
    "    clf =  RandomizedSearchCV(mp['model'],param_distributions = mp['params'],cv =5,scoring='neg_mean_absolute_error',\n",
    "                              verbose=1,n_jobs=-1)\n",
    "    clf.fit(X_train, y_train.values.ravel())\n",
    "    y_pred = clf.predict(X_test)\n",
    "    #y_score = clf.predict_proba(X_test)[:,1]\n",
    "    \n",
    "       \n",
    "    scores.append({\n",
    "        'model': algo,\n",
    "        'best_score': clf.best_score_,\n",
    "        'mean_absolute_error' : m.mean_absolute_error(y_test,y_pred),\n",
    "        'mean_squared_error': m.mean_squared_error(y_test,y_pred),\n",
    "        'Root_mean_squared_Error': np.sqrt(m.mean_squared_error(y_test,y_pred)),\n",
    "        'R_squared_Error': m.r2_score(y_test, y_pred),\n",
    "        'explained_variance':m.explained_variance_score(y_test, y_pred)})\n",
    "    \n",
    "    best_estimators[algo] = clf.best_estimator_\n",
    "    best_params[algo] = clf.best_params_\n",
    "    \n",
    "        \n",
    "df = pd.DataFrame(scores,columns=['model','best_score','mean_absolute_error', 'mean_squared_error', 'Root_mean_squared_Error','R_squared_Error','explained_variance'])\n",
    "df"
   ]
  },
  {
   "cell_type": "code",
   "execution_count": 37,
   "metadata": {},
   "outputs": [
    {
     "data": {
      "text/plain": [
       "{'DecisionTree_regressor': {'min_samples_split': 11,\n",
       "  'min_samples_leaf': 3,\n",
       "  'max_features': 'auto',\n",
       "  'max_depth': 4},\n",
       " 'XGBRegressor': {'n_estimators': 10, 'min_child_weight': 4, 'max_depth': 8},\n",
       " 'GradientBoostingRegressor': {'n_estimators': 70,\n",
       "  'min_samples_split': 3,\n",
       "  'min_samples_leaf': 1,\n",
       "  'max_features': 'log2',\n",
       "  'max_depth': 3},\n",
       " 'RandomForestRegressor': {'min_samples_split': 2,\n",
       "  'min_samples_leaf': 3,\n",
       "  'max_features': 'sqrt',\n",
       "  'max_depth': 8}}"
      ]
     },
     "execution_count": 37,
     "metadata": {},
     "output_type": "execute_result"
    }
   ],
   "source": [
    "best_params"
   ]
  },
  {
   "cell_type": "code",
   "execution_count": 38,
   "metadata": {},
   "outputs": [
    {
     "data": {
      "text/plain": [
       "{'DecisionTree_regressor': DecisionTreeRegressor(ccp_alpha=0.0, criterion='mse', max_depth=4,\n",
       "                       max_features='auto', max_leaf_nodes=None,\n",
       "                       min_impurity_decrease=0.0, min_impurity_split=None,\n",
       "                       min_samples_leaf=3, min_samples_split=11,\n",
       "                       min_weight_fraction_leaf=0.0, presort='deprecated',\n",
       "                       random_state=None, splitter='best'),\n",
       " 'XGBRegressor': XGBRegressor(base_score=0.5, booster=None, colsample_bylevel=1,\n",
       "              colsample_bynode=1, colsample_bytree=1, gamma=0, gpu_id=-1,\n",
       "              importance_type='gain', interaction_constraints=None,\n",
       "              learning_rate=0.300000012, max_delta_step=0, max_depth=8,\n",
       "              min_child_weight=4, missing=nan, monotone_constraints=None,\n",
       "              n_estimators=10, n_jobs=0, num_parallel_tree=1,\n",
       "              objective='reg:squarederror', random_state=0, reg_alpha=0,\n",
       "              reg_lambda=1, scale_pos_weight=1, subsample=1, tree_method=None,\n",
       "              validate_parameters=False, verbosity=None),\n",
       " 'GradientBoostingRegressor': GradientBoostingRegressor(alpha=0.9, ccp_alpha=0.0, criterion='friedman_mse',\n",
       "                           init=None, learning_rate=0.1, loss='ls', max_depth=3,\n",
       "                           max_features='log2', max_leaf_nodes=None,\n",
       "                           min_impurity_decrease=0.0, min_impurity_split=None,\n",
       "                           min_samples_leaf=1, min_samples_split=3,\n",
       "                           min_weight_fraction_leaf=0.0, n_estimators=70,\n",
       "                           n_iter_no_change=None, presort='deprecated',\n",
       "                           random_state=None, subsample=1.0, tol=0.0001,\n",
       "                           validation_fraction=0.1, verbose=0, warm_start=False),\n",
       " 'RandomForestRegressor': RandomForestRegressor(bootstrap=True, ccp_alpha=0.0, criterion='mse',\n",
       "                       max_depth=8, max_features='sqrt', max_leaf_nodes=None,\n",
       "                       max_samples=None, min_impurity_decrease=0.0,\n",
       "                       min_impurity_split=None, min_samples_leaf=3,\n",
       "                       min_samples_split=2, min_weight_fraction_leaf=0.0,\n",
       "                       n_estimators=100, n_jobs=None, oob_score=False,\n",
       "                       random_state=None, verbose=0, warm_start=False)}"
      ]
     },
     "execution_count": 38,
     "metadata": {},
     "output_type": "execute_result"
    }
   ],
   "source": [
    "best_estimators"
   ]
  },
  {
   "cell_type": "code",
   "execution_count": 39,
   "metadata": {},
   "outputs": [],
   "source": [
    "model_params = {\n",
    "    'DecisionTree_regressor' : {\n",
    "        'model': DecisionTreeRegressor(min_samples_split= 3,min_samples_leaf= 3,max_features= 'auto',max_depth=5),\n",
    "        'params': {           \n",
    "        }\n",
    "    },\n",
    "    'XGBRegressor': {\n",
    "        'model': XGBRegressor(n_estimators= 10, min_child_weight= 4, max_depth= 7),\n",
    "        'params': {\n",
    "        }\n",
    "    },\n",
    "    'GradientBoostingRegressor' : {\n",
    "        'model': GradientBoostingRegressor(n_estimators= 10,min_samples_split= 3,min_samples_leaf= 1,max_features= 'auto',\n",
    "  max_depth= 6),\n",
    "        'params': {\n",
    "        }\n",
    "        },\n",
    "    'RandomForestRegressor' : {\n",
    "        'model': RandomForestRegressor(min_samples_split= 3,min_samples_leaf= 5,max_features='log2',max_depth= 8),\n",
    "        'params': {\n",
    "            \n",
    "        }\n",
    "    }\n",
    "}"
   ]
  },
  {
   "cell_type": "code",
   "execution_count": 40,
   "metadata": {},
   "outputs": [],
   "source": [
    "xgb =  XGBRegressor(n_estimators= 10, min_child_weight= 4, max_depth= 7)"
   ]
  },
  {
   "cell_type": "code",
   "execution_count": 41,
   "metadata": {},
   "outputs": [
    {
     "data": {
      "text/plain": [
       "XGBRegressor(base_score=0.5, booster=None, colsample_bylevel=1,\n",
       "             colsample_bynode=1, colsample_bytree=1, gamma=0, gpu_id=-1,\n",
       "             importance_type='gain', interaction_constraints=None,\n",
       "             learning_rate=0.300000012, max_delta_step=0, max_depth=7,\n",
       "             min_child_weight=4, missing=nan, monotone_constraints=None,\n",
       "             n_estimators=10, n_jobs=0, num_parallel_tree=1,\n",
       "             objective='reg:squarederror', random_state=0, reg_alpha=0,\n",
       "             reg_lambda=1, scale_pos_weight=1, subsample=1, tree_method=None,\n",
       "             validate_parameters=False, verbosity=None)"
      ]
     },
     "execution_count": 41,
     "metadata": {},
     "output_type": "execute_result"
    }
   ],
   "source": [
    "xgb.fit(X_train, y_train.values.ravel())"
   ]
  },
  {
   "cell_type": "code",
   "execution_count": 42,
   "metadata": {},
   "outputs": [],
   "source": [
    "xgb_pred = xgb.predict(X_test)"
   ]
  },
  {
   "cell_type": "code",
   "execution_count": 43,
   "metadata": {},
   "outputs": [
    {
     "data": {
      "text/plain": [
       "7610.783106491135"
      ]
     },
     "execution_count": 43,
     "metadata": {},
     "output_type": "execute_result"
    }
   ],
   "source": [
    "xgb_mae = m.mean_absolute_error(y_test,xgb_pred)\n",
    "xgb_mae"
   ]
  },
  {
   "cell_type": "code",
   "execution_count": 53,
   "metadata": {},
   "outputs": [],
   "source": [
    "from sklearn.preprocessing import StandardScaler\n",
    "scaler= StandardScaler()\n",
    "scaled_test = scaler.fit_transform(test)"
   ]
  },
  {
   "cell_type": "code",
   "execution_count": 54,
   "metadata": {},
   "outputs": [],
   "source": [
    "scaled_t= pd.DataFrame(scaled_test,columns=test.columns)\n",
    "test_f = scaled_t"
   ]
  },
  {
   "cell_type": "code",
   "execution_count": 55,
   "metadata": {},
   "outputs": [],
   "source": [
    "test_f.drop(['abs_title_sentiment_polarity','min_negative_polarity','data_channel_is_entertainment','data_channel_is_tech','title_subjectivity','abs_title_subjectivity','weekday_is_friday','is_weekend','weekday_is_tuesday','weekday_is_thursday','data_channel_is_world','data_channel_is_bus','data_channel_is_lifestyle','data_channel_is_socmed','weekday_is_saturday',\n",
    "                     'kw_avg_min','n_non_stop_words','kw_avg_avg','self_reference_avg_sharess','n_unique_tokens'],axis=1,inplace=True)"
   ]
  },
  {
   "cell_type": "code",
   "execution_count": 56,
   "metadata": {},
   "outputs": [],
   "source": [
    "xgb_pred_test = xgb.predict(test_f)"
   ]
  },
  {
   "cell_type": "code",
   "execution_count": 57,
   "metadata": {},
   "outputs": [
    {
     "data": {
      "text/plain": [
       "array([5489.1445, 5512.175 , 6402.146 , ..., 5824.487 , 5774.988 ,\n",
       "       5561.208 ], dtype=float32)"
      ]
     },
     "execution_count": 57,
     "metadata": {},
     "output_type": "execute_result"
    }
   ],
   "source": [
    "xgb_pred_test"
   ]
  },
  {
   "cell_type": "code",
   "execution_count": 58,
   "metadata": {},
   "outputs": [
    {
     "data": {
      "text/html": [
       "<div>\n",
       "<style scoped>\n",
       "    .dataframe tbody tr th:only-of-type {\n",
       "        vertical-align: middle;\n",
       "    }\n",
       "\n",
       "    .dataframe tbody tr th {\n",
       "        vertical-align: top;\n",
       "    }\n",
       "\n",
       "    .dataframe thead th {\n",
       "        text-align: right;\n",
       "    }\n",
       "</style>\n",
       "<table border=\"1\" class=\"dataframe\">\n",
       "  <thead>\n",
       "    <tr style=\"text-align: right;\">\n",
       "      <th></th>\n",
       "      <th>shares</th>\n",
       "    </tr>\n",
       "  </thead>\n",
       "  <tbody>\n",
       "    <tr>\n",
       "      <th>0</th>\n",
       "      <td>5489.144531</td>\n",
       "    </tr>\n",
       "    <tr>\n",
       "      <th>1</th>\n",
       "      <td>5512.174805</td>\n",
       "    </tr>\n",
       "    <tr>\n",
       "      <th>2</th>\n",
       "      <td>6402.145996</td>\n",
       "    </tr>\n",
       "    <tr>\n",
       "      <th>3</th>\n",
       "      <td>3398.741211</td>\n",
       "    </tr>\n",
       "    <tr>\n",
       "      <th>4</th>\n",
       "      <td>4187.420410</td>\n",
       "    </tr>\n",
       "    <tr>\n",
       "      <th>...</th>\n",
       "      <td>...</td>\n",
       "    </tr>\n",
       "    <tr>\n",
       "      <th>31711</th>\n",
       "      <td>6544.909180</td>\n",
       "    </tr>\n",
       "    <tr>\n",
       "      <th>31712</th>\n",
       "      <td>5543.755859</td>\n",
       "    </tr>\n",
       "    <tr>\n",
       "      <th>31713</th>\n",
       "      <td>5824.486816</td>\n",
       "    </tr>\n",
       "    <tr>\n",
       "      <th>31714</th>\n",
       "      <td>5774.987793</td>\n",
       "    </tr>\n",
       "    <tr>\n",
       "      <th>31715</th>\n",
       "      <td>5561.208008</td>\n",
       "    </tr>\n",
       "  </tbody>\n",
       "</table>\n",
       "<p>31716 rows × 1 columns</p>\n",
       "</div>"
      ],
      "text/plain": [
       "            shares\n",
       "0      5489.144531\n",
       "1      5512.174805\n",
       "2      6402.145996\n",
       "3      3398.741211\n",
       "4      4187.420410\n",
       "...            ...\n",
       "31711  6544.909180\n",
       "31712  5543.755859\n",
       "31713  5824.486816\n",
       "31714  5774.987793\n",
       "31715  5561.208008\n",
       "\n",
       "[31716 rows x 1 columns]"
      ]
     },
     "execution_count": 58,
     "metadata": {},
     "output_type": "execute_result"
    }
   ],
   "source": [
    "result = pd.DataFrame(xgb_pred_test,columns=['shares'])\n",
    "result"
   ]
  },
  {
   "cell_type": "code",
   "execution_count": 62,
   "metadata": {},
   "outputs": [],
   "source": [
    "result.to_csv(\"E:/machine hack/News_Popularity/submission.csv\",index=False,header=True)"
   ]
  },
  {
   "cell_type": "code",
   "execution_count": null,
   "metadata": {},
   "outputs": [],
   "source": []
  }
 ],
 "metadata": {
  "kernelspec": {
   "display_name": "Python 3",
   "language": "python",
   "name": "python3"
  },
  "language_info": {
   "codemirror_mode": {
    "name": "ipython",
    "version": 3
   },
   "file_extension": ".py",
   "mimetype": "text/x-python",
   "name": "python",
   "nbconvert_exporter": "python",
   "pygments_lexer": "ipython3",
   "version": "3.7.6"
  }
 },
 "nbformat": 4,
 "nbformat_minor": 4
}
