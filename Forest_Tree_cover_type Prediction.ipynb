{
 "cells": [
  {
   "cell_type": "code",
   "execution_count": 1,
   "metadata": {},
   "outputs": [],
   "source": [
    "import os\n",
    "os.chdir(\"E:\\machine hack\\Forest_Cover_participants_Data\\Forest_Cover_participants_Data\")"
   ]
  },
  {
   "cell_type": "markdown",
   "metadata": {},
   "source": [
    "### Importing basic package for manipulation and extracting"
   ]
  },
  {
   "cell_type": "code",
   "execution_count": 2,
   "metadata": {},
   "outputs": [],
   "source": [
    "import pandas as pd\n",
    "import numpy as np\n",
    "import matplotlib.pyplot as plt\n",
    "%matplotlib inline"
   ]
  },
  {
   "cell_type": "code",
   "execution_count": 114,
   "metadata": {},
   "outputs": [
    {
     "data": {
      "text/html": [
       "        <script type=\"text/javascript\">\n",
       "        window.PlotlyConfig = {MathJaxConfig: 'local'};\n",
       "        if (window.MathJax) {MathJax.Hub.Config({SVG: {font: \"STIX-Web\"}});}\n",
       "        if (typeof require !== 'undefined') {\n",
       "        require.undef(\"plotly\");\n",
       "        requirejs.config({\n",
       "            paths: {\n",
       "                'plotly': ['https://cdn.plot.ly/plotly-latest.min']\n",
       "            }\n",
       "        });\n",
       "        require(['plotly'], function(Plotly) {\n",
       "            window._Plotly = Plotly;\n",
       "        });\n",
       "        }\n",
       "        </script>\n",
       "        "
      ]
     },
     "metadata": {},
     "output_type": "display_data"
    }
   ],
   "source": [
    "import plotly.offline as py\n",
    "py.init_notebook_mode(connected=True)\n",
    "import plotly.graph_objs as go\n",
    "import plotly.tools as tls"
   ]
  },
  {
   "cell_type": "markdown",
   "metadata": {},
   "source": [
    "### Importing the data"
   ]
  },
  {
   "cell_type": "code",
   "execution_count": 3,
   "metadata": {},
   "outputs": [],
   "source": [
    "train = pd.read_csv(\"train.csv\")\n",
    "test = pd.read_csv(\"test.csv\")"
   ]
  },
  {
   "cell_type": "markdown",
   "metadata": {},
   "source": [
    "### Checking for Data type and columns details"
   ]
  },
  {
   "cell_type": "code",
   "execution_count": 4,
   "metadata": {},
   "outputs": [
    {
     "name": "stdout",
     "output_type": "stream",
     "text": [
      "<class 'pandas.core.frame.DataFrame'>\n",
      "RangeIndex: 29050 entries, 0 to 29049\n",
      "Data columns (total 55 columns):\n",
      " #   Column                                      Non-Null Count  Dtype\n",
      "---  ------                                      --------------  -----\n",
      " 0   Elevation(meters)                           29050 non-null  int64\n",
      " 1   Aspect(degrees)                             29050 non-null  int64\n",
      " 2   Slope(degrees)                              29050 non-null  int64\n",
      " 3   Horizontal_Distance_To_Hydrology(meters)    29050 non-null  int64\n",
      " 4   Vertical_Distance_To_Hydrology(meters)      29050 non-null  int64\n",
      " 5   Horizontal_Distance_To_Roadways(meters)     29050 non-null  int64\n",
      " 6   Hillshade_9am                               29050 non-null  int64\n",
      " 7   Hillshade_Noon                              29050 non-null  int64\n",
      " 8   Hillshade_3pm                               29050 non-null  int64\n",
      " 9   Horizontal_Distance_To_Fire_Points(meters)  29050 non-null  int64\n",
      " 10  Wilderness_Area_1                           29050 non-null  int64\n",
      " 11  Wilderness_Area_2                           29050 non-null  int64\n",
      " 12  Wilderness_Area_3                           29050 non-null  int64\n",
      " 13  Wilderness_Area_4                           29050 non-null  int64\n",
      " 14  Soil_Type_1                                 29050 non-null  int64\n",
      " 15  Soil_Type_2                                 29050 non-null  int64\n",
      " 16  Soil_Type_3                                 29050 non-null  int64\n",
      " 17  Soil_Type_4                                 29050 non-null  int64\n",
      " 18  Soil_Type_5                                 29050 non-null  int64\n",
      " 19  Soil_Type_6                                 29050 non-null  int64\n",
      " 20  Soil_Type_7                                 29050 non-null  int64\n",
      " 21  Soil_Type_8                                 29050 non-null  int64\n",
      " 22  Soil_Type_9                                 29050 non-null  int64\n",
      " 23  Soil_Type_10                                29050 non-null  int64\n",
      " 24  Soil_Type_11                                29050 non-null  int64\n",
      " 25  Soil_Type_12                                29050 non-null  int64\n",
      " 26  Soil_Type_13                                29050 non-null  int64\n",
      " 27  Soil_Type_14                                29050 non-null  int64\n",
      " 28  Soil_Type_15                                29050 non-null  int64\n",
      " 29  Soil_Type_16                                29050 non-null  int64\n",
      " 30  Soil_Type_17                                29050 non-null  int64\n",
      " 31  Soil_Type_18                                29050 non-null  int64\n",
      " 32  Soil_Type_19                                29050 non-null  int64\n",
      " 33  Soil_Type_20                                29050 non-null  int64\n",
      " 34  Soil_Type_21                                29050 non-null  int64\n",
      " 35  Soil_Type_22                                29050 non-null  int64\n",
      " 36  Soil_Type_23                                29050 non-null  int64\n",
      " 37  Soil_Type_24                                29050 non-null  int64\n",
      " 38  Soil_Type_25                                29050 non-null  int64\n",
      " 39  Soil_Type_26                                29050 non-null  int64\n",
      " 40  Soil_Type_27                                29050 non-null  int64\n",
      " 41  Soil_Type_28                                29050 non-null  int64\n",
      " 42  Soil_Type_29                                29050 non-null  int64\n",
      " 43  Soil_Type_30                                29050 non-null  int64\n",
      " 44  Soil_Type_31                                29050 non-null  int64\n",
      " 45  Soil_Type_32                                29050 non-null  int64\n",
      " 46  Soil_Type_33                                29050 non-null  int64\n",
      " 47  Soil_Type_34                                29050 non-null  int64\n",
      " 48  Soil_Type_35                                29050 non-null  int64\n",
      " 49  Soil_Type_36                                29050 non-null  int64\n",
      " 50  Soil_Type_37                                29050 non-null  int64\n",
      " 51  Soil_Type_38                                29050 non-null  int64\n",
      " 52  Soil_Type_39                                29050 non-null  int64\n",
      " 53  Soil_Type_40                                29050 non-null  int64\n",
      " 54  Cover_Type                                  29050 non-null  int64\n",
      "dtypes: int64(55)\n",
      "memory usage: 12.2 MB\n"
     ]
    }
   ],
   "source": [
    "train.info()"
   ]
  },
  {
   "cell_type": "markdown",
   "metadata": {},
   "source": [
    "### For viewing full columns, setting max_columns option"
   ]
  },
  {
   "cell_type": "code",
   "execution_count": 5,
   "metadata": {},
   "outputs": [],
   "source": [
    "pd.set_option('display.max_columns',73)"
   ]
  },
  {
   "cell_type": "code",
   "execution_count": 6,
   "metadata": {
    "scrolled": true
   },
   "outputs": [
    {
     "data": {
      "text/html": [
       "<div>\n",
       "<style scoped>\n",
       "    .dataframe tbody tr th:only-of-type {\n",
       "        vertical-align: middle;\n",
       "    }\n",
       "\n",
       "    .dataframe tbody tr th {\n",
       "        vertical-align: top;\n",
       "    }\n",
       "\n",
       "    .dataframe thead th {\n",
       "        text-align: right;\n",
       "    }\n",
       "</style>\n",
       "<table border=\"1\" class=\"dataframe\">\n",
       "  <thead>\n",
       "    <tr style=\"text-align: right;\">\n",
       "      <th></th>\n",
       "      <th>Elevation(meters)</th>\n",
       "      <th>Aspect(degrees)</th>\n",
       "      <th>Slope(degrees)</th>\n",
       "      <th>Horizontal_Distance_To_Hydrology(meters)</th>\n",
       "      <th>Vertical_Distance_To_Hydrology(meters)</th>\n",
       "      <th>Horizontal_Distance_To_Roadways(meters)</th>\n",
       "      <th>Hillshade_9am</th>\n",
       "      <th>Hillshade_Noon</th>\n",
       "      <th>Hillshade_3pm</th>\n",
       "      <th>Horizontal_Distance_To_Fire_Points(meters)</th>\n",
       "      <th>Wilderness_Area_1</th>\n",
       "      <th>Wilderness_Area_2</th>\n",
       "      <th>Wilderness_Area_3</th>\n",
       "      <th>Wilderness_Area_4</th>\n",
       "      <th>Soil_Type_1</th>\n",
       "      <th>Soil_Type_2</th>\n",
       "      <th>Soil_Type_3</th>\n",
       "      <th>Soil_Type_4</th>\n",
       "      <th>Soil_Type_5</th>\n",
       "      <th>Soil_Type_6</th>\n",
       "      <th>Soil_Type_7</th>\n",
       "      <th>Soil_Type_8</th>\n",
       "      <th>Soil_Type_9</th>\n",
       "      <th>Soil_Type_10</th>\n",
       "      <th>Soil_Type_11</th>\n",
       "      <th>Soil_Type_12</th>\n",
       "      <th>Soil_Type_13</th>\n",
       "      <th>Soil_Type_14</th>\n",
       "      <th>Soil_Type_15</th>\n",
       "      <th>Soil_Type_16</th>\n",
       "      <th>Soil_Type_17</th>\n",
       "      <th>Soil_Type_18</th>\n",
       "      <th>Soil_Type_19</th>\n",
       "      <th>Soil_Type_20</th>\n",
       "      <th>Soil_Type_21</th>\n",
       "      <th>Soil_Type_22</th>\n",
       "      <th>Soil_Type_23</th>\n",
       "      <th>Soil_Type_24</th>\n",
       "      <th>Soil_Type_25</th>\n",
       "      <th>Soil_Type_26</th>\n",
       "      <th>Soil_Type_27</th>\n",
       "      <th>Soil_Type_28</th>\n",
       "      <th>Soil_Type_29</th>\n",
       "      <th>Soil_Type_30</th>\n",
       "      <th>Soil_Type_31</th>\n",
       "      <th>Soil_Type_32</th>\n",
       "      <th>Soil_Type_33</th>\n",
       "      <th>Soil_Type_34</th>\n",
       "      <th>Soil_Type_35</th>\n",
       "      <th>Soil_Type_36</th>\n",
       "      <th>Soil_Type_37</th>\n",
       "      <th>Soil_Type_38</th>\n",
       "      <th>Soil_Type_39</th>\n",
       "      <th>Soil_Type_40</th>\n",
       "      <th>Cover_Type</th>\n",
       "    </tr>\n",
       "  </thead>\n",
       "  <tbody>\n",
       "    <tr>\n",
       "      <th>count</th>\n",
       "      <td>29050.000000</td>\n",
       "      <td>29050.000000</td>\n",
       "      <td>29050.000000</td>\n",
       "      <td>29050.000000</td>\n",
       "      <td>29050.000000</td>\n",
       "      <td>29050.000000</td>\n",
       "      <td>29050.000000</td>\n",
       "      <td>29050.000000</td>\n",
       "      <td>29050.000000</td>\n",
       "      <td>29050.000000</td>\n",
       "      <td>29050.000000</td>\n",
       "      <td>29050.000000</td>\n",
       "      <td>29050.000000</td>\n",
       "      <td>29050.000000</td>\n",
       "      <td>29050.000000</td>\n",
       "      <td>29050.000000</td>\n",
       "      <td>29050.000000</td>\n",
       "      <td>29050.000000</td>\n",
       "      <td>29050.000000</td>\n",
       "      <td>29050.000000</td>\n",
       "      <td>29050.000000</td>\n",
       "      <td>29050.000000</td>\n",
       "      <td>29050.000000</td>\n",
       "      <td>29050.000000</td>\n",
       "      <td>29050.000000</td>\n",
       "      <td>29050.000000</td>\n",
       "      <td>29050.000000</td>\n",
       "      <td>29050.000000</td>\n",
       "      <td>29050.0</td>\n",
       "      <td>29050.000000</td>\n",
       "      <td>29050.000000</td>\n",
       "      <td>29050.000000</td>\n",
       "      <td>29050.000000</td>\n",
       "      <td>29050.000000</td>\n",
       "      <td>29050.000000</td>\n",
       "      <td>29050.000000</td>\n",
       "      <td>29050.000000</td>\n",
       "      <td>29050.000000</td>\n",
       "      <td>29050.000000</td>\n",
       "      <td>29050.000000</td>\n",
       "      <td>29050.000000</td>\n",
       "      <td>29050.000000</td>\n",
       "      <td>29050.000000</td>\n",
       "      <td>29050.000000</td>\n",
       "      <td>29050.000000</td>\n",
       "      <td>29050.000000</td>\n",
       "      <td>29050.000000</td>\n",
       "      <td>29050.000000</td>\n",
       "      <td>29050.000000</td>\n",
       "      <td>29050.000000</td>\n",
       "      <td>29050.000000</td>\n",
       "      <td>29050.000000</td>\n",
       "      <td>29050.000000</td>\n",
       "      <td>29050.000000</td>\n",
       "      <td>29050.000000</td>\n",
       "    </tr>\n",
       "    <tr>\n",
       "      <th>mean</th>\n",
       "      <td>2959.328330</td>\n",
       "      <td>155.720241</td>\n",
       "      <td>14.028537</td>\n",
       "      <td>269.220792</td>\n",
       "      <td>46.332737</td>\n",
       "      <td>2346.340241</td>\n",
       "      <td>212.042134</td>\n",
       "      <td>223.446850</td>\n",
       "      <td>142.854630</td>\n",
       "      <td>1971.574871</td>\n",
       "      <td>0.450843</td>\n",
       "      <td>0.050327</td>\n",
       "      <td>0.435422</td>\n",
       "      <td>0.063408</td>\n",
       "      <td>0.004819</td>\n",
       "      <td>0.011945</td>\n",
       "      <td>0.007917</td>\n",
       "      <td>0.021480</td>\n",
       "      <td>0.002719</td>\n",
       "      <td>0.012771</td>\n",
       "      <td>0.000310</td>\n",
       "      <td>0.000516</td>\n",
       "      <td>0.001997</td>\n",
       "      <td>0.055077</td>\n",
       "      <td>0.020861</td>\n",
       "      <td>0.051566</td>\n",
       "      <td>0.030809</td>\n",
       "      <td>0.001170</td>\n",
       "      <td>0.0</td>\n",
       "      <td>0.004750</td>\n",
       "      <td>0.006231</td>\n",
       "      <td>0.003305</td>\n",
       "      <td>0.006850</td>\n",
       "      <td>0.017005</td>\n",
       "      <td>0.001274</td>\n",
       "      <td>0.057212</td>\n",
       "      <td>0.097074</td>\n",
       "      <td>0.036730</td>\n",
       "      <td>0.000585</td>\n",
       "      <td>0.004303</td>\n",
       "      <td>0.001824</td>\n",
       "      <td>0.001824</td>\n",
       "      <td>0.200172</td>\n",
       "      <td>0.051842</td>\n",
       "      <td>0.042065</td>\n",
       "      <td>0.091738</td>\n",
       "      <td>0.078967</td>\n",
       "      <td>0.002719</td>\n",
       "      <td>0.003064</td>\n",
       "      <td>0.000207</td>\n",
       "      <td>0.000379</td>\n",
       "      <td>0.027539</td>\n",
       "      <td>0.023821</td>\n",
       "      <td>0.014561</td>\n",
       "      <td>5.536110</td>\n",
       "    </tr>\n",
       "    <tr>\n",
       "      <th>std</th>\n",
       "      <td>277.578227</td>\n",
       "      <td>112.109417</td>\n",
       "      <td>7.458200</td>\n",
       "      <td>212.406921</td>\n",
       "      <td>58.938186</td>\n",
       "      <td>1558.148732</td>\n",
       "      <td>26.678889</td>\n",
       "      <td>19.610671</td>\n",
       "      <td>38.000582</td>\n",
       "      <td>1321.145310</td>\n",
       "      <td>0.497586</td>\n",
       "      <td>0.218623</td>\n",
       "      <td>0.495821</td>\n",
       "      <td>0.243699</td>\n",
       "      <td>0.069255</td>\n",
       "      <td>0.108640</td>\n",
       "      <td>0.088628</td>\n",
       "      <td>0.144981</td>\n",
       "      <td>0.052078</td>\n",
       "      <td>0.112287</td>\n",
       "      <td>0.017599</td>\n",
       "      <td>0.022718</td>\n",
       "      <td>0.044639</td>\n",
       "      <td>0.228135</td>\n",
       "      <td>0.142920</td>\n",
       "      <td>0.221153</td>\n",
       "      <td>0.172803</td>\n",
       "      <td>0.034192</td>\n",
       "      <td>0.0</td>\n",
       "      <td>0.068761</td>\n",
       "      <td>0.078689</td>\n",
       "      <td>0.057392</td>\n",
       "      <td>0.082484</td>\n",
       "      <td>0.129293</td>\n",
       "      <td>0.035666</td>\n",
       "      <td>0.232251</td>\n",
       "      <td>0.296064</td>\n",
       "      <td>0.188101</td>\n",
       "      <td>0.024184</td>\n",
       "      <td>0.065457</td>\n",
       "      <td>0.042675</td>\n",
       "      <td>0.042675</td>\n",
       "      <td>0.400136</td>\n",
       "      <td>0.221711</td>\n",
       "      <td>0.200742</td>\n",
       "      <td>0.288661</td>\n",
       "      <td>0.269692</td>\n",
       "      <td>0.052078</td>\n",
       "      <td>0.055267</td>\n",
       "      <td>0.014370</td>\n",
       "      <td>0.019456</td>\n",
       "      <td>0.163650</td>\n",
       "      <td>0.152494</td>\n",
       "      <td>0.119790</td>\n",
       "      <td>1.438261</td>\n",
       "    </tr>\n",
       "    <tr>\n",
       "      <th>min</th>\n",
       "      <td>1879.000000</td>\n",
       "      <td>0.000000</td>\n",
       "      <td>0.000000</td>\n",
       "      <td>0.000000</td>\n",
       "      <td>-166.000000</td>\n",
       "      <td>0.000000</td>\n",
       "      <td>58.000000</td>\n",
       "      <td>63.000000</td>\n",
       "      <td>0.000000</td>\n",
       "      <td>0.000000</td>\n",
       "      <td>0.000000</td>\n",
       "      <td>0.000000</td>\n",
       "      <td>0.000000</td>\n",
       "      <td>0.000000</td>\n",
       "      <td>0.000000</td>\n",
       "      <td>0.000000</td>\n",
       "      <td>0.000000</td>\n",
       "      <td>0.000000</td>\n",
       "      <td>0.000000</td>\n",
       "      <td>0.000000</td>\n",
       "      <td>0.000000</td>\n",
       "      <td>0.000000</td>\n",
       "      <td>0.000000</td>\n",
       "      <td>0.000000</td>\n",
       "      <td>0.000000</td>\n",
       "      <td>0.000000</td>\n",
       "      <td>0.000000</td>\n",
       "      <td>0.000000</td>\n",
       "      <td>0.0</td>\n",
       "      <td>0.000000</td>\n",
       "      <td>0.000000</td>\n",
       "      <td>0.000000</td>\n",
       "      <td>0.000000</td>\n",
       "      <td>0.000000</td>\n",
       "      <td>0.000000</td>\n",
       "      <td>0.000000</td>\n",
       "      <td>0.000000</td>\n",
       "      <td>0.000000</td>\n",
       "      <td>0.000000</td>\n",
       "      <td>0.000000</td>\n",
       "      <td>0.000000</td>\n",
       "      <td>0.000000</td>\n",
       "      <td>0.000000</td>\n",
       "      <td>0.000000</td>\n",
       "      <td>0.000000</td>\n",
       "      <td>0.000000</td>\n",
       "      <td>0.000000</td>\n",
       "      <td>0.000000</td>\n",
       "      <td>0.000000</td>\n",
       "      <td>0.000000</td>\n",
       "      <td>0.000000</td>\n",
       "      <td>0.000000</td>\n",
       "      <td>0.000000</td>\n",
       "      <td>0.000000</td>\n",
       "      <td>1.000000</td>\n",
       "    </tr>\n",
       "    <tr>\n",
       "      <th>25%</th>\n",
       "      <td>2809.000000</td>\n",
       "      <td>58.000000</td>\n",
       "      <td>9.000000</td>\n",
       "      <td>108.000000</td>\n",
       "      <td>7.000000</td>\n",
       "      <td>1103.000000</td>\n",
       "      <td>198.000000</td>\n",
       "      <td>213.000000</td>\n",
       "      <td>120.000000</td>\n",
       "      <td>1020.000000</td>\n",
       "      <td>0.000000</td>\n",
       "      <td>0.000000</td>\n",
       "      <td>0.000000</td>\n",
       "      <td>0.000000</td>\n",
       "      <td>0.000000</td>\n",
       "      <td>0.000000</td>\n",
       "      <td>0.000000</td>\n",
       "      <td>0.000000</td>\n",
       "      <td>0.000000</td>\n",
       "      <td>0.000000</td>\n",
       "      <td>0.000000</td>\n",
       "      <td>0.000000</td>\n",
       "      <td>0.000000</td>\n",
       "      <td>0.000000</td>\n",
       "      <td>0.000000</td>\n",
       "      <td>0.000000</td>\n",
       "      <td>0.000000</td>\n",
       "      <td>0.000000</td>\n",
       "      <td>0.0</td>\n",
       "      <td>0.000000</td>\n",
       "      <td>0.000000</td>\n",
       "      <td>0.000000</td>\n",
       "      <td>0.000000</td>\n",
       "      <td>0.000000</td>\n",
       "      <td>0.000000</td>\n",
       "      <td>0.000000</td>\n",
       "      <td>0.000000</td>\n",
       "      <td>0.000000</td>\n",
       "      <td>0.000000</td>\n",
       "      <td>0.000000</td>\n",
       "      <td>0.000000</td>\n",
       "      <td>0.000000</td>\n",
       "      <td>0.000000</td>\n",
       "      <td>0.000000</td>\n",
       "      <td>0.000000</td>\n",
       "      <td>0.000000</td>\n",
       "      <td>0.000000</td>\n",
       "      <td>0.000000</td>\n",
       "      <td>0.000000</td>\n",
       "      <td>0.000000</td>\n",
       "      <td>0.000000</td>\n",
       "      <td>0.000000</td>\n",
       "      <td>0.000000</td>\n",
       "      <td>0.000000</td>\n",
       "      <td>5.000000</td>\n",
       "    </tr>\n",
       "    <tr>\n",
       "      <th>50%</th>\n",
       "      <td>2995.000000</td>\n",
       "      <td>128.000000</td>\n",
       "      <td>13.000000</td>\n",
       "      <td>218.000000</td>\n",
       "      <td>29.000000</td>\n",
       "      <td>1984.000000</td>\n",
       "      <td>218.000000</td>\n",
       "      <td>226.000000</td>\n",
       "      <td>143.000000</td>\n",
       "      <td>1704.000000</td>\n",
       "      <td>0.000000</td>\n",
       "      <td>0.000000</td>\n",
       "      <td>0.000000</td>\n",
       "      <td>0.000000</td>\n",
       "      <td>0.000000</td>\n",
       "      <td>0.000000</td>\n",
       "      <td>0.000000</td>\n",
       "      <td>0.000000</td>\n",
       "      <td>0.000000</td>\n",
       "      <td>0.000000</td>\n",
       "      <td>0.000000</td>\n",
       "      <td>0.000000</td>\n",
       "      <td>0.000000</td>\n",
       "      <td>0.000000</td>\n",
       "      <td>0.000000</td>\n",
       "      <td>0.000000</td>\n",
       "      <td>0.000000</td>\n",
       "      <td>0.000000</td>\n",
       "      <td>0.0</td>\n",
       "      <td>0.000000</td>\n",
       "      <td>0.000000</td>\n",
       "      <td>0.000000</td>\n",
       "      <td>0.000000</td>\n",
       "      <td>0.000000</td>\n",
       "      <td>0.000000</td>\n",
       "      <td>0.000000</td>\n",
       "      <td>0.000000</td>\n",
       "      <td>0.000000</td>\n",
       "      <td>0.000000</td>\n",
       "      <td>0.000000</td>\n",
       "      <td>0.000000</td>\n",
       "      <td>0.000000</td>\n",
       "      <td>0.000000</td>\n",
       "      <td>0.000000</td>\n",
       "      <td>0.000000</td>\n",
       "      <td>0.000000</td>\n",
       "      <td>0.000000</td>\n",
       "      <td>0.000000</td>\n",
       "      <td>0.000000</td>\n",
       "      <td>0.000000</td>\n",
       "      <td>0.000000</td>\n",
       "      <td>0.000000</td>\n",
       "      <td>0.000000</td>\n",
       "      <td>0.000000</td>\n",
       "      <td>5.000000</td>\n",
       "    </tr>\n",
       "    <tr>\n",
       "      <th>75%</th>\n",
       "      <td>3161.000000</td>\n",
       "      <td>262.000000</td>\n",
       "      <td>18.000000</td>\n",
       "      <td>390.000000</td>\n",
       "      <td>69.000000</td>\n",
       "      <td>3329.750000</td>\n",
       "      <td>231.000000</td>\n",
       "      <td>237.000000</td>\n",
       "      <td>168.000000</td>\n",
       "      <td>2536.000000</td>\n",
       "      <td>1.000000</td>\n",
       "      <td>0.000000</td>\n",
       "      <td>1.000000</td>\n",
       "      <td>0.000000</td>\n",
       "      <td>0.000000</td>\n",
       "      <td>0.000000</td>\n",
       "      <td>0.000000</td>\n",
       "      <td>0.000000</td>\n",
       "      <td>0.000000</td>\n",
       "      <td>0.000000</td>\n",
       "      <td>0.000000</td>\n",
       "      <td>0.000000</td>\n",
       "      <td>0.000000</td>\n",
       "      <td>0.000000</td>\n",
       "      <td>0.000000</td>\n",
       "      <td>0.000000</td>\n",
       "      <td>0.000000</td>\n",
       "      <td>0.000000</td>\n",
       "      <td>0.0</td>\n",
       "      <td>0.000000</td>\n",
       "      <td>0.000000</td>\n",
       "      <td>0.000000</td>\n",
       "      <td>0.000000</td>\n",
       "      <td>0.000000</td>\n",
       "      <td>0.000000</td>\n",
       "      <td>0.000000</td>\n",
       "      <td>0.000000</td>\n",
       "      <td>0.000000</td>\n",
       "      <td>0.000000</td>\n",
       "      <td>0.000000</td>\n",
       "      <td>0.000000</td>\n",
       "      <td>0.000000</td>\n",
       "      <td>0.000000</td>\n",
       "      <td>0.000000</td>\n",
       "      <td>0.000000</td>\n",
       "      <td>0.000000</td>\n",
       "      <td>0.000000</td>\n",
       "      <td>0.000000</td>\n",
       "      <td>0.000000</td>\n",
       "      <td>0.000000</td>\n",
       "      <td>0.000000</td>\n",
       "      <td>0.000000</td>\n",
       "      <td>0.000000</td>\n",
       "      <td>0.000000</td>\n",
       "      <td>7.000000</td>\n",
       "    </tr>\n",
       "    <tr>\n",
       "      <th>max</th>\n",
       "      <td>3844.000000</td>\n",
       "      <td>360.000000</td>\n",
       "      <td>61.000000</td>\n",
       "      <td>1320.000000</td>\n",
       "      <td>589.000000</td>\n",
       "      <td>7087.000000</td>\n",
       "      <td>254.000000</td>\n",
       "      <td>254.000000</td>\n",
       "      <td>251.000000</td>\n",
       "      <td>7142.000000</td>\n",
       "      <td>1.000000</td>\n",
       "      <td>1.000000</td>\n",
       "      <td>1.000000</td>\n",
       "      <td>1.000000</td>\n",
       "      <td>1.000000</td>\n",
       "      <td>1.000000</td>\n",
       "      <td>1.000000</td>\n",
       "      <td>1.000000</td>\n",
       "      <td>1.000000</td>\n",
       "      <td>1.000000</td>\n",
       "      <td>1.000000</td>\n",
       "      <td>1.000000</td>\n",
       "      <td>1.000000</td>\n",
       "      <td>1.000000</td>\n",
       "      <td>1.000000</td>\n",
       "      <td>1.000000</td>\n",
       "      <td>1.000000</td>\n",
       "      <td>1.000000</td>\n",
       "      <td>0.0</td>\n",
       "      <td>1.000000</td>\n",
       "      <td>1.000000</td>\n",
       "      <td>1.000000</td>\n",
       "      <td>1.000000</td>\n",
       "      <td>1.000000</td>\n",
       "      <td>1.000000</td>\n",
       "      <td>1.000000</td>\n",
       "      <td>1.000000</td>\n",
       "      <td>1.000000</td>\n",
       "      <td>1.000000</td>\n",
       "      <td>1.000000</td>\n",
       "      <td>1.000000</td>\n",
       "      <td>1.000000</td>\n",
       "      <td>1.000000</td>\n",
       "      <td>1.000000</td>\n",
       "      <td>1.000000</td>\n",
       "      <td>1.000000</td>\n",
       "      <td>1.000000</td>\n",
       "      <td>1.000000</td>\n",
       "      <td>1.000000</td>\n",
       "      <td>1.000000</td>\n",
       "      <td>1.000000</td>\n",
       "      <td>1.000000</td>\n",
       "      <td>1.000000</td>\n",
       "      <td>1.000000</td>\n",
       "      <td>7.000000</td>\n",
       "    </tr>\n",
       "  </tbody>\n",
       "</table>\n",
       "</div>"
      ],
      "text/plain": [
       "       Elevation(meters)  Aspect(degrees)  Slope(degrees)  \\\n",
       "count       29050.000000     29050.000000    29050.000000   \n",
       "mean         2959.328330       155.720241       14.028537   \n",
       "std           277.578227       112.109417        7.458200   \n",
       "min          1879.000000         0.000000        0.000000   \n",
       "25%          2809.000000        58.000000        9.000000   \n",
       "50%          2995.000000       128.000000       13.000000   \n",
       "75%          3161.000000       262.000000       18.000000   \n",
       "max          3844.000000       360.000000       61.000000   \n",
       "\n",
       "       Horizontal_Distance_To_Hydrology(meters)  \\\n",
       "count                              29050.000000   \n",
       "mean                                 269.220792   \n",
       "std                                  212.406921   \n",
       "min                                    0.000000   \n",
       "25%                                  108.000000   \n",
       "50%                                  218.000000   \n",
       "75%                                  390.000000   \n",
       "max                                 1320.000000   \n",
       "\n",
       "       Vertical_Distance_To_Hydrology(meters)  \\\n",
       "count                            29050.000000   \n",
       "mean                                46.332737   \n",
       "std                                 58.938186   \n",
       "min                               -166.000000   \n",
       "25%                                  7.000000   \n",
       "50%                                 29.000000   \n",
       "75%                                 69.000000   \n",
       "max                                589.000000   \n",
       "\n",
       "       Horizontal_Distance_To_Roadways(meters)  Hillshade_9am  Hillshade_Noon  \\\n",
       "count                             29050.000000   29050.000000    29050.000000   \n",
       "mean                               2346.340241     212.042134      223.446850   \n",
       "std                                1558.148732      26.678889       19.610671   \n",
       "min                                   0.000000      58.000000       63.000000   \n",
       "25%                                1103.000000     198.000000      213.000000   \n",
       "50%                                1984.000000     218.000000      226.000000   \n",
       "75%                                3329.750000     231.000000      237.000000   \n",
       "max                                7087.000000     254.000000      254.000000   \n",
       "\n",
       "       Hillshade_3pm  Horizontal_Distance_To_Fire_Points(meters)  \\\n",
       "count   29050.000000                                29050.000000   \n",
       "mean      142.854630                                 1971.574871   \n",
       "std        38.000582                                 1321.145310   \n",
       "min         0.000000                                    0.000000   \n",
       "25%       120.000000                                 1020.000000   \n",
       "50%       143.000000                                 1704.000000   \n",
       "75%       168.000000                                 2536.000000   \n",
       "max       251.000000                                 7142.000000   \n",
       "\n",
       "       Wilderness_Area_1  Wilderness_Area_2  Wilderness_Area_3  \\\n",
       "count       29050.000000       29050.000000       29050.000000   \n",
       "mean            0.450843           0.050327           0.435422   \n",
       "std             0.497586           0.218623           0.495821   \n",
       "min             0.000000           0.000000           0.000000   \n",
       "25%             0.000000           0.000000           0.000000   \n",
       "50%             0.000000           0.000000           0.000000   \n",
       "75%             1.000000           0.000000           1.000000   \n",
       "max             1.000000           1.000000           1.000000   \n",
       "\n",
       "       Wilderness_Area_4   Soil_Type_1   Soil_Type_2   Soil_Type_3  \\\n",
       "count       29050.000000  29050.000000  29050.000000  29050.000000   \n",
       "mean            0.063408      0.004819      0.011945      0.007917   \n",
       "std             0.243699      0.069255      0.108640      0.088628   \n",
       "min             0.000000      0.000000      0.000000      0.000000   \n",
       "25%             0.000000      0.000000      0.000000      0.000000   \n",
       "50%             0.000000      0.000000      0.000000      0.000000   \n",
       "75%             0.000000      0.000000      0.000000      0.000000   \n",
       "max             1.000000      1.000000      1.000000      1.000000   \n",
       "\n",
       "        Soil_Type_4   Soil_Type_5   Soil_Type_6   Soil_Type_7   Soil_Type_8  \\\n",
       "count  29050.000000  29050.000000  29050.000000  29050.000000  29050.000000   \n",
       "mean       0.021480      0.002719      0.012771      0.000310      0.000516   \n",
       "std        0.144981      0.052078      0.112287      0.017599      0.022718   \n",
       "min        0.000000      0.000000      0.000000      0.000000      0.000000   \n",
       "25%        0.000000      0.000000      0.000000      0.000000      0.000000   \n",
       "50%        0.000000      0.000000      0.000000      0.000000      0.000000   \n",
       "75%        0.000000      0.000000      0.000000      0.000000      0.000000   \n",
       "max        1.000000      1.000000      1.000000      1.000000      1.000000   \n",
       "\n",
       "        Soil_Type_9  Soil_Type_10  Soil_Type_11  Soil_Type_12  Soil_Type_13  \\\n",
       "count  29050.000000  29050.000000  29050.000000  29050.000000  29050.000000   \n",
       "mean       0.001997      0.055077      0.020861      0.051566      0.030809   \n",
       "std        0.044639      0.228135      0.142920      0.221153      0.172803   \n",
       "min        0.000000      0.000000      0.000000      0.000000      0.000000   \n",
       "25%        0.000000      0.000000      0.000000      0.000000      0.000000   \n",
       "50%        0.000000      0.000000      0.000000      0.000000      0.000000   \n",
       "75%        0.000000      0.000000      0.000000      0.000000      0.000000   \n",
       "max        1.000000      1.000000      1.000000      1.000000      1.000000   \n",
       "\n",
       "       Soil_Type_14  Soil_Type_15  Soil_Type_16  Soil_Type_17  Soil_Type_18  \\\n",
       "count  29050.000000       29050.0  29050.000000  29050.000000  29050.000000   \n",
       "mean       0.001170           0.0      0.004750      0.006231      0.003305   \n",
       "std        0.034192           0.0      0.068761      0.078689      0.057392   \n",
       "min        0.000000           0.0      0.000000      0.000000      0.000000   \n",
       "25%        0.000000           0.0      0.000000      0.000000      0.000000   \n",
       "50%        0.000000           0.0      0.000000      0.000000      0.000000   \n",
       "75%        0.000000           0.0      0.000000      0.000000      0.000000   \n",
       "max        1.000000           0.0      1.000000      1.000000      1.000000   \n",
       "\n",
       "       Soil_Type_19  Soil_Type_20  Soil_Type_21  Soil_Type_22  Soil_Type_23  \\\n",
       "count  29050.000000  29050.000000  29050.000000  29050.000000  29050.000000   \n",
       "mean       0.006850      0.017005      0.001274      0.057212      0.097074   \n",
       "std        0.082484      0.129293      0.035666      0.232251      0.296064   \n",
       "min        0.000000      0.000000      0.000000      0.000000      0.000000   \n",
       "25%        0.000000      0.000000      0.000000      0.000000      0.000000   \n",
       "50%        0.000000      0.000000      0.000000      0.000000      0.000000   \n",
       "75%        0.000000      0.000000      0.000000      0.000000      0.000000   \n",
       "max        1.000000      1.000000      1.000000      1.000000      1.000000   \n",
       "\n",
       "       Soil_Type_24  Soil_Type_25  Soil_Type_26  Soil_Type_27  Soil_Type_28  \\\n",
       "count  29050.000000  29050.000000  29050.000000  29050.000000  29050.000000   \n",
       "mean       0.036730      0.000585      0.004303      0.001824      0.001824   \n",
       "std        0.188101      0.024184      0.065457      0.042675      0.042675   \n",
       "min        0.000000      0.000000      0.000000      0.000000      0.000000   \n",
       "25%        0.000000      0.000000      0.000000      0.000000      0.000000   \n",
       "50%        0.000000      0.000000      0.000000      0.000000      0.000000   \n",
       "75%        0.000000      0.000000      0.000000      0.000000      0.000000   \n",
       "max        1.000000      1.000000      1.000000      1.000000      1.000000   \n",
       "\n",
       "       Soil_Type_29  Soil_Type_30  Soil_Type_31  Soil_Type_32  Soil_Type_33  \\\n",
       "count  29050.000000  29050.000000  29050.000000  29050.000000  29050.000000   \n",
       "mean       0.200172      0.051842      0.042065      0.091738      0.078967   \n",
       "std        0.400136      0.221711      0.200742      0.288661      0.269692   \n",
       "min        0.000000      0.000000      0.000000      0.000000      0.000000   \n",
       "25%        0.000000      0.000000      0.000000      0.000000      0.000000   \n",
       "50%        0.000000      0.000000      0.000000      0.000000      0.000000   \n",
       "75%        0.000000      0.000000      0.000000      0.000000      0.000000   \n",
       "max        1.000000      1.000000      1.000000      1.000000      1.000000   \n",
       "\n",
       "       Soil_Type_34  Soil_Type_35  Soil_Type_36  Soil_Type_37  Soil_Type_38  \\\n",
       "count  29050.000000  29050.000000  29050.000000  29050.000000  29050.000000   \n",
       "mean       0.002719      0.003064      0.000207      0.000379      0.027539   \n",
       "std        0.052078      0.055267      0.014370      0.019456      0.163650   \n",
       "min        0.000000      0.000000      0.000000      0.000000      0.000000   \n",
       "25%        0.000000      0.000000      0.000000      0.000000      0.000000   \n",
       "50%        0.000000      0.000000      0.000000      0.000000      0.000000   \n",
       "75%        0.000000      0.000000      0.000000      0.000000      0.000000   \n",
       "max        1.000000      1.000000      1.000000      1.000000      1.000000   \n",
       "\n",
       "       Soil_Type_39  Soil_Type_40    Cover_Type  \n",
       "count  29050.000000  29050.000000  29050.000000  \n",
       "mean       0.023821      0.014561      5.536110  \n",
       "std        0.152494      0.119790      1.438261  \n",
       "min        0.000000      0.000000      1.000000  \n",
       "25%        0.000000      0.000000      5.000000  \n",
       "50%        0.000000      0.000000      5.000000  \n",
       "75%        0.000000      0.000000      7.000000  \n",
       "max        1.000000      1.000000      7.000000  "
      ]
     },
     "execution_count": 6,
     "metadata": {},
     "output_type": "execute_result"
    }
   ],
   "source": [
    "train.describe()"
   ]
  },
  {
   "cell_type": "markdown",
   "metadata": {},
   "source": [
    "### Checking for Null values"
   ]
  },
  {
   "cell_type": "code",
   "execution_count": 7,
   "metadata": {},
   "outputs": [
    {
     "data": {
      "text/plain": [
       "Elevation(meters)                             0.0\n",
       "Aspect(degrees)                               0.0\n",
       "Slope(degrees)                                0.0\n",
       "Horizontal_Distance_To_Hydrology(meters)      0.0\n",
       "Vertical_Distance_To_Hydrology(meters)        0.0\n",
       "Horizontal_Distance_To_Roadways(meters)       0.0\n",
       "Hillshade_9am                                 0.0\n",
       "Hillshade_Noon                                0.0\n",
       "Hillshade_3pm                                 0.0\n",
       "Horizontal_Distance_To_Fire_Points(meters)    0.0\n",
       "Wilderness_Area_1                             0.0\n",
       "Wilderness_Area_2                             0.0\n",
       "Wilderness_Area_3                             0.0\n",
       "Wilderness_Area_4                             0.0\n",
       "Soil_Type_1                                   0.0\n",
       "Soil_Type_2                                   0.0\n",
       "Soil_Type_3                                   0.0\n",
       "Soil_Type_4                                   0.0\n",
       "Soil_Type_5                                   0.0\n",
       "Soil_Type_6                                   0.0\n",
       "Soil_Type_7                                   0.0\n",
       "Soil_Type_8                                   0.0\n",
       "Soil_Type_9                                   0.0\n",
       "Soil_Type_10                                  0.0\n",
       "Soil_Type_11                                  0.0\n",
       "Soil_Type_12                                  0.0\n",
       "Soil_Type_13                                  0.0\n",
       "Soil_Type_14                                  0.0\n",
       "Soil_Type_15                                  0.0\n",
       "Soil_Type_16                                  0.0\n",
       "Soil_Type_17                                  0.0\n",
       "Soil_Type_18                                  0.0\n",
       "Soil_Type_19                                  0.0\n",
       "Soil_Type_20                                  0.0\n",
       "Soil_Type_21                                  0.0\n",
       "Soil_Type_22                                  0.0\n",
       "Soil_Type_23                                  0.0\n",
       "Soil_Type_24                                  0.0\n",
       "Soil_Type_25                                  0.0\n",
       "Soil_Type_26                                  0.0\n",
       "Soil_Type_27                                  0.0\n",
       "Soil_Type_28                                  0.0\n",
       "Soil_Type_29                                  0.0\n",
       "Soil_Type_30                                  0.0\n",
       "Soil_Type_31                                  0.0\n",
       "Soil_Type_32                                  0.0\n",
       "Soil_Type_33                                  0.0\n",
       "Soil_Type_34                                  0.0\n",
       "Soil_Type_35                                  0.0\n",
       "Soil_Type_36                                  0.0\n",
       "Soil_Type_37                                  0.0\n",
       "Soil_Type_38                                  0.0\n",
       "Soil_Type_39                                  0.0\n",
       "Soil_Type_40                                  0.0\n",
       "Cover_Type                                    0.0\n",
       "dtype: float64"
      ]
     },
     "execution_count": 7,
     "metadata": {},
     "output_type": "execute_result"
    }
   ],
   "source": [
    "train.isnull().sum()/train.count()"
   ]
  },
  {
   "cell_type": "markdown",
   "metadata": {},
   "source": [
    "### Checking for Unique values and Data Imbalance"
   ]
  },
  {
   "cell_type": "code",
   "execution_count": 8,
   "metadata": {},
   "outputs": [
    {
     "data": {
      "text/plain": [
       "(array([1, 2, 3, 4, 5, 6, 7], dtype=int64),\n",
       " array([ 1025,   475,   868,   137, 14165,  1788, 10592], dtype=int64))"
      ]
     },
     "execution_count": 8,
     "metadata": {},
     "output_type": "execute_result"
    }
   ],
   "source": [
    "np.unique(train['Cover_Type'],return_counts=True)"
   ]
  },
  {
   "cell_type": "code",
   "execution_count": 9,
   "metadata": {},
   "outputs": [],
   "source": [
    "import seaborn as sns"
   ]
  },
  {
   "cell_type": "markdown",
   "metadata": {},
   "source": [
    "### Checking distribution among the variables"
   ]
  },
  {
   "cell_type": "code",
   "execution_count": 10,
   "metadata": {},
   "outputs": [
    {
     "data": {
      "text/plain": [
       "<matplotlib.axes._subplots.AxesSubplot at 0x4330dbdd48>"
      ]
     },
     "execution_count": 10,
     "metadata": {},
     "output_type": "execute_result"
    },
    {
     "data": {
      "image/png": "[encoded data removed]",
      "text/plain": [
       "<Figure size 1080x216 with 2 Axes>"
      ]
     },
     "metadata": {
      "needs_background": "light"
     },
     "output_type": "display_data"
    }
   ],
   "source": [
    "f,(a,b)=plt.subplots(nrows=1,ncols=2,figsize=(15,3))\n",
    "sns.distplot(train['Elevation(meters)'],kde=True,ax=a)\n",
    "sns.boxplot(y='Cover_Type',x='Elevation(meters)',data=train,orient='h',ax=b)"
   ]
  },
  {
   "cell_type": "code",
   "execution_count": 11,
   "metadata": {},
   "outputs": [
    {
     "data": {
      "text/plain": [
       "<matplotlib.axes._subplots.AxesSubplot at 0x4331000d88>"
      ]
     },
     "execution_count": 11,
     "metadata": {},
     "output_type": "execute_result"
    },
    {
     "data": {
      "image/png": "[encoded data removed]",
      "text/plain": [
       "<Figure size 1080x216 with 2 Axes>"
      ]
     },
     "metadata": {
      "needs_background": "light"
     },
     "output_type": "display_data"
    }
   ],
   "source": [
    "f,(a,b)=plt.subplots(nrows=1,ncols=2,figsize=(15,3))\n",
    "sns.distplot(train['Aspect(degrees)'],kde=True,ax=a)\n",
    "sns.boxplot(y='Cover_Type',x='Aspect(degrees)',data=train,orient='h',ax=b)"
   ]
  },
  {
   "cell_type": "code",
   "execution_count": 12,
   "metadata": {},
   "outputs": [
    {
     "data": {
      "text/plain": [
       "<matplotlib.axes._subplots.AxesSubplot at 0x43311a46c8>"
      ]
     },
     "execution_count": 12,
     "metadata": {},
     "output_type": "execute_result"
    },
    {
     "data": {
      "image/png": "[encoded data removed]",
      "text/plain": [
       "<Figure size 1080x216 with 2 Axes>"
      ]
     },
     "metadata": {
      "needs_background": "light"
     },
     "output_type": "display_data"
    }
   ],
   "source": [
    "f,(a,b)=plt.subplots(nrows=1,ncols=2,figsize=(15,3))\n",
    "sns.distplot(train['Slope(degrees)'],kde=True,ax=a)\n",
    "sns.boxplot(y='Cover_Type',x='Slope(degrees)',data=train,orient='h',ax=b)"
   ]
  },
  {
   "cell_type": "code",
   "execution_count": 13,
   "metadata": {},
   "outputs": [
    {
     "data": {
      "text/plain": [
       "<matplotlib.axes._subplots.AxesSubplot at 0x4331381108>"
      ]
     },
     "execution_count": 13,
     "metadata": {},
     "output_type": "execute_result"
    },
    {
     "data": {
      "image/png": "[encoded data removed]",
      "text/plain": [
       "<Figure size 1080x216 with 2 Axes>"
      ]
     },
     "metadata": {
      "needs_background": "light"
     },
     "output_type": "display_data"
    }
   ],
   "source": [
    "f,(a,b)=plt.subplots(nrows=1,ncols=2,figsize=(15,3))\n",
    "sns.distplot(train['Horizontal_Distance_To_Hydrology(meters)'],kde=True,ax=a)\n",
    "sns.boxplot(y='Cover_Type',x='Horizontal_Distance_To_Hydrology(meters)',data=train,orient='h',ax=b)"
   ]
  },
  {
   "cell_type": "code",
   "execution_count": 14,
   "metadata": {},
   "outputs": [
    {
     "data": {
      "text/plain": [
       "<matplotlib.axes._subplots.AxesSubplot at 0x4331566508>"
      ]
     },
     "execution_count": 14,
     "metadata": {},
     "output_type": "execute_result"
    },
    {
     "data": {
      "image/png": "[encoded data removed]",
      "text/plain": [
       "<Figure size 1080x216 with 2 Axes>"
      ]
     },
     "metadata": {
      "needs_background": "light"
     },
     "output_type": "display_data"
    }
   ],
   "source": [
    "f,(a,b)=plt.subplots(nrows=1,ncols=2,figsize=(15,3))\n",
    "sns.distplot(train['Vertical_Distance_To_Hydrology(meters)'],kde=True,ax=a)\n",
    "sns.boxplot(y='Cover_Type',x='Vertical_Distance_To_Hydrology(meters)',data=train,orient='h',ax=b)"
   ]
  },
  {
   "cell_type": "code",
   "execution_count": 15,
   "metadata": {},
   "outputs": [
    {
     "data": {
      "text/plain": [
       "<matplotlib.axes._subplots.AxesSubplot at 0x4331755b88>"
      ]
     },
     "execution_count": 15,
     "metadata": {},
     "output_type": "execute_result"
    },
    {
     "data": {
      "image/png": "[encoded data removed]",
      "text/plain": [
       "<Figure size 1080x216 with 2 Axes>"
      ]
     },
     "metadata": {
      "needs_background": "light"
     },
     "output_type": "display_data"
    }
   ],
   "source": [
    "f,(a,b)=plt.subplots(nrows=1,ncols=2,figsize=(15,3))\n",
    "sns.distplot(train['Horizontal_Distance_To_Roadways(meters)'],kde=True,ax=a)\n",
    "sns.boxplot(y='Cover_Type',x='Horizontal_Distance_To_Roadways(meters)',data=train,orient='h',ax=b)"
   ]
  },
  {
   "cell_type": "code",
   "execution_count": 16,
   "metadata": {},
   "outputs": [],
   "source": [
    "#plt.figure(figsize=(20,20))\n",
    "#sns.heatmap(train.corr(),annot=True)"
   ]
  },
  {
   "cell_type": "code",
   "execution_count": 17,
   "metadata": {},
   "outputs": [
    {
     "name": "stderr",
     "output_type": "stream",
     "text": [
      "C:\\Users\\santhosh\\Anaconda3\\lib\\site-packages\\seaborn\\distributions.py:288: UserWarning: Data must have variance to compute a kernel density estimate.\n",
      "  warnings.warn(msg, UserWarning)\n"
     ]
    },
    {
     "data": {
      "text/plain": [
       "<matplotlib.axes._subplots.AxesSubplot at 0x43319385c8>"
      ]
     },
     "execution_count": 17,
     "metadata": {},
     "output_type": "execute_result"
    },
    {
     "data": {
      "image/png": "[encoded data removed]",
      "text/plain": [
       "<Figure size 1080x216 with 2 Axes>"
      ]
     },
     "metadata": {
      "needs_background": "light"
     },
     "output_type": "display_data"
    }
   ],
   "source": [
    "f,(a,b)=plt.subplots(nrows=1,ncols=2,figsize=(15,3))\n",
    "sns.distplot(train['Soil_Type_15'],kde=True,ax=a)\n",
    "sns.boxplot(y='Cover_Type',x='Soil_Type_15',data=train,orient='h',ax=b)"
   ]
  },
  {
   "cell_type": "markdown",
   "metadata": {},
   "source": [
    "### Dropping 'Soil_Type_15', it doesnt contribute to feautres"
   ]
  },
  {
   "cell_type": "code",
   "execution_count": 18,
   "metadata": {},
   "outputs": [],
   "source": [
    "train.drop(['Soil_Type_15'],axis=1,inplace=True)"
   ]
  },
  {
   "cell_type": "code",
   "execution_count": 19,
   "metadata": {},
   "outputs": [],
   "source": [
    "test.drop(['Soil_Type_15'],axis=1,inplace=True)"
   ]
  },
  {
   "cell_type": "markdown",
   "metadata": {},
   "source": [
    "### Feature Engineering Categorial and Numerical in Train & Test Data"
   ]
  },
  {
   "cell_type": "code",
   "execution_count": 21,
   "metadata": {},
   "outputs": [],
   "source": [
    "categorical = []\n",
    "for col, value in train.iteritems():\n",
    "    if value.dtype == 'object':\n",
    "        categorical.append(col)"
   ]
  },
  {
   "cell_type": "code",
   "execution_count": 22,
   "metadata": {},
   "outputs": [],
   "source": [
    "numerical = train.columns.difference(categorical)"
   ]
  },
  {
   "cell_type": "code",
   "execution_count": 63,
   "metadata": {},
   "outputs": [],
   "source": [
    "categorical_t = []\n",
    "for col, value in test.iteritems():\n",
    "    if value.dtype == 'object':\n",
    "        categorical_t.append(col)"
   ]
  },
  {
   "cell_type": "code",
   "execution_count": 64,
   "metadata": {},
   "outputs": [],
   "source": [
    "numerical_t = test.columns.difference(categorical_t)"
   ]
  },
  {
   "cell_type": "code",
   "execution_count": 23,
   "metadata": {},
   "outputs": [],
   "source": [
    "train_cat = train[categorical]"
   ]
  },
  {
   "cell_type": "code",
   "execution_count": 65,
   "metadata": {},
   "outputs": [],
   "source": [
    "test_cat = test[categorical_t]"
   ]
  },
  {
   "cell_type": "code",
   "execution_count": 24,
   "metadata": {},
   "outputs": [],
   "source": [
    "train_num = train[numerical]"
   ]
  },
  {
   "cell_type": "code",
   "execution_count": 66,
   "metadata": {},
   "outputs": [],
   "source": [
    "test_num = test[numerical_t]"
   ]
  },
  {
   "cell_type": "markdown",
   "metadata": {},
   "source": [
    "### Data is skewed, used Standard Scaler method to standarized the numerical variable"
   ]
  },
  {
   "cell_type": "code",
   "execution_count": 25,
   "metadata": {},
   "outputs": [],
   "source": [
    "from sklearn.preprocessing import StandardScaler"
   ]
  },
  {
   "cell_type": "code",
   "execution_count": 26,
   "metadata": {},
   "outputs": [],
   "source": [
    "scaler = StandardScaler()"
   ]
  },
  {
   "cell_type": "code",
   "execution_count": 27,
   "metadata": {},
   "outputs": [
    {
     "data": {
      "text/plain": [
       "(29050, 54)"
      ]
     },
     "execution_count": 27,
     "metadata": {},
     "output_type": "execute_result"
    }
   ],
   "source": [
    "scaled_d = scaler.fit_transform(train_num)\n",
    "scaled_df = pd.DataFrame(scaled_d,columns=train_num.columns)\n",
    "scaled_df.shape"
   ]
  },
  {
   "cell_type": "code",
   "execution_count": 67,
   "metadata": {},
   "outputs": [
    {
     "data": {
      "text/plain": [
       "(551962, 53)"
      ]
     },
     "execution_count": 67,
     "metadata": {},
     "output_type": "execute_result"
    }
   ],
   "source": [
    "scaled_t = scaler.fit_transform(test_num)\n",
    "scaled_tf = pd.DataFrame(scaled_t,columns=test_num.columns)\n",
    "scaled_tf.shape"
   ]
  },
  {
   "cell_type": "code",
   "execution_count": 28,
   "metadata": {},
   "outputs": [],
   "source": [
    "train_f = pd.concat([scaled_df,train_cat],axis=1)"
   ]
  },
  {
   "cell_type": "code",
   "execution_count": 72,
   "metadata": {},
   "outputs": [
    {
     "name": "stdout",
     "output_type": "stream",
     "text": [
      "(551962, 53)\n"
     ]
    }
   ],
   "source": [
    "test_f = pd.concat([scaled_tf,test_cat],axis=1)\n",
    "print(test_f.shape)"
   ]
  },
  {
   "cell_type": "code",
   "execution_count": 29,
   "metadata": {},
   "outputs": [],
   "source": [
    "y = train['Cover_Type']"
   ]
  },
  {
   "cell_type": "code",
   "execution_count": 30,
   "metadata": {},
   "outputs": [
    {
     "data": {
      "text/plain": [
       "0    5\n",
       "1    7\n",
       "2    5\n",
       "3    7\n",
       "4    7\n",
       "Name: Cover_Type, dtype: int64"
      ]
     },
     "execution_count": 30,
     "metadata": {},
     "output_type": "execute_result"
    }
   ],
   "source": [
    "y.head()"
   ]
  },
  {
   "cell_type": "code",
   "execution_count": 31,
   "metadata": {},
   "outputs": [],
   "source": [
    "X = train_f"
   ]
  },
  {
   "cell_type": "code",
   "execution_count": 32,
   "metadata": {},
   "outputs": [],
   "source": [
    "X.drop(['Cover_Type'],axis=1,inplace=True)"
   ]
  },
  {
   "cell_type": "code",
   "execution_count": 33,
   "metadata": {},
   "outputs": [
    {
     "name": "stdout",
     "output_type": "stream",
     "text": [
      "(29050, 53)\n"
     ]
    }
   ],
   "source": [
    "print(X.shape)"
   ]
  },
  {
   "cell_type": "code",
   "execution_count": 34,
   "metadata": {},
   "outputs": [
    {
     "data": {
      "text/plain": [
       "(29050,)"
      ]
     },
     "execution_count": 34,
     "metadata": {},
     "output_type": "execute_result"
    }
   ],
   "source": [
    "y.shape"
   ]
  },
  {
   "cell_type": "markdown",
   "metadata": {},
   "source": [
    "### Splitting the train data into train & test with 25% of test_size"
   ]
  },
  {
   "cell_type": "code",
   "execution_count": 35,
   "metadata": {},
   "outputs": [],
   "source": [
    "from sklearn.model_selection import train_test_split"
   ]
  },
  {
   "cell_type": "code",
   "execution_count": 36,
   "metadata": {},
   "outputs": [],
   "source": [
    "train_X,test_X,train_y,test_y = train_test_split(X,y,test_size=0.25,random_state=1)"
   ]
  },
  {
   "cell_type": "code",
   "execution_count": 37,
   "metadata": {},
   "outputs": [
    {
     "name": "stdout",
     "output_type": "stream",
     "text": [
      "(21787, 53)\n",
      "(21787,)\n",
      "(7263, 53)\n",
      "(7263,)\n"
     ]
    }
   ],
   "source": [
    "print(train_X.shape)\n",
    "print(train_y.shape)\n",
    "print(test_X.shape)\n",
    "print(test_y.shape)"
   ]
  },
  {
   "cell_type": "markdown",
   "metadata": {},
   "source": [
    "### For balancing the data used SMOTE to balance"
   ]
  },
  {
   "cell_type": "code",
   "execution_count": 38,
   "metadata": {},
   "outputs": [],
   "source": [
    "from imblearn.over_sampling import SMOTE"
   ]
  },
  {
   "cell_type": "code",
   "execution_count": 39,
   "metadata": {},
   "outputs": [],
   "source": [
    "os = SMOTE(random_state=1)"
   ]
  },
  {
   "cell_type": "code",
   "execution_count": 40,
   "metadata": {},
   "outputs": [],
   "source": [
    "train_X_reshape,train_y_reshape = os.fit_sample(train_X,train_y)"
   ]
  },
  {
   "cell_type": "code",
   "execution_count": 41,
   "metadata": {},
   "outputs": [],
   "source": [
    "test_X_reshape,test_y_reshape = os.fit_sample(test_X,test_y)"
   ]
  },
  {
   "cell_type": "markdown",
   "metadata": {},
   "source": [
    "### Model Building"
   ]
  },
  {
   "cell_type": "code",
   "execution_count": 46,
   "metadata": {},
   "outputs": [],
   "source": [
    "#Libaries for Model Building\n",
    "from sklearn.model_selection import train_test_split\n",
    "from sklearn.ensemble import RandomForestClassifier\n",
    "from sklearn.linear_model import LogisticRegression\n",
    "from sklearn.tree import DecisionTreeClassifier\n",
    "from sklearn.neighbors import KNeighborsClassifier\n",
    "from sklearn.ensemble import RandomForestClassifier\n",
    "from sklearn.ensemble import GradientBoostingClassifier\n",
    "\n",
    "#Libaries for Model Fine tuning\n",
    "from sklearn.model_selection import KFold,cross_val_score,GridSearchCV,RepeatedStratifiedKFold\n",
    "\n",
    "#Libaries for Model Evaluation\n",
    "from sklearn import metrics as m "
   ]
  },
  {
   "cell_type": "markdown",
   "metadata": {},
   "source": [
    "### First try run will use 4 classifier model to identify the best model"
   ]
  },
  {
   "cell_type": "code",
   "execution_count": 59,
   "metadata": {},
   "outputs": [],
   "source": [
    "def run_models(train_X_reshape, train_y_reshape, test_X_reshape, test_y_reshape, model_type = 'balanced'):\n",
    "    \n",
    "    clfs = {'GradientBoosting': GradientBoostingClassifier(max_depth= 6, n_estimators=100, max_features = 0.3),\n",
    "            'LogisticRegression' : LogisticRegression(multi_class='ovr',max_iter=1000),\n",
    "            'RandomForestClassifier': RandomForestClassifier(n_estimators=10),\n",
    "             'CART': DecisionTreeClassifier(max_depth = 4)\n",
    "            }\n",
    "    cols = ['model', 'roc_auc_score', 'precision_score', 'recall_score','f1_score']\n",
    "\n",
    "    models_report = pd.DataFrame(columns = cols)\n",
    "    conf_matrix = dict()\n",
    "\n",
    "    for clf, clf_name in zip(clfs.values(), clfs.keys()):\n",
    "\n",
    "        clf.fit(train_X_reshape, train_y_reshape)\n",
    "\n",
    "        y_pred = clf.predict(test_X_reshape)\n",
    "        y_score = clf.predict_proba(test_X_reshape)\n",
    "\n",
    "        print('computing {} - {} '.format(clf_name, model_type))\n",
    "\n",
    "        tmp = pd.Series({'model_type': model_type,\n",
    "                         'model': clf_name,\n",
    "                         'roc_auc_score' : m.roc_auc_score(test_y_reshape, y_score,average = 'macro',multi_class = 'ovr'),\n",
    "                         'precision_score': m.precision_score(test_y_reshape, y_pred,average='macro'),\n",
    "                         'recall_score': m.recall_score(test_y_reshape, y_pred,average='macro'),\n",
    "                         'f1_score': m.f1_score(test_y_reshape, y_pred,average='macro')})\n",
    "\n",
    "        models_report = models_report.append(tmp, ignore_index = True)\n",
    "        conf_matrix[clf_name] = pd.crosstab(test_y_reshape, y_pred, rownames=['True'], colnames= ['Predicted'], margins=False)\n",
    "        \n",
    "\n",
    "            \n",
    "    return models_report, conf_matrix"
   ]
  },
  {
   "cell_type": "code",
   "execution_count": 60,
   "metadata": {},
   "outputs": [
    {
     "name": "stdout",
     "output_type": "stream",
     "text": [
      "computing GradientBoosting - balanced \n",
      "computing LogisticRegression - balanced \n",
      "computing RandomForestClassifier - balanced \n",
      "computing CART - balanced \n"
     ]
    }
   ],
   "source": [
    "models_report, conf_matrix = run_models(train_X_reshape, train_y_reshape, test_X_reshape, test_y_reshape, model_type = 'balanced')"
   ]
  },
  {
   "cell_type": "code",
   "execution_count": 61,
   "metadata": {},
   "outputs": [
    {
     "data": {
      "text/html": [
       "<div>\n",
       "<style scoped>\n",
       "    .dataframe tbody tr th:only-of-type {\n",
       "        vertical-align: middle;\n",
       "    }\n",
       "\n",
       "    .dataframe tbody tr th {\n",
       "        vertical-align: top;\n",
       "    }\n",
       "\n",
       "    .dataframe thead th {\n",
       "        text-align: right;\n",
       "    }\n",
       "</style>\n",
       "<table border=\"1\" class=\"dataframe\">\n",
       "  <thead>\n",
       "    <tr style=\"text-align: right;\">\n",
       "      <th></th>\n",
       "      <th>model</th>\n",
       "      <th>roc_auc_score</th>\n",
       "      <th>precision_score</th>\n",
       "      <th>recall_score</th>\n",
       "      <th>f1_score</th>\n",
       "      <th>model_type</th>\n",
       "    </tr>\n",
       "  </thead>\n",
       "  <tbody>\n",
       "    <tr>\n",
       "      <th>0</th>\n",
       "      <td>GradientBoosting</td>\n",
       "      <td>0.981407</td>\n",
       "      <td>0.834271</td>\n",
       "      <td>0.825392</td>\n",
       "      <td>0.827399</td>\n",
       "      <td>balanced</td>\n",
       "    </tr>\n",
       "    <tr>\n",
       "      <th>1</th>\n",
       "      <td>LogisticRegression</td>\n",
       "      <td>0.938545</td>\n",
       "      <td>0.665674</td>\n",
       "      <td>0.666283</td>\n",
       "      <td>0.665078</td>\n",
       "      <td>balanced</td>\n",
       "    </tr>\n",
       "    <tr>\n",
       "      <th>2</th>\n",
       "      <td>RandomForestClassifier</td>\n",
       "      <td>0.968327</td>\n",
       "      <td>0.824297</td>\n",
       "      <td>0.803116</td>\n",
       "      <td>0.807225</td>\n",
       "      <td>balanced</td>\n",
       "    </tr>\n",
       "    <tr>\n",
       "      <th>3</th>\n",
       "      <td>CART</td>\n",
       "      <td>0.922779</td>\n",
       "      <td>0.646634</td>\n",
       "      <td>0.657959</td>\n",
       "      <td>0.643264</td>\n",
       "      <td>balanced</td>\n",
       "    </tr>\n",
       "  </tbody>\n",
       "</table>\n",
       "</div>"
      ],
      "text/plain": [
       "                    model  roc_auc_score  precision_score  recall_score  \\\n",
       "0        GradientBoosting       0.981407         0.834271      0.825392   \n",
       "1      LogisticRegression       0.938545         0.665674      0.666283   \n",
       "2  RandomForestClassifier       0.968327         0.824297      0.803116   \n",
       "3                    CART       0.922779         0.646634      0.657959   \n",
       "\n",
       "   f1_score model_type  \n",
       "0  0.827399   balanced  \n",
       "1  0.665078   balanced  \n",
       "2  0.807225   balanced  \n",
       "3  0.643264   balanced  "
      ]
     },
     "execution_count": 61,
     "metadata": {},
     "output_type": "execute_result"
    }
   ],
   "source": [
    "models_report"
   ]
  },
  {
   "cell_type": "markdown",
   "metadata": {},
   "source": [
    "### GradientBoosting provides higher recall_Score, will choose this model and use hyper tuning for increasing in accuracy"
   ]
  },
  {
   "cell_type": "code",
   "execution_count": 81,
   "metadata": {},
   "outputs": [],
   "source": [
    "GB = GradientBoostingClassifier(max_depth= 6, n_estimators=100, max_features = 0.3)"
   ]
  },
  {
   "cell_type": "code",
   "execution_count": 82,
   "metadata": {},
   "outputs": [
    {
     "data": {
      "text/plain": [
       "GradientBoostingClassifier(ccp_alpha=0.0, criterion='friedman_mse', init=None,\n",
       "                           learning_rate=0.1, loss='deviance', max_depth=6,\n",
       "                           max_features=0.3, max_leaf_nodes=None,\n",
       "                           min_impurity_decrease=0.0, min_impurity_split=None,\n",
       "                           min_samples_leaf=1, min_samples_split=2,\n",
       "                           min_weight_fraction_leaf=0.0, n_estimators=100,\n",
       "                           n_iter_no_change=None, presort='deprecated',\n",
       "                           random_state=None, subsample=1.0, tol=0.0001,\n",
       "                           validation_fraction=0.1, verbose=0,\n",
       "                           warm_start=False)"
      ]
     },
     "execution_count": 82,
     "metadata": {},
     "output_type": "execute_result"
    }
   ],
   "source": [
    "GB.fit(train_X_reshape, train_y_reshape)"
   ]
  },
  {
   "cell_type": "code",
   "execution_count": 83,
   "metadata": {},
   "outputs": [],
   "source": [
    "GB_pred = GB.predict(test_X_reshape)"
   ]
  },
  {
   "cell_type": "code",
   "execution_count": null,
   "metadata": {},
   "outputs": [],
   "source": []
  },
  {
   "cell_type": "code",
   "execution_count": 84,
   "metadata": {},
   "outputs": [
    {
     "data": {
      "text/plain": [
       "0.8200808625336927"
      ]
     },
     "execution_count": 84,
     "metadata": {},
     "output_type": "execute_result"
    }
   ],
   "source": [
    "m.accuracy_score(test_y_reshape,GB.predict(test_X_reshape))"
   ]
  },
  {
   "cell_type": "code",
   "execution_count": 85,
   "metadata": {},
   "outputs": [],
   "source": [
    "from sklearn.metrics import confusion_matrix \n",
    "from sklearn.metrics import accuracy_score \n",
    "from sklearn.metrics import classification_report"
   ]
  },
  {
   "cell_type": "code",
   "execution_count": 86,
   "metadata": {},
   "outputs": [],
   "source": [
    "import warnings\n",
    "warnings.filterwarnings(\"ignore\")"
   ]
  },
  {
   "cell_type": "code",
   "execution_count": 87,
   "metadata": {},
   "outputs": [],
   "source": [
    "cm = confusion_matrix(test_y_reshape,GB.predict(test_X_reshape))"
   ]
  },
  {
   "cell_type": "code",
   "execution_count": 88,
   "metadata": {},
   "outputs": [],
   "source": [
    "import seaborn as sns"
   ]
  },
  {
   "cell_type": "code",
   "execution_count": 89,
   "metadata": {},
   "outputs": [
    {
     "data": {
      "text/plain": [
       "<matplotlib.axes._subplots.AxesSubplot at 0x430f229688>"
      ]
     },
     "execution_count": 89,
     "metadata": {},
     "output_type": "execute_result"
    },
    {
     "data": {
      "image/png": "[encoded data removed]",
      "text/plain": [
       "<Figure size 432x288 with 2 Axes>"
      ]
     },
     "metadata": {
      "needs_background": "light"
     },
     "output_type": "display_data"
    }
   ],
   "source": [
    "sns.heatmap(cm,annot=True)"
   ]
  },
  {
   "cell_type": "code",
   "execution_count": 90,
   "metadata": {},
   "outputs": [
    {
     "name": "stdout",
     "output_type": "stream",
     "text": [
      "              precision    recall  f1-score   support\n",
      "\n",
      "           1       0.96      0.97      0.96      3604\n",
      "           2       0.91      0.88      0.90      3604\n",
      "           3       0.79      0.77      0.78      3604\n",
      "           4       0.95      0.77      0.85      3604\n",
      "           5       0.75      0.75      0.75      3604\n",
      "           6       0.65      0.81      0.72      3604\n",
      "           7       0.80      0.79      0.80      3604\n",
      "\n",
      "    accuracy                           0.82     25228\n",
      "   macro avg       0.83      0.82      0.82     25228\n",
      "weighted avg       0.83      0.82      0.82     25228\n",
      "\n"
     ]
    }
   ],
   "source": [
    "print(classification_report(test_y_reshape,GB.predict(test_X_reshape)))"
   ]
  },
  {
   "cell_type": "code",
   "execution_count": 91,
   "metadata": {},
   "outputs": [],
   "source": [
    "predictions = GB.predict(test_f)"
   ]
  },
  {
   "cell_type": "code",
   "execution_count": 115,
   "metadata": {},
   "outputs": [
    {
     "data": {
      "application/vnd.plotly.v1+json": {
       "config": {
        "linkText": "Export to plot.ly",
        "plotlyServerURL": "https://plot.ly",
        "showLink": false
       },
       "data": [
        {
         "marker": {
          "color": [
           0.027599371849275536,
           0.35082758251684226,
           0.018835924253140894,
           0.04105585603556013,
           0.02748795202863634,
           0.044283422160443786,
           0.044943904764815995,
           0.06804987091219557,
           0.025186619526230327,
           0.0037584695852853076,
           0.039354319446303354,
           0.0033743029167263177,
           0.009516946887313693,
           0.006077528424439161,
           0.0006609069149542929,
           0.0008313574962419203,
           0.005839831375170731,
           0.0013006043424935029,
           0.00027450617598991995,
           0.011748963272177686,
           0.0009190646767324385,
           0.0001630502936066417,
           0.009904090429640211,
           0.008825225149203685,
           0.001577305593142174,
           1.2264631419111524e-05,
           0.0007296722185060304,
           0.0002947681403921707,
           0.0004276304565556064,
           0.008008782964705327,
           0.02240107808807347,
           0.014680441179959694,
           0.002231521640298807,
           0.006134811366701461,
           0.0035701994628565647,
           0.00041636751986262447,
           0.0012695449504281095,
           3.1769395349084186e-05,
           6.2903977537962e-05,
           0.012503961593110367,
           0.014218523057144857,
           0.015565456774819016,
           0.005262974266358559,
           0.0017989154905631946,
           0.0077124145044919915,
           3.0127104210579434e-06,
           2.198057023536812e-05,
           0.00010273390728855155,
           0.04106156423663447,
           0.019787977919255885,
           0.0022133334080066906,
           0.017989333707556118,
           0.04908908483490621
          ],
          "colorscale": [
           [
            0,
            "rgb(12,51,131)"
           ],
           [
            0.25,
            "rgb(10,136,186)"
           ],
           [
            0.5,
            "rgb(242,211,56)"
           ],
           [
            0.75,
            "rgb(242,143,56)"
           ],
           [
            1,
            "rgb(217,30,30)"
           ]
          ],
          "showscale": true,
          "size": 13,
          "sizemode": "diameter",
          "sizeref": 1
         },
         "mode": "markers",
         "text": [
          "Aspect(degrees)",
          "Elevation(meters)",
          "Hillshade_3pm",
          "Hillshade_9am",
          "Hillshade_Noon",
          "Horizontal_Distance_To_Fire_Points(meters)",
          "Horizontal_Distance_To_Hydrology(meters)",
          "Horizontal_Distance_To_Roadways(meters)",
          "Slope(degrees)",
          "Soil_Type_1",
          "Soil_Type_10",
          "Soil_Type_11",
          "Soil_Type_12",
          "Soil_Type_13",
          "Soil_Type_14",
          "Soil_Type_16",
          "Soil_Type_17",
          "Soil_Type_18",
          "Soil_Type_19",
          "Soil_Type_2",
          "Soil_Type_20",
          "Soil_Type_21",
          "Soil_Type_22",
          "Soil_Type_23",
          "Soil_Type_24",
          "Soil_Type_25",
          "Soil_Type_26",
          "Soil_Type_27",
          "Soil_Type_28",
          "Soil_Type_29",
          "Soil_Type_3",
          "Soil_Type_30",
          "Soil_Type_31",
          "Soil_Type_32",
          "Soil_Type_33",
          "Soil_Type_34",
          "Soil_Type_35",
          "Soil_Type_36",
          "Soil_Type_37",
          "Soil_Type_38",
          "Soil_Type_39",
          "Soil_Type_4",
          "Soil_Type_40",
          "Soil_Type_5",
          "Soil_Type_6",
          "Soil_Type_7",
          "Soil_Type_8",
          "Soil_Type_9",
          "Vertical_Distance_To_Hydrology(meters)",
          "Wilderness_Area_1",
          "Wilderness_Area_2",
          "Wilderness_Area_3",
          "Wilderness_Area_4"
         ],
         "type": "scatter",
         "x": [
          "Aspect(degrees)",
          "Elevation(meters)",
          "Hillshade_3pm",
          "Hillshade_9am",
          "Hillshade_Noon",
          "Horizontal_Distance_To_Fire_Points(meters)",
          "Horizontal_Distance_To_Hydrology(meters)",
          "Horizontal_Distance_To_Roadways(meters)",
          "Slope(degrees)",
          "Soil_Type_1",
          "Soil_Type_10",
          "Soil_Type_11",
          "Soil_Type_12",
          "Soil_Type_13",
          "Soil_Type_14",
          "Soil_Type_16",
          "Soil_Type_17",
          "Soil_Type_18",
          "Soil_Type_19",
          "Soil_Type_2",
          "Soil_Type_20",
          "Soil_Type_21",
          "Soil_Type_22",
          "Soil_Type_23",
          "Soil_Type_24",
          "Soil_Type_25",
          "Soil_Type_26",
          "Soil_Type_27",
          "Soil_Type_28",
          "Soil_Type_29",
          "Soil_Type_3",
          "Soil_Type_30",
          "Soil_Type_31",
          "Soil_Type_32",
          "Soil_Type_33",
          "Soil_Type_34",
          "Soil_Type_35",
          "Soil_Type_36",
          "Soil_Type_37",
          "Soil_Type_38",
          "Soil_Type_39",
          "Soil_Type_4",
          "Soil_Type_40",
          "Soil_Type_5",
          "Soil_Type_6",
          "Soil_Type_7",
          "Soil_Type_8",
          "Soil_Type_9",
          "Vertical_Distance_To_Hydrology(meters)",
          "Wilderness_Area_1",
          "Wilderness_Area_2",
          "Wilderness_Area_3",
          "Wilderness_Area_4"
         ],
         "y": [
          0.027599371849275536,
          0.35082758251684226,
          0.018835924253140894,
          0.04105585603556013,
          0.02748795202863634,
          0.044283422160443786,
          0.044943904764815995,
          0.06804987091219557,
          0.025186619526230327,
          0.0037584695852853076,
          0.039354319446303354,
          0.0033743029167263177,
          0.009516946887313693,
          0.006077528424439161,
          0.0006609069149542929,
          0.0008313574962419203,
          0.005839831375170731,
          0.0013006043424935029,
          0.00027450617598991995,
          0.011748963272177686,
          0.0009190646767324385,
          0.0001630502936066417,
          0.009904090429640211,
          0.008825225149203685,
          0.001577305593142174,
          1.2264631419111524e-05,
          0.0007296722185060304,
          0.0002947681403921707,
          0.0004276304565556064,
          0.008008782964705327,
          0.02240107808807347,
          0.014680441179959694,
          0.002231521640298807,
          0.006134811366701461,
          0.0035701994628565647,
          0.00041636751986262447,
          0.0012695449504281095,
          3.1769395349084186e-05,
          6.2903977537962e-05,
          0.012503961593110367,
          0.014218523057144857,
          0.015565456774819016,
          0.005262974266358559,
          0.0017989154905631946,
          0.0077124145044919915,
          3.0127104210579434e-06,
          2.198057023536812e-05,
          0.00010273390728855155,
          0.04106156423663447,
          0.019787977919255885,
          0.0022133334080066906,
          0.017989333707556118,
          0.04908908483490621
         ]
        }
       ],
       "layout": {
        "autosize": true,
        "hovermode": "closest",
        "showlegend": false,
        "template": {
         "data": {
          "bar": [
           {
            "error_x": {
             "color": "#2a3f5f"
            },
            "error_y": {
             "color": "#2a3f5f"
            },
            "marker": {
             "line": {
              "color": "#E5ECF6",
              "width": 0.5
             }
            },
            "type": "bar"
           }
          ],
          "barpolar": [
           {
            "marker": {
             "line": {
              "color": "#E5ECF6",
              "width": 0.5
             }
            },
            "type": "barpolar"
           }
          ],
          "carpet": [
           {
            "aaxis": {
             "endlinecolor": "#2a3f5f",
             "gridcolor": "white",
             "linecolor": "white",
             "minorgridcolor": "white",
             "startlinecolor": "#2a3f5f"
            },
            "baxis": {
             "endlinecolor": "#2a3f5f",
             "gridcolor": "white",
             "linecolor": "white",
             "minorgridcolor": "white",
             "startlinecolor": "#2a3f5f"
            },
            "type": "carpet"
           }
          ],
          "choropleth": [
           {
            "colorbar": {
             "outlinewidth": 0,
             "ticks": ""
            },
            "type": "choropleth"
           }
          ],
          "contour": [
           {
            "colorbar": {
             "outlinewidth": 0,
             "ticks": ""
            },
            "colorscale": [
             [
              0,
              "#0d0887"
             ],
             [
              0.1111111111111111,
              "#46039f"
             ],
             [
              0.2222222222222222,
              "#7201a8"
             ],
             [
              0.3333333333333333,
              "#9c179e"
             ],
             [
              0.4444444444444444,
              "#bd3786"
             ],
             [
              0.5555555555555556,
              "#d8576b"
             ],
             [
              0.6666666666666666,
              "#ed7953"
             ],
             [
              0.7777777777777778,
              "#fb9f3a"
             ],
             [
              0.8888888888888888,
              "#fdca26"
             ],
             [
              1,
              "#f0f921"
             ]
            ],
            "type": "contour"
           }
          ],
          "contourcarpet": [
           {
            "colorbar": {
             "outlinewidth": 0,
             "ticks": ""
            },
            "type": "contourcarpet"
           }
          ],
          "heatmap": [
           {
            "colorbar": {
             "outlinewidth": 0,
             "ticks": ""
            },
            "colorscale": [
             [
              0,
              "#0d0887"
             ],
             [
              0.1111111111111111,
              "#46039f"
             ],
             [
              0.2222222222222222,
              "#7201a8"
             ],
             [
              0.3333333333333333,
              "#9c179e"
             ],
             [
              0.4444444444444444,
              "#bd3786"
             ],
             [
              0.5555555555555556,
              "#d8576b"
             ],
             [
              0.6666666666666666,
              "#ed7953"
             ],
             [
              0.7777777777777778,
              "#fb9f3a"
             ],
             [
              0.8888888888888888,
              "#fdca26"
             ],
             [
              1,
              "#f0f921"
             ]
            ],
            "type": "heatmap"
           }
          ],
          "heatmapgl": [
           {
            "colorbar": {
             "outlinewidth": 0,
             "ticks": ""
            },
            "colorscale": [
             [
              0,
              "#0d0887"
             ],
             [
              0.1111111111111111,
              "#46039f"
             ],
             [
              0.2222222222222222,
              "#7201a8"
             ],
             [
              0.3333333333333333,
              "#9c179e"
             ],
             [
              0.4444444444444444,
              "#bd3786"
             ],
             [
              0.5555555555555556,
              "#d8576b"
             ],
             [
              0.6666666666666666,
              "#ed7953"
             ],
             [
              0.7777777777777778,
              "#fb9f3a"
             ],
             [
              0.8888888888888888,
              "#fdca26"
             ],
             [
              1,
              "#f0f921"
             ]
            ],
            "type": "heatmapgl"
           }
          ],
          "histogram": [
           {
            "marker": {
             "colorbar": {
              "outlinewidth": 0,
              "ticks": ""
             }
            },
            "type": "histogram"
           }
          ],
          "histogram2d": [
           {
            "colorbar": {
             "outlinewidth": 0,
             "ticks": ""
            },
            "colorscale": [
             [
              0,
              "#0d0887"
             ],
             [
              0.1111111111111111,
              "#46039f"
             ],
             [
              0.2222222222222222,
              "#7201a8"
             ],
             [
              0.3333333333333333,
              "#9c179e"
             ],
             [
              0.4444444444444444,
              "#bd3786"
             ],
             [
              0.5555555555555556,
              "#d8576b"
             ],
             [
              0.6666666666666666,
              "#ed7953"
             ],
             [
              0.7777777777777778,
              "#fb9f3a"
             ],
             [
              0.8888888888888888,
              "#fdca26"
             ],
             [
              1,
              "#f0f921"
             ]
            ],
            "type": "histogram2d"
           }
          ],
          "histogram2dcontour": [
           {
            "colorbar": {
             "outlinewidth": 0,
             "ticks": ""
            },
            "colorscale": [
             [
              0,
              "#0d0887"
             ],
             [
              0.1111111111111111,
              "#46039f"
             ],
             [
              0.2222222222222222,
              "#7201a8"
             ],
             [
              0.3333333333333333,
              "#9c179e"
             ],
             [
              0.4444444444444444,
              "#bd3786"
             ],
             [
              0.5555555555555556,
              "#d8576b"
             ],
             [
              0.6666666666666666,
              "#ed7953"
             ],
             [
              0.7777777777777778,
              "#fb9f3a"
             ],
             [
              0.8888888888888888,
              "#fdca26"
             ],
             [
              1,
              "#f0f921"
             ]
            ],
            "type": "histogram2dcontour"
           }
          ],
          "mesh3d": [
           {
            "colorbar": {
             "outlinewidth": 0,
             "ticks": ""
            },
            "type": "mesh3d"
           }
          ],
          "parcoords": [
           {
            "line": {
             "colorbar": {
              "outlinewidth": 0,
              "ticks": ""
             }
            },
            "type": "parcoords"
           }
          ],
          "pie": [
           {
            "automargin": true,
            "type": "pie"
           }
          ],
          "scatter": [
           {
            "marker": {
             "colorbar": {
              "outlinewidth": 0,
              "ticks": ""
             }
            },
            "type": "scatter"
           }
          ],
          "scatter3d": [
           {
            "line": {
             "colorbar": {
              "outlinewidth": 0,
              "ticks": ""
             }
            },
            "marker": {
             "colorbar": {
              "outlinewidth": 0,
              "ticks": ""
             }
            },
            "type": "scatter3d"
           }
          ],
          "scattercarpet": [
           {
            "marker": {
             "colorbar": {
              "outlinewidth": 0,
              "ticks": ""
             }
            },
            "type": "scattercarpet"
           }
          ],
          "scattergeo": [
           {
            "marker": {
             "colorbar": {
              "outlinewidth": 0,
              "ticks": ""
             }
            },
            "type": "scattergeo"
           }
          ],
          "scattergl": [
           {
            "marker": {
             "colorbar": {
              "outlinewidth": 0,
              "ticks": ""
             }
            },
            "type": "scattergl"
           }
          ],
          "scattermapbox": [
           {
            "marker": {
             "colorbar": {
              "outlinewidth": 0,
              "ticks": ""
             }
            },
            "type": "scattermapbox"
           }
          ],
          "scatterpolar": [
           {
            "marker": {
             "colorbar": {
              "outlinewidth": 0,
              "ticks": ""
             }
            },
            "type": "scatterpolar"
           }
          ],
          "scatterpolargl": [
           {
            "marker": {
             "colorbar": {
              "outlinewidth": 0,
              "ticks": ""
             }
            },
            "type": "scatterpolargl"
           }
          ],
          "scatterternary": [
           {
            "marker": {
             "colorbar": {
              "outlinewidth": 0,
              "ticks": ""
             }
            },
            "type": "scatterternary"
           }
          ],
          "surface": [
           {
            "colorbar": {
             "outlinewidth": 0,
             "ticks": ""
            },
            "colorscale": [
             [
              0,
              "#0d0887"
             ],
             [
              0.1111111111111111,
              "#46039f"
             ],
             [
              0.2222222222222222,
              "#7201a8"
             ],
             [
              0.3333333333333333,
              "#9c179e"
             ],
             [
              0.4444444444444444,
              "#bd3786"
             ],
             [
              0.5555555555555556,
              "#d8576b"
             ],
             [
              0.6666666666666666,
              "#ed7953"
             ],
             [
              0.7777777777777778,
              "#fb9f3a"
             ],
             [
              0.8888888888888888,
              "#fdca26"
             ],
             [
              1,
              "#f0f921"
             ]
            ],
            "type": "surface"
           }
          ],
          "table": [
           {
            "cells": {
             "fill": {
              "color": "#EBF0F8"
             },
             "line": {
              "color": "white"
             }
            },
            "header": {
             "fill": {
              "color": "#C8D4E3"
             },
             "line": {
              "color": "white"
             }
            },
            "type": "table"
           }
          ]
         },
         "layout": {
          "annotationdefaults": {
           "arrowcolor": "#2a3f5f",
           "arrowhead": 0,
           "arrowwidth": 1
          },
          "coloraxis": {
           "colorbar": {
            "outlinewidth": 0,
            "ticks": ""
           }
          },
          "colorscale": {
           "diverging": [
            [
             0,
             "#8e0152"
            ],
            [
             0.1,
             "#c51b7d"
            ],
            [
             0.2,
             "#de77ae"
            ],
            [
             0.3,
             "#f1b6da"
            ],
            [
             0.4,
             "#fde0ef"
            ],
            [
             0.5,
             "#f7f7f7"
            ],
            [
             0.6,
             "#e6f5d0"
            ],
            [
             0.7,
             "#b8e186"
            ],
            [
             0.8,
             "#7fbc41"
            ],
            [
             0.9,
             "#4d9221"
            ],
            [
             1,
             "#276419"
            ]
           ],
           "sequential": [
            [
             0,
             "#0d0887"
            ],
            [
             0.1111111111111111,
             "#46039f"
            ],
            [
             0.2222222222222222,
             "#7201a8"
            ],
            [
             0.3333333333333333,
             "#9c179e"
            ],
            [
             0.4444444444444444,
             "#bd3786"
            ],
            [
             0.5555555555555556,
             "#d8576b"
            ],
            [
             0.6666666666666666,
             "#ed7953"
            ],
            [
             0.7777777777777778,
             "#fb9f3a"
            ],
            [
             0.8888888888888888,
             "#fdca26"
            ],
            [
             1,
             "#f0f921"
            ]
           ],
           "sequentialminus": [
            [
             0,
             "#0d0887"
            ],
            [
             0.1111111111111111,
             "#46039f"
            ],
            [
             0.2222222222222222,
             "#7201a8"
            ],
            [
             0.3333333333333333,
             "#9c179e"
            ],
            [
             0.4444444444444444,
             "#bd3786"
            ],
            [
             0.5555555555555556,
             "#d8576b"
            ],
            [
             0.6666666666666666,
             "#ed7953"
            ],
            [
             0.7777777777777778,
             "#fb9f3a"
            ],
            [
             0.8888888888888888,
             "#fdca26"
            ],
            [
             1,
             "#f0f921"
            ]
           ]
          },
          "colorway": [
           "#636efa",
           "#EF553B",
           "#00cc96",
           "#ab63fa",
           "#FFA15A",
           "#19d3f3",
           "#FF6692",
           "#B6E880",
           "#FF97FF",
           "#FECB52"
          ],
          "font": {
           "color": "#2a3f5f"
          },
          "geo": {
           "bgcolor": "white",
           "lakecolor": "white",
           "landcolor": "#E5ECF6",
           "showlakes": true,
           "showland": true,
           "subunitcolor": "white"
          },
          "hoverlabel": {
           "align": "left"
          },
          "hovermode": "closest",
          "mapbox": {
           "style": "light"
          },
          "paper_bgcolor": "white",
          "plot_bgcolor": "#E5ECF6",
          "polar": {
           "angularaxis": {
            "gridcolor": "white",
            "linecolor": "white",
            "ticks": ""
           },
           "bgcolor": "#E5ECF6",
           "radialaxis": {
            "gridcolor": "white",
            "linecolor": "white",
            "ticks": ""
           }
          },
          "scene": {
           "xaxis": {
            "backgroundcolor": "#E5ECF6",
            "gridcolor": "white",
            "gridwidth": 2,
            "linecolor": "white",
            "showbackground": true,
            "ticks": "",
            "zerolinecolor": "white"
           },
           "yaxis": {
            "backgroundcolor": "#E5ECF6",
            "gridcolor": "white",
            "gridwidth": 2,
            "linecolor": "white",
            "showbackground": true,
            "ticks": "",
            "zerolinecolor": "white"
           },
           "zaxis": {
            "backgroundcolor": "#E5ECF6",
            "gridcolor": "white",
            "gridwidth": 2,
            "linecolor": "white",
            "showbackground": true,
            "ticks": "",
            "zerolinecolor": "white"
           }
          },
          "shapedefaults": {
           "line": {
            "color": "#2a3f5f"
           }
          },
          "ternary": {
           "aaxis": {
            "gridcolor": "white",
            "linecolor": "white",
            "ticks": ""
           },
           "baxis": {
            "gridcolor": "white",
            "linecolor": "white",
            "ticks": ""
           },
           "bgcolor": "#E5ECF6",
           "caxis": {
            "gridcolor": "white",
            "linecolor": "white",
            "ticks": ""
           }
          },
          "title": {
           "x": 0.05
          },
          "xaxis": {
           "automargin": true,
           "gridcolor": "white",
           "linecolor": "white",
           "ticks": "",
           "title": {
            "standoff": 15
           },
           "zerolinecolor": "white",
           "zerolinewidth": 2
          },
          "yaxis": {
           "automargin": true,
           "gridcolor": "white",
           "linecolor": "white",
           "ticks": "",
           "title": {
            "standoff": 15
           },
           "zerolinecolor": "white",
           "zerolinewidth": 2
          }
         }
        },
        "title": {
         "text": "Gradient Boosting Model Feature Importance"
        },
        "xaxis": {
         "showgrid": false,
         "showline": false,
         "ticklen": 5,
         "zeroline": false
        },
        "yaxis": {
         "gridwidth": 2,
         "showgrid": false,
         "ticklen": 5,
         "title": {
          "text": "Feature Importance"
         },
         "zeroline": false
        }
       }
      },
      "text/html": [
       "<div>\n",
       "        \n",
       "        \n",
       "            <div id=\"a4daead4-a898-4a9a-a061-f7717945b01d\" class=\"plotly-graph-div\" style=\"height:525px; width:100%;\"></div>\n",
       "            <script type=\"text/javascript\">\n",
       "                require([\"plotly\"], function(Plotly) {\n",
       "                    window.PLOTLYENV=window.PLOTLYENV || {};\n",
       "                    \n",
       "                if (document.getElementById(\"a4daead4-a898-4a9a-a061-f7717945b01d\")) {\n",
       "                    Plotly.newPlot(\n",
       "                        'a4daead4-a898-4a9a-a061-f7717945b01d',\n",
       "                        [{\"marker\": {\"color\": [0.027599371849275536, 0.35082758251684226, 0.018835924253140894, 0.04105585603556013, 0.02748795202863634, 0.044283422160443786, 0.044943904764815995, 0.06804987091219557, 0.025186619526230327, 0.0037584695852853076, 0.039354319446303354, 0.0033743029167263177, 0.009516946887313693, 0.006077528424439161, 0.0006609069149542929, 0.0008313574962419203, 0.005839831375170731, 0.0013006043424935029, 0.00027450617598991995, 0.011748963272177686, 0.0009190646767324385, 0.0001630502936066417, 0.009904090429640211, 0.008825225149203685, 0.001577305593142174, 1.2264631419111524e-05, 0.0007296722185060304, 0.0002947681403921707, 0.0004276304565556064, 0.008008782964705327, 0.02240107808807347, 0.014680441179959694, 0.002231521640298807, 0.006134811366701461, 0.0035701994628565647, 0.00041636751986262447, 0.0012695449504281095, 3.1769395349084186e-05, 6.2903977537962e-05, 0.012503961593110367, 0.014218523057144857, 0.015565456774819016, 0.005262974266358559, 0.0017989154905631946, 0.0077124145044919915, 3.0127104210579434e-06, 2.198057023536812e-05, 0.00010273390728855155, 0.04106156423663447, 0.019787977919255885, 0.0022133334080066906, 0.017989333707556118, 0.04908908483490621], \"colorscale\": [[0.0, \"rgb(12,51,131)\"], [0.25, \"rgb(10,136,186)\"], [0.5, \"rgb(242,211,56)\"], [0.75, \"rgb(242,143,56)\"], [1.0, \"rgb(217,30,30)\"]], \"showscale\": true, \"size\": 13, \"sizemode\": \"diameter\", \"sizeref\": 1}, \"mode\": \"markers\", \"text\": [\"Aspect(degrees)\", \"Elevation(meters)\", \"Hillshade_3pm\", \"Hillshade_9am\", \"Hillshade_Noon\", \"Horizontal_Distance_To_Fire_Points(meters)\", \"Horizontal_Distance_To_Hydrology(meters)\", \"Horizontal_Distance_To_Roadways(meters)\", \"Slope(degrees)\", \"Soil_Type_1\", \"Soil_Type_10\", \"Soil_Type_11\", \"Soil_Type_12\", \"Soil_Type_13\", \"Soil_Type_14\", \"Soil_Type_16\", \"Soil_Type_17\", \"Soil_Type_18\", \"Soil_Type_19\", \"Soil_Type_2\", \"Soil_Type_20\", \"Soil_Type_21\", \"Soil_Type_22\", \"Soil_Type_23\", \"Soil_Type_24\", \"Soil_Type_25\", \"Soil_Type_26\", \"Soil_Type_27\", \"Soil_Type_28\", \"Soil_Type_29\", \"Soil_Type_3\", \"Soil_Type_30\", \"Soil_Type_31\", \"Soil_Type_32\", \"Soil_Type_33\", \"Soil_Type_34\", \"Soil_Type_35\", \"Soil_Type_36\", \"Soil_Type_37\", \"Soil_Type_38\", \"Soil_Type_39\", \"Soil_Type_4\", \"Soil_Type_40\", \"Soil_Type_5\", \"Soil_Type_6\", \"Soil_Type_7\", \"Soil_Type_8\", \"Soil_Type_9\", \"Vertical_Distance_To_Hydrology(meters)\", \"Wilderness_Area_1\", \"Wilderness_Area_2\", \"Wilderness_Area_3\", \"Wilderness_Area_4\"], \"type\": \"scatter\", \"x\": [\"Aspect(degrees)\", \"Elevation(meters)\", \"Hillshade_3pm\", \"Hillshade_9am\", \"Hillshade_Noon\", \"Horizontal_Distance_To_Fire_Points(meters)\", \"Horizontal_Distance_To_Hydrology(meters)\", \"Horizontal_Distance_To_Roadways(meters)\", \"Slope(degrees)\", \"Soil_Type_1\", \"Soil_Type_10\", \"Soil_Type_11\", \"Soil_Type_12\", \"Soil_Type_13\", \"Soil_Type_14\", \"Soil_Type_16\", \"Soil_Type_17\", \"Soil_Type_18\", \"Soil_Type_19\", \"Soil_Type_2\", \"Soil_Type_20\", \"Soil_Type_21\", \"Soil_Type_22\", \"Soil_Type_23\", \"Soil_Type_24\", \"Soil_Type_25\", \"Soil_Type_26\", \"Soil_Type_27\", \"Soil_Type_28\", \"Soil_Type_29\", \"Soil_Type_3\", \"Soil_Type_30\", \"Soil_Type_31\", \"Soil_Type_32\", \"Soil_Type_33\", \"Soil_Type_34\", \"Soil_Type_35\", \"Soil_Type_36\", \"Soil_Type_37\", \"Soil_Type_38\", \"Soil_Type_39\", \"Soil_Type_4\", \"Soil_Type_40\", \"Soil_Type_5\", \"Soil_Type_6\", \"Soil_Type_7\", \"Soil_Type_8\", \"Soil_Type_9\", \"Vertical_Distance_To_Hydrology(meters)\", \"Wilderness_Area_1\", \"Wilderness_Area_2\", \"Wilderness_Area_3\", \"Wilderness_Area_4\"], \"y\": [0.027599371849275536, 0.35082758251684226, 0.018835924253140894, 0.04105585603556013, 0.02748795202863634, 0.044283422160443786, 0.044943904764815995, 0.06804987091219557, 0.025186619526230327, 0.0037584695852853076, 0.039354319446303354, 0.0033743029167263177, 0.009516946887313693, 0.006077528424439161, 0.0006609069149542929, 0.0008313574962419203, 0.005839831375170731, 0.0013006043424935029, 0.00027450617598991995, 0.011748963272177686, 0.0009190646767324385, 0.0001630502936066417, 0.009904090429640211, 0.008825225149203685, 0.001577305593142174, 1.2264631419111524e-05, 0.0007296722185060304, 0.0002947681403921707, 0.0004276304565556064, 0.008008782964705327, 0.02240107808807347, 0.014680441179959694, 0.002231521640298807, 0.006134811366701461, 0.0035701994628565647, 0.00041636751986262447, 0.0012695449504281095, 3.1769395349084186e-05, 6.2903977537962e-05, 0.012503961593110367, 0.014218523057144857, 0.015565456774819016, 0.005262974266358559, 0.0017989154905631946, 0.0077124145044919915, 3.0127104210579434e-06, 2.198057023536812e-05, 0.00010273390728855155, 0.04106156423663447, 0.019787977919255885, 0.0022133334080066906, 0.017989333707556118, 0.04908908483490621]}],\n",
       "                        {\"autosize\": true, \"hovermode\": \"closest\", \"showlegend\": false, \"template\": {\"data\": {\"bar\": [{\"error_x\": {\"color\": \"#2a3f5f\"}, \"error_y\": {\"color\": \"#2a3f5f\"}, \"marker\": {\"line\": {\"color\": \"#E5ECF6\", \"width\": 0.5}}, \"type\": \"bar\"}], \"barpolar\": [{\"marker\": {\"line\": {\"color\": \"#E5ECF6\", \"width\": 0.5}}, \"type\": \"barpolar\"}], \"carpet\": [{\"aaxis\": {\"endlinecolor\": \"#2a3f5f\", \"gridcolor\": \"white\", \"linecolor\": \"white\", \"minorgridcolor\": \"white\", \"startlinecolor\": \"#2a3f5f\"}, \"baxis\": {\"endlinecolor\": \"#2a3f5f\", \"gridcolor\": \"white\", \"linecolor\": \"white\", \"minorgridcolor\": \"white\", \"startlinecolor\": \"#2a3f5f\"}, \"type\": \"carpet\"}], \"choropleth\": [{\"colorbar\": {\"outlinewidth\": 0, \"ticks\": \"\"}, \"type\": \"choropleth\"}], \"contour\": [{\"colorbar\": {\"outlinewidth\": 0, \"ticks\": \"\"}, \"colorscale\": [[0.0, \"#0d0887\"], [0.1111111111111111, \"#46039f\"], [0.2222222222222222, \"#7201a8\"], [0.3333333333333333, \"#9c179e\"], [0.4444444444444444, \"#bd3786\"], [0.5555555555555556, \"#d8576b\"], [0.6666666666666666, \"#ed7953\"], [0.7777777777777778, \"#fb9f3a\"], [0.8888888888888888, \"#fdca26\"], [1.0, \"#f0f921\"]], \"type\": \"contour\"}], \"contourcarpet\": [{\"colorbar\": {\"outlinewidth\": 0, \"ticks\": \"\"}, \"type\": \"contourcarpet\"}], \"heatmap\": [{\"colorbar\": {\"outlinewidth\": 0, \"ticks\": \"\"}, \"colorscale\": [[0.0, \"#0d0887\"], [0.1111111111111111, \"#46039f\"], [0.2222222222222222, \"#7201a8\"], [0.3333333333333333, \"#9c179e\"], [0.4444444444444444, \"#bd3786\"], [0.5555555555555556, \"#d8576b\"], [0.6666666666666666, \"#ed7953\"], [0.7777777777777778, \"#fb9f3a\"], [0.8888888888888888, \"#fdca26\"], [1.0, \"#f0f921\"]], \"type\": \"heatmap\"}], \"heatmapgl\": [{\"colorbar\": {\"outlinewidth\": 0, \"ticks\": \"\"}, \"colorscale\": [[0.0, \"#0d0887\"], [0.1111111111111111, \"#46039f\"], [0.2222222222222222, \"#7201a8\"], [0.3333333333333333, \"#9c179e\"], [0.4444444444444444, \"#bd3786\"], [0.5555555555555556, \"#d8576b\"], [0.6666666666666666, \"#ed7953\"], [0.7777777777777778, \"#fb9f3a\"], [0.8888888888888888, \"#fdca26\"], [1.0, \"#f0f921\"]], \"type\": \"heatmapgl\"}], \"histogram\": [{\"marker\": {\"colorbar\": {\"outlinewidth\": 0, \"ticks\": \"\"}}, \"type\": \"histogram\"}], \"histogram2d\": [{\"colorbar\": {\"outlinewidth\": 0, \"ticks\": \"\"}, \"colorscale\": [[0.0, \"#0d0887\"], [0.1111111111111111, \"#46039f\"], [0.2222222222222222, \"#7201a8\"], [0.3333333333333333, \"#9c179e\"], [0.4444444444444444, \"#bd3786\"], [0.5555555555555556, \"#d8576b\"], [0.6666666666666666, \"#ed7953\"], [0.7777777777777778, \"#fb9f3a\"], [0.8888888888888888, \"#fdca26\"], [1.0, \"#f0f921\"]], \"type\": \"histogram2d\"}], \"histogram2dcontour\": [{\"colorbar\": {\"outlinewidth\": 0, \"ticks\": \"\"}, \"colorscale\": [[0.0, \"#0d0887\"], [0.1111111111111111, \"#46039f\"], [0.2222222222222222, \"#7201a8\"], [0.3333333333333333, \"#9c179e\"], [0.4444444444444444, \"#bd3786\"], [0.5555555555555556, \"#d8576b\"], [0.6666666666666666, \"#ed7953\"], [0.7777777777777778, \"#fb9f3a\"], [0.8888888888888888, \"#fdca26\"], [1.0, \"#f0f921\"]], \"type\": \"histogram2dcontour\"}], \"mesh3d\": [{\"colorbar\": {\"outlinewidth\": 0, \"ticks\": \"\"}, \"type\": \"mesh3d\"}], \"parcoords\": [{\"line\": {\"colorbar\": {\"outlinewidth\": 0, \"ticks\": \"\"}}, \"type\": \"parcoords\"}], \"pie\": [{\"automargin\": true, \"type\": \"pie\"}], \"scatter\": [{\"marker\": {\"colorbar\": {\"outlinewidth\": 0, \"ticks\": \"\"}}, \"type\": \"scatter\"}], \"scatter3d\": [{\"line\": {\"colorbar\": {\"outlinewidth\": 0, \"ticks\": \"\"}}, \"marker\": {\"colorbar\": {\"outlinewidth\": 0, \"ticks\": \"\"}}, \"type\": \"scatter3d\"}], \"scattercarpet\": [{\"marker\": {\"colorbar\": {\"outlinewidth\": 0, \"ticks\": \"\"}}, \"type\": \"scattercarpet\"}], \"scattergeo\": [{\"marker\": {\"colorbar\": {\"outlinewidth\": 0, \"ticks\": \"\"}}, \"type\": \"scattergeo\"}], \"scattergl\": [{\"marker\": {\"colorbar\": {\"outlinewidth\": 0, \"ticks\": \"\"}}, \"type\": \"scattergl\"}], \"scattermapbox\": [{\"marker\": {\"colorbar\": {\"outlinewidth\": 0, \"ticks\": \"\"}}, \"type\": \"scattermapbox\"}], \"scatterpolar\": [{\"marker\": {\"colorbar\": {\"outlinewidth\": 0, \"ticks\": \"\"}}, \"type\": \"scatterpolar\"}], \"scatterpolargl\": [{\"marker\": {\"colorbar\": {\"outlinewidth\": 0, \"ticks\": \"\"}}, \"type\": \"scatterpolargl\"}], \"scatterternary\": [{\"marker\": {\"colorbar\": {\"outlinewidth\": 0, \"ticks\": \"\"}}, \"type\": \"scatterternary\"}], \"surface\": [{\"colorbar\": {\"outlinewidth\": 0, \"ticks\": \"\"}, \"colorscale\": [[0.0, \"#0d0887\"], [0.1111111111111111, \"#46039f\"], [0.2222222222222222, \"#7201a8\"], [0.3333333333333333, \"#9c179e\"], [0.4444444444444444, \"#bd3786\"], [0.5555555555555556, \"#d8576b\"], [0.6666666666666666, \"#ed7953\"], [0.7777777777777778, \"#fb9f3a\"], [0.8888888888888888, \"#fdca26\"], [1.0, \"#f0f921\"]], \"type\": \"surface\"}], \"table\": [{\"cells\": {\"fill\": {\"color\": \"#EBF0F8\"}, \"line\": {\"color\": \"white\"}}, \"header\": {\"fill\": {\"color\": \"#C8D4E3\"}, \"line\": {\"color\": \"white\"}}, \"type\": \"table\"}]}, \"layout\": {\"annotationdefaults\": {\"arrowcolor\": \"#2a3f5f\", \"arrowhead\": 0, \"arrowwidth\": 1}, \"coloraxis\": {\"colorbar\": {\"outlinewidth\": 0, \"ticks\": \"\"}}, \"colorscale\": {\"diverging\": [[0, \"#8e0152\"], [0.1, \"#c51b7d\"], [0.2, \"#de77ae\"], [0.3, \"#f1b6da\"], [0.4, \"#fde0ef\"], [0.5, \"#f7f7f7\"], [0.6, \"#e6f5d0\"], [0.7, \"#b8e186\"], [0.8, \"#7fbc41\"], [0.9, \"#4d9221\"], [1, \"#276419\"]], \"sequential\": [[0.0, \"#0d0887\"], [0.1111111111111111, \"#46039f\"], [0.2222222222222222, \"#7201a8\"], [0.3333333333333333, \"#9c179e\"], [0.4444444444444444, \"#bd3786\"], [0.5555555555555556, \"#d8576b\"], [0.6666666666666666, \"#ed7953\"], [0.7777777777777778, \"#fb9f3a\"], [0.8888888888888888, \"#fdca26\"], [1.0, \"#f0f921\"]], \"sequentialminus\": [[0.0, \"#0d0887\"], [0.1111111111111111, \"#46039f\"], [0.2222222222222222, \"#7201a8\"], [0.3333333333333333, \"#9c179e\"], [0.4444444444444444, \"#bd3786\"], [0.5555555555555556, \"#d8576b\"], [0.6666666666666666, \"#ed7953\"], [0.7777777777777778, \"#fb9f3a\"], [0.8888888888888888, \"#fdca26\"], [1.0, \"#f0f921\"]]}, \"colorway\": [\"#636efa\", \"#EF553B\", \"#00cc96\", \"#ab63fa\", \"#FFA15A\", \"#19d3f3\", \"#FF6692\", \"#B6E880\", \"#FF97FF\", \"#FECB52\"], \"font\": {\"color\": \"#2a3f5f\"}, \"geo\": {\"bgcolor\": \"white\", \"lakecolor\": \"white\", \"landcolor\": \"#E5ECF6\", \"showlakes\": true, \"showland\": true, \"subunitcolor\": \"white\"}, \"hoverlabel\": {\"align\": \"left\"}, \"hovermode\": \"closest\", \"mapbox\": {\"style\": \"light\"}, \"paper_bgcolor\": \"white\", \"plot_bgcolor\": \"#E5ECF6\", \"polar\": {\"angularaxis\": {\"gridcolor\": \"white\", \"linecolor\": \"white\", \"ticks\": \"\"}, \"bgcolor\": \"#E5ECF6\", \"radialaxis\": {\"gridcolor\": \"white\", \"linecolor\": \"white\", \"ticks\": \"\"}}, \"scene\": {\"xaxis\": {\"backgroundcolor\": \"#E5ECF6\", \"gridcolor\": \"white\", \"gridwidth\": 2, \"linecolor\": \"white\", \"showbackground\": true, \"ticks\": \"\", \"zerolinecolor\": \"white\"}, \"yaxis\": {\"backgroundcolor\": \"#E5ECF6\", \"gridcolor\": \"white\", \"gridwidth\": 2, \"linecolor\": \"white\", \"showbackground\": true, \"ticks\": \"\", \"zerolinecolor\": \"white\"}, \"zaxis\": {\"backgroundcolor\": \"#E5ECF6\", \"gridcolor\": \"white\", \"gridwidth\": 2, \"linecolor\": \"white\", \"showbackground\": true, \"ticks\": \"\", \"zerolinecolor\": \"white\"}}, \"shapedefaults\": {\"line\": {\"color\": \"#2a3f5f\"}}, \"ternary\": {\"aaxis\": {\"gridcolor\": \"white\", \"linecolor\": \"white\", \"ticks\": \"\"}, \"baxis\": {\"gridcolor\": \"white\", \"linecolor\": \"white\", \"ticks\": \"\"}, \"bgcolor\": \"#E5ECF6\", \"caxis\": {\"gridcolor\": \"white\", \"linecolor\": \"white\", \"ticks\": \"\"}}, \"title\": {\"x\": 0.05}, \"xaxis\": {\"automargin\": true, \"gridcolor\": \"white\", \"linecolor\": \"white\", \"ticks\": \"\", \"title\": {\"standoff\": 15}, \"zerolinecolor\": \"white\", \"zerolinewidth\": 2}, \"yaxis\": {\"automargin\": true, \"gridcolor\": \"white\", \"linecolor\": \"white\", \"ticks\": \"\", \"title\": {\"standoff\": 15}, \"zerolinecolor\": \"white\", \"zerolinewidth\": 2}}}, \"title\": {\"text\": \"Gradient Boosting Model Feature Importance\"}, \"xaxis\": {\"showgrid\": false, \"showline\": false, \"ticklen\": 5, \"zeroline\": false}, \"yaxis\": {\"gridwidth\": 2, \"showgrid\": false, \"ticklen\": 5, \"title\": {\"text\": \"Feature Importance\"}, \"zeroline\": false}},\n",
       "                        {\"responsive\": true}\n",
       "                    ).then(function(){\n",
       "                            \n",
       "var gd = document.getElementById('a4daead4-a898-4a9a-a061-f7717945b01d');\n",
       "var x = new MutationObserver(function (mutations, observer) {{\n",
       "        var display = window.getComputedStyle(gd).display;\n",
       "        if (!display || display === 'none') {{\n",
       "            console.log([gd, 'removed!']);\n",
       "            Plotly.purge(gd);\n",
       "            observer.disconnect();\n",
       "        }}\n",
       "}});\n",
       "\n",
       "// Listen for the removal of the full notebook cells\n",
       "var notebookContainer = gd.closest('#notebook-container');\n",
       "if (notebookContainer) {{\n",
       "    x.observe(notebookContainer, {childList: true});\n",
       "}}\n",
       "\n",
       "// Listen for the clearing of the current output cell\n",
       "var outputEl = gd.closest('.output');\n",
       "if (outputEl) {{\n",
       "    x.observe(outputEl, {childList: true});\n",
       "}}\n",
       "\n",
       "                        })\n",
       "                };\n",
       "                });\n",
       "            </script>\n",
       "        </div>"
      ]
     },
     "metadata": {},
     "output_type": "display_data"
    }
   ],
   "source": [
    "# Scatter plot \n",
    "trace = go.Scatter(\n",
    "    y = GB.feature_importances_,\n",
    "    x = train_f.columns.values,\n",
    "    mode='markers',\n",
    "    marker=dict(\n",
    "        sizemode = 'diameter',\n",
    "        sizeref = 1,\n",
    "        size = 13,\n",
    "        color = GB.feature_importances_,\n",
    "        colorscale='Portland',\n",
    "        showscale=True\n",
    "    ),\n",
    "    text = train_f.columns.values\n",
    ")\n",
    "data = [trace]\n",
    "\n",
    "layout= go.Layout(\n",
    "    autosize= True,\n",
    "    title= 'Gradient Boosting Model Feature Importance',\n",
    "    hovermode= 'closest',\n",
    "     xaxis= dict(\n",
    "         ticklen= 5,\n",
    "         showgrid=False,\n",
    "        zeroline=False,\n",
    "        showline=False\n",
    "     ),\n",
    "    yaxis=dict(\n",
    "        title= 'Feature Importance',\n",
    "        showgrid=False,\n",
    "        zeroline=False,\n",
    "        ticklen= 5,\n",
    "        gridwidth= 2\n",
    "    ),\n",
    "    showlegend= False\n",
    ")\n",
    "fig = go.Figure(data=data, layout=layout)\n",
    "py.iplot(fig,filename='scatter')"
   ]
  },
  {
   "cell_type": "code",
   "execution_count": 99,
   "metadata": {},
   "outputs": [
    {
     "data": {
      "text/html": [
       "<div>\n",
       "<style scoped>\n",
       "    .dataframe tbody tr th:only-of-type {\n",
       "        vertical-align: middle;\n",
       "    }\n",
       "\n",
       "    .dataframe tbody tr th {\n",
       "        vertical-align: top;\n",
       "    }\n",
       "\n",
       "    .dataframe thead th {\n",
       "        text-align: right;\n",
       "    }\n",
       "</style>\n",
       "<table border=\"1\" class=\"dataframe\">\n",
       "  <thead>\n",
       "    <tr style=\"text-align: right;\">\n",
       "      <th></th>\n",
       "      <th>re</th>\n",
       "    </tr>\n",
       "  </thead>\n",
       "  <tbody>\n",
       "    <tr>\n",
       "      <th>0</th>\n",
       "      <td>5</td>\n",
       "    </tr>\n",
       "    <tr>\n",
       "      <th>1</th>\n",
       "      <td>1</td>\n",
       "    </tr>\n",
       "    <tr>\n",
       "      <th>2</th>\n",
       "      <td>6</td>\n",
       "    </tr>\n",
       "    <tr>\n",
       "      <th>3</th>\n",
       "      <td>2</td>\n",
       "    </tr>\n",
       "    <tr>\n",
       "      <th>4</th>\n",
       "      <td>5</td>\n",
       "    </tr>\n",
       "    <tr>\n",
       "      <th>...</th>\n",
       "      <td>...</td>\n",
       "    </tr>\n",
       "    <tr>\n",
       "      <th>551957</th>\n",
       "      <td>7</td>\n",
       "    </tr>\n",
       "    <tr>\n",
       "      <th>551958</th>\n",
       "      <td>7</td>\n",
       "    </tr>\n",
       "    <tr>\n",
       "      <th>551959</th>\n",
       "      <td>2</td>\n",
       "    </tr>\n",
       "    <tr>\n",
       "      <th>551960</th>\n",
       "      <td>7</td>\n",
       "    </tr>\n",
       "    <tr>\n",
       "      <th>551961</th>\n",
       "      <td>5</td>\n",
       "    </tr>\n",
       "  </tbody>\n",
       "</table>\n",
       "<p>551962 rows × 1 columns</p>\n",
       "</div>"
      ],
      "text/plain": [
       "        re\n",
       "0        5\n",
       "1        1\n",
       "2        6\n",
       "3        2\n",
       "4        5\n",
       "...     ..\n",
       "551957   7\n",
       "551958   7\n",
       "551959   2\n",
       "551960   7\n",
       "551961   5\n",
       "\n",
       "[551962 rows x 1 columns]"
      ]
     },
     "execution_count": 99,
     "metadata": {},
     "output_type": "execute_result"
    }
   ],
   "source": [
    "Prediction_GB = pd.DataFrame(predictions,columns=['re'])\n",
    "Prediction_GB"
   ]
  },
  {
   "cell_type": "code",
   "execution_count": 96,
   "metadata": {},
   "outputs": [],
   "source": [
    "prob = GB.predict_proba(test_f)"
   ]
  },
  {
   "cell_type": "code",
   "execution_count": 100,
   "metadata": {},
   "outputs": [
    {
     "data": {
      "text/html": [
       "<div>\n",
       "<style scoped>\n",
       "    .dataframe tbody tr th:only-of-type {\n",
       "        vertical-align: middle;\n",
       "    }\n",
       "\n",
       "    .dataframe tbody tr th {\n",
       "        vertical-align: top;\n",
       "    }\n",
       "\n",
       "    .dataframe thead th {\n",
       "        text-align: right;\n",
       "    }\n",
       "</style>\n",
       "<table border=\"1\" class=\"dataframe\">\n",
       "  <thead>\n",
       "    <tr style=\"text-align: right;\">\n",
       "      <th></th>\n",
       "      <th>1</th>\n",
       "      <th>2</th>\n",
       "      <th>3</th>\n",
       "      <th>4</th>\n",
       "      <th>5</th>\n",
       "      <th>6</th>\n",
       "      <th>7</th>\n",
       "    </tr>\n",
       "  </thead>\n",
       "  <tbody>\n",
       "    <tr>\n",
       "      <th>0</th>\n",
       "      <td>0.000260</td>\n",
       "      <td>0.007959</td>\n",
       "      <td>0.000897</td>\n",
       "      <td>0.000067</td>\n",
       "      <td>0.937849</td>\n",
       "      <td>0.001055</td>\n",
       "      <td>0.051913</td>\n",
       "    </tr>\n",
       "    <tr>\n",
       "      <th>1</th>\n",
       "      <td>0.927899</td>\n",
       "      <td>0.001202</td>\n",
       "      <td>0.000351</td>\n",
       "      <td>0.000038</td>\n",
       "      <td>0.007677</td>\n",
       "      <td>0.000774</td>\n",
       "      <td>0.062059</td>\n",
       "    </tr>\n",
       "    <tr>\n",
       "      <th>2</th>\n",
       "      <td>0.000378</td>\n",
       "      <td>0.056424</td>\n",
       "      <td>0.022101</td>\n",
       "      <td>0.000104</td>\n",
       "      <td>0.442165</td>\n",
       "      <td>0.469208</td>\n",
       "      <td>0.009621</td>\n",
       "    </tr>\n",
       "    <tr>\n",
       "      <th>3</th>\n",
       "      <td>0.000942</td>\n",
       "      <td>0.588684</td>\n",
       "      <td>0.006545</td>\n",
       "      <td>0.000224</td>\n",
       "      <td>0.325728</td>\n",
       "      <td>0.006099</td>\n",
       "      <td>0.071777</td>\n",
       "    </tr>\n",
       "    <tr>\n",
       "      <th>4</th>\n",
       "      <td>0.001377</td>\n",
       "      <td>0.078159</td>\n",
       "      <td>0.006884</td>\n",
       "      <td>0.000423</td>\n",
       "      <td>0.702362</td>\n",
       "      <td>0.029970</td>\n",
       "      <td>0.180825</td>\n",
       "    </tr>\n",
       "    <tr>\n",
       "      <th>...</th>\n",
       "      <td>...</td>\n",
       "      <td>...</td>\n",
       "      <td>...</td>\n",
       "      <td>...</td>\n",
       "      <td>...</td>\n",
       "      <td>...</td>\n",
       "      <td>...</td>\n",
       "    </tr>\n",
       "    <tr>\n",
       "      <th>551957</th>\n",
       "      <td>0.152662</td>\n",
       "      <td>0.004467</td>\n",
       "      <td>0.002043</td>\n",
       "      <td>0.000163</td>\n",
       "      <td>0.395003</td>\n",
       "      <td>0.002297</td>\n",
       "      <td>0.443366</td>\n",
       "    </tr>\n",
       "    <tr>\n",
       "      <th>551958</th>\n",
       "      <td>0.070290</td>\n",
       "      <td>0.004278</td>\n",
       "      <td>0.001940</td>\n",
       "      <td>0.000087</td>\n",
       "      <td>0.161091</td>\n",
       "      <td>0.001752</td>\n",
       "      <td>0.760562</td>\n",
       "    </tr>\n",
       "    <tr>\n",
       "      <th>551959</th>\n",
       "      <td>0.000342</td>\n",
       "      <td>0.821627</td>\n",
       "      <td>0.002650</td>\n",
       "      <td>0.000115</td>\n",
       "      <td>0.117419</td>\n",
       "      <td>0.002194</td>\n",
       "      <td>0.055651</td>\n",
       "    </tr>\n",
       "    <tr>\n",
       "      <th>551960</th>\n",
       "      <td>0.000464</td>\n",
       "      <td>0.002500</td>\n",
       "      <td>0.002091</td>\n",
       "      <td>0.000085</td>\n",
       "      <td>0.416982</td>\n",
       "      <td>0.001789</td>\n",
       "      <td>0.576089</td>\n",
       "    </tr>\n",
       "    <tr>\n",
       "      <th>551961</th>\n",
       "      <td>0.001094</td>\n",
       "      <td>0.221695</td>\n",
       "      <td>0.011544</td>\n",
       "      <td>0.000253</td>\n",
       "      <td>0.659244</td>\n",
       "      <td>0.008286</td>\n",
       "      <td>0.097883</td>\n",
       "    </tr>\n",
       "  </tbody>\n",
       "</table>\n",
       "<p>551962 rows × 7 columns</p>\n",
       "</div>"
      ],
      "text/plain": [
       "               1         2         3         4         5         6         7\n",
       "0       0.000260  0.007959  0.000897  0.000067  0.937849  0.001055  0.051913\n",
       "1       0.927899  0.001202  0.000351  0.000038  0.007677  0.000774  0.062059\n",
       "2       0.000378  0.056424  0.022101  0.000104  0.442165  0.469208  0.009621\n",
       "3       0.000942  0.588684  0.006545  0.000224  0.325728  0.006099  0.071777\n",
       "4       0.001377  0.078159  0.006884  0.000423  0.702362  0.029970  0.180825\n",
       "...          ...       ...       ...       ...       ...       ...       ...\n",
       "551957  0.152662  0.004467  0.002043  0.000163  0.395003  0.002297  0.443366\n",
       "551958  0.070290  0.004278  0.001940  0.000087  0.161091  0.001752  0.760562\n",
       "551959  0.000342  0.821627  0.002650  0.000115  0.117419  0.002194  0.055651\n",
       "551960  0.000464  0.002500  0.002091  0.000085  0.416982  0.001789  0.576089\n",
       "551961  0.001094  0.221695  0.011544  0.000253  0.659244  0.008286  0.097883\n",
       "\n",
       "[551962 rows x 7 columns]"
      ]
     },
     "execution_count": 100,
     "metadata": {},
     "output_type": "execute_result"
    }
   ],
   "source": [
    "result = pd.DataFrame(prob,columns=[1,2,3,4,5,6,7])\n",
    "result"
   ]
  },
  {
   "cell_type": "code",
   "execution_count": 106,
   "metadata": {},
   "outputs": [],
   "source": [
    "result.to_csv('E:\\project\\submission.csv',index=False,header=True)"
   ]
  },
  {
   "cell_type": "code",
   "execution_count": null,
   "metadata": {},
   "outputs": [],
   "source": []
  }
 ],
 "metadata": {
  "kernelspec": {
   "display_name": "Python 3",
   "language": "python",
   "name": "python3"
  },
  "language_info": {
   "codemirror_mode": {
    "name": "ipython",
    "version": 3
   },
   "file_extension": ".py",
   "mimetype": "text/x-python",
   "name": "python",
   "nbconvert_exporter": "python",
   "pygments_lexer": "ipython3",
   "version": "3.7.6"
  }
 },
 "nbformat": 4,
 "nbformat_minor": 4
}
